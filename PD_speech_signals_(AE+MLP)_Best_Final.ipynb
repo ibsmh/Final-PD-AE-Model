{
  "cells": [
    {
      "cell_type": "code",
      "execution_count": null,
      "metadata": {
        "id": "E1rVdcQ-1zXD"
      },
      "outputs": [],
      "source": [
        "import numpy as np\n",
        "import pandas as pd\n",
        "import matplotlib.pyplot as plt\n",
        "%matplotlib inline\n",
        "import seaborn as sns\n",
        "from google.colab import files\n",
        "from google.colab import drive\n",
        "import os\n",
        "from glob import glob\n",
        "import pandas as pd\n",
        "import numpy as np\n",
        "import matplotlib.pyplot as plt\n",
        "import seaborn as sns\n",
        "from sklearn import metrics\n",
        "from sklearn.model_selection import StratifiedKFold\n",
        "from sklearn.model_selection import cross_val_score\n",
        "from sklearn.metrics import classification_report\n",
        "from sklearn.metrics import accuracy_score\n",
        "from sklearn.model_selection import train_test_split\n",
        "from sklearn import metrics\n",
        "from sklearn.metrics import confusion_matrix\n",
        "from sklearn.datasets import make_classification\n",
        "import warnings\n",
        "warnings.filterwarnings('ignore')"
      ]
    },
    {
      "cell_type": "code",
      "execution_count": null,
      "metadata": {
        "colab": {
          "base_uri": "https://localhost:8080/"
        },
        "id": "x1kLCZcH2n5c",
        "outputId": "c2044a20-679d-44f2-90db-7b9b12e819c7"
      },
      "outputs": [
        {
          "output_type": "stream",
          "name": "stdout",
          "text": [
            "Drive already mounted at /content/drive; to attempt to forcibly remount, call drive.mount(\"/content/drive\", force_remount=True).\n"
          ]
        }
      ],
      "source": [
        "drive.mount('/content/drive')"
      ]
    },
    {
      "cell_type": "code",
      "execution_count": null,
      "metadata": {
        "id": "-pK22aMy2wgk"
      },
      "outputs": [],
      "source": [
        "df =pd.read_csv('/content/drive/MyDrive/Project-code-2023/EXP-wav/data/EXT_data.csv')\n"
      ]
    },
    {
      "cell_type": "code",
      "execution_count": null,
      "metadata": {
        "colab": {
          "base_uri": "https://localhost:8080/",
          "height": 299
        },
        "id": "M-_epIxau5bD",
        "outputId": "36b7dd69-8771-4272-e204-958239dad481"
      },
      "outputs": [
        {
          "output_type": "execute_result",
          "data": {
            "text/plain": [
              "      f0_mean  f0_std_deviation        hnr  jitter_relative  jitter_absolute  \\\n",
              "0  183.529521         61.706883  12.861531         0.027656         0.000152   \n",
              "1  191.411023         37.924675  11.191856         0.016322         0.000085   \n",
              "2  124.404377         30.757396  12.064737         0.021813         0.000176   \n",
              "3  129.460489         51.693216  13.403747         0.026465         0.000208   \n",
              "4  117.594896         60.504173  10.182373         0.039906         0.000150   \n",
              "\n",
              "   jitter_rap  jitter_ppq5  shimmer_relative  shimmer_localDb  shimmer_apq3  \\\n",
              "0    0.012301     0.013581          0.114328         1.142765      0.046059   \n",
              "1    0.006892     0.007165          0.078771         0.735034      0.028917   \n",
              "2    0.008341     0.009774          0.105201         1.003543      0.041027   \n",
              "3    0.010665     0.011645          0.104704         1.002982      0.040266   \n",
              "4    0.017347     0.018509          0.127223         1.232997      0.048521   \n",
              "\n",
              "   ...     mfcc_5     mfcc_6     mfcc_7     mfcc_8     mfcc_9   mfcc_10  \\\n",
              "0  ...  36.622796   4.381283 -51.226759 -21.675977  -7.684882  2.750536   \n",
              "1  ...  22.481075  22.888370 -16.576583  -0.005128 -22.860485 -1.250413   \n",
              "2  ...  28.954005   9.337745  -5.015254   2.583235 -14.572674  0.940267   \n",
              "3  ...  31.359476  33.517867 -34.057906 -12.091941 -11.613016 -3.418581   \n",
              "4  ...  34.587242  35.904514  -7.150892   1.812661 -14.583591  4.764799   \n",
              "\n",
              "     mfcc_11   mfcc_12   mfcc_13  label  \n",
              "0   3.849808  8.752428  0.208220    0.0  \n",
              "1  -8.307896 -7.638449  0.425119    0.0  \n",
              "2  -5.533343 -1.466902 -9.954152    1.0  \n",
              "3 -15.054758  1.423258  7.775569    0.0  \n",
              "4  11.591349 -2.477217  8.576886    1.0  \n",
              "\n",
              "[5 rows x 25 columns]"
            ],
            "text/html": [
              "\n",
              "  <div id=\"df-c40d66df-e762-4cd7-96a4-0746a75ed19c\">\n",
              "    <div class=\"colab-df-container\">\n",
              "      <div>\n",
              "<style scoped>\n",
              "    .dataframe tbody tr th:only-of-type {\n",
              "        vertical-align: middle;\n",
              "    }\n",
              "\n",
              "    .dataframe tbody tr th {\n",
              "        vertical-align: top;\n",
              "    }\n",
              "\n",
              "    .dataframe thead th {\n",
              "        text-align: right;\n",
              "    }\n",
              "</style>\n",
              "<table border=\"1\" class=\"dataframe\">\n",
              "  <thead>\n",
              "    <tr style=\"text-align: right;\">\n",
              "      <th></th>\n",
              "      <th>f0_mean</th>\n",
              "      <th>f0_std_deviation</th>\n",
              "      <th>hnr</th>\n",
              "      <th>jitter_relative</th>\n",
              "      <th>jitter_absolute</th>\n",
              "      <th>jitter_rap</th>\n",
              "      <th>jitter_ppq5</th>\n",
              "      <th>shimmer_relative</th>\n",
              "      <th>shimmer_localDb</th>\n",
              "      <th>shimmer_apq3</th>\n",
              "      <th>...</th>\n",
              "      <th>mfcc_5</th>\n",
              "      <th>mfcc_6</th>\n",
              "      <th>mfcc_7</th>\n",
              "      <th>mfcc_8</th>\n",
              "      <th>mfcc_9</th>\n",
              "      <th>mfcc_10</th>\n",
              "      <th>mfcc_11</th>\n",
              "      <th>mfcc_12</th>\n",
              "      <th>mfcc_13</th>\n",
              "      <th>label</th>\n",
              "    </tr>\n",
              "  </thead>\n",
              "  <tbody>\n",
              "    <tr>\n",
              "      <th>0</th>\n",
              "      <td>183.529521</td>\n",
              "      <td>61.706883</td>\n",
              "      <td>12.861531</td>\n",
              "      <td>0.027656</td>\n",
              "      <td>0.000152</td>\n",
              "      <td>0.012301</td>\n",
              "      <td>0.013581</td>\n",
              "      <td>0.114328</td>\n",
              "      <td>1.142765</td>\n",
              "      <td>0.046059</td>\n",
              "      <td>...</td>\n",
              "      <td>36.622796</td>\n",
              "      <td>4.381283</td>\n",
              "      <td>-51.226759</td>\n",
              "      <td>-21.675977</td>\n",
              "      <td>-7.684882</td>\n",
              "      <td>2.750536</td>\n",
              "      <td>3.849808</td>\n",
              "      <td>8.752428</td>\n",
              "      <td>0.208220</td>\n",
              "      <td>0.0</td>\n",
              "    </tr>\n",
              "    <tr>\n",
              "      <th>1</th>\n",
              "      <td>191.411023</td>\n",
              "      <td>37.924675</td>\n",
              "      <td>11.191856</td>\n",
              "      <td>0.016322</td>\n",
              "      <td>0.000085</td>\n",
              "      <td>0.006892</td>\n",
              "      <td>0.007165</td>\n",
              "      <td>0.078771</td>\n",
              "      <td>0.735034</td>\n",
              "      <td>0.028917</td>\n",
              "      <td>...</td>\n",
              "      <td>22.481075</td>\n",
              "      <td>22.888370</td>\n",
              "      <td>-16.576583</td>\n",
              "      <td>-0.005128</td>\n",
              "      <td>-22.860485</td>\n",
              "      <td>-1.250413</td>\n",
              "      <td>-8.307896</td>\n",
              "      <td>-7.638449</td>\n",
              "      <td>0.425119</td>\n",
              "      <td>0.0</td>\n",
              "    </tr>\n",
              "    <tr>\n",
              "      <th>2</th>\n",
              "      <td>124.404377</td>\n",
              "      <td>30.757396</td>\n",
              "      <td>12.064737</td>\n",
              "      <td>0.021813</td>\n",
              "      <td>0.000176</td>\n",
              "      <td>0.008341</td>\n",
              "      <td>0.009774</td>\n",
              "      <td>0.105201</td>\n",
              "      <td>1.003543</td>\n",
              "      <td>0.041027</td>\n",
              "      <td>...</td>\n",
              "      <td>28.954005</td>\n",
              "      <td>9.337745</td>\n",
              "      <td>-5.015254</td>\n",
              "      <td>2.583235</td>\n",
              "      <td>-14.572674</td>\n",
              "      <td>0.940267</td>\n",
              "      <td>-5.533343</td>\n",
              "      <td>-1.466902</td>\n",
              "      <td>-9.954152</td>\n",
              "      <td>1.0</td>\n",
              "    </tr>\n",
              "    <tr>\n",
              "      <th>3</th>\n",
              "      <td>129.460489</td>\n",
              "      <td>51.693216</td>\n",
              "      <td>13.403747</td>\n",
              "      <td>0.026465</td>\n",
              "      <td>0.000208</td>\n",
              "      <td>0.010665</td>\n",
              "      <td>0.011645</td>\n",
              "      <td>0.104704</td>\n",
              "      <td>1.002982</td>\n",
              "      <td>0.040266</td>\n",
              "      <td>...</td>\n",
              "      <td>31.359476</td>\n",
              "      <td>33.517867</td>\n",
              "      <td>-34.057906</td>\n",
              "      <td>-12.091941</td>\n",
              "      <td>-11.613016</td>\n",
              "      <td>-3.418581</td>\n",
              "      <td>-15.054758</td>\n",
              "      <td>1.423258</td>\n",
              "      <td>7.775569</td>\n",
              "      <td>0.0</td>\n",
              "    </tr>\n",
              "    <tr>\n",
              "      <th>4</th>\n",
              "      <td>117.594896</td>\n",
              "      <td>60.504173</td>\n",
              "      <td>10.182373</td>\n",
              "      <td>0.039906</td>\n",
              "      <td>0.000150</td>\n",
              "      <td>0.017347</td>\n",
              "      <td>0.018509</td>\n",
              "      <td>0.127223</td>\n",
              "      <td>1.232997</td>\n",
              "      <td>0.048521</td>\n",
              "      <td>...</td>\n",
              "      <td>34.587242</td>\n",
              "      <td>35.904514</td>\n",
              "      <td>-7.150892</td>\n",
              "      <td>1.812661</td>\n",
              "      <td>-14.583591</td>\n",
              "      <td>4.764799</td>\n",
              "      <td>11.591349</td>\n",
              "      <td>-2.477217</td>\n",
              "      <td>8.576886</td>\n",
              "      <td>1.0</td>\n",
              "    </tr>\n",
              "  </tbody>\n",
              "</table>\n",
              "<p>5 rows × 25 columns</p>\n",
              "</div>\n",
              "      <button class=\"colab-df-convert\" onclick=\"convertToInteractive('df-c40d66df-e762-4cd7-96a4-0746a75ed19c')\"\n",
              "              title=\"Convert this dataframe to an interactive table.\"\n",
              "              style=\"display:none;\">\n",
              "        \n",
              "  <svg xmlns=\"http://www.w3.org/2000/svg\" height=\"24px\"viewBox=\"0 0 24 24\"\n",
              "       width=\"24px\">\n",
              "    <path d=\"M0 0h24v24H0V0z\" fill=\"none\"/>\n",
              "    <path d=\"M18.56 5.44l.94 2.06.94-2.06 2.06-.94-2.06-.94-.94-2.06-.94 2.06-2.06.94zm-11 1L8.5 8.5l.94-2.06 2.06-.94-2.06-.94L8.5 2.5l-.94 2.06-2.06.94zm10 10l.94 2.06.94-2.06 2.06-.94-2.06-.94-.94-2.06-.94 2.06-2.06.94z\"/><path d=\"M17.41 7.96l-1.37-1.37c-.4-.4-.92-.59-1.43-.59-.52 0-1.04.2-1.43.59L10.3 9.45l-7.72 7.72c-.78.78-.78 2.05 0 2.83L4 21.41c.39.39.9.59 1.41.59.51 0 1.02-.2 1.41-.59l7.78-7.78 2.81-2.81c.8-.78.8-2.07 0-2.86zM5.41 20L4 18.59l7.72-7.72 1.47 1.35L5.41 20z\"/>\n",
              "  </svg>\n",
              "      </button>\n",
              "      \n",
              "  <style>\n",
              "    .colab-df-container {\n",
              "      display:flex;\n",
              "      flex-wrap:wrap;\n",
              "      gap: 12px;\n",
              "    }\n",
              "\n",
              "    .colab-df-convert {\n",
              "      background-color: #E8F0FE;\n",
              "      border: none;\n",
              "      border-radius: 50%;\n",
              "      cursor: pointer;\n",
              "      display: none;\n",
              "      fill: #1967D2;\n",
              "      height: 32px;\n",
              "      padding: 0 0 0 0;\n",
              "      width: 32px;\n",
              "    }\n",
              "\n",
              "    .colab-df-convert:hover {\n",
              "      background-color: #E2EBFA;\n",
              "      box-shadow: 0px 1px 2px rgba(60, 64, 67, 0.3), 0px 1px 3px 1px rgba(60, 64, 67, 0.15);\n",
              "      fill: #174EA6;\n",
              "    }\n",
              "\n",
              "    [theme=dark] .colab-df-convert {\n",
              "      background-color: #3B4455;\n",
              "      fill: #D2E3FC;\n",
              "    }\n",
              "\n",
              "    [theme=dark] .colab-df-convert:hover {\n",
              "      background-color: #434B5C;\n",
              "      box-shadow: 0px 1px 3px 1px rgba(0, 0, 0, 0.15);\n",
              "      filter: drop-shadow(0px 1px 2px rgba(0, 0, 0, 0.3));\n",
              "      fill: #FFFFFF;\n",
              "    }\n",
              "  </style>\n",
              "\n",
              "      <script>\n",
              "        const buttonEl =\n",
              "          document.querySelector('#df-c40d66df-e762-4cd7-96a4-0746a75ed19c button.colab-df-convert');\n",
              "        buttonEl.style.display =\n",
              "          google.colab.kernel.accessAllowed ? 'block' : 'none';\n",
              "\n",
              "        async function convertToInteractive(key) {\n",
              "          const element = document.querySelector('#df-c40d66df-e762-4cd7-96a4-0746a75ed19c');\n",
              "          const dataTable =\n",
              "            await google.colab.kernel.invokeFunction('convertToInteractive',\n",
              "                                                     [key], {});\n",
              "          if (!dataTable) return;\n",
              "\n",
              "          const docLinkHtml = 'Like what you see? Visit the ' +\n",
              "            '<a target=\"_blank\" href=https://colab.research.google.com/notebooks/data_table.ipynb>data table notebook</a>'\n",
              "            + ' to learn more about interactive tables.';\n",
              "          element.innerHTML = '';\n",
              "          dataTable['output_type'] = 'display_data';\n",
              "          await google.colab.output.renderOutput(dataTable, element);\n",
              "          const docLink = document.createElement('div');\n",
              "          docLink.innerHTML = docLinkHtml;\n",
              "          element.appendChild(docLink);\n",
              "        }\n",
              "      </script>\n",
              "    </div>\n",
              "  </div>\n",
              "  "
            ]
          },
          "metadata": {},
          "execution_count": 12
        }
      ],
      "source": [
        "df.head()"
      ]
    },
    {
      "cell_type": "code",
      "execution_count": null,
      "metadata": {
        "colab": {
          "base_uri": "https://localhost:8080/"
        },
        "id": "hOx0WXhjQQT_",
        "outputId": "d16c9c6d-d84d-4383-e9c1-8bb7cc2d19a2"
      },
      "outputs": [
        {
          "output_type": "stream",
          "name": "stdout",
          "text": [
            "Number of Features In Dataset : 25\n",
            "Number of Instances In Dataset :  37\n"
          ]
        }
      ],
      "source": [
        "print('Number of Features In Dataset :', df.shape[1])\n",
        "print('Number of Instances In Dataset : ', df.shape[0])"
      ]
    },
    {
      "cell_type": "code",
      "execution_count": null,
      "metadata": {
        "colab": {
          "base_uri": "https://localhost:8080/"
        },
        "id": "fS-PwJyLTEHD",
        "outputId": "54e0ff22-9e46-40bd-e8b5-13d883656f24"
      },
      "outputs": [
        {
          "output_type": "stream",
          "name": "stdout",
          "text": [
            "<class 'pandas.core.frame.DataFrame'>\n",
            "RangeIndex: 37 entries, 0 to 36\n",
            "Data columns (total 25 columns):\n",
            " #   Column            Non-Null Count  Dtype  \n",
            "---  ------            --------------  -----  \n",
            " 0   f0_mean           37 non-null     float64\n",
            " 1   f0_std_deviation  37 non-null     float64\n",
            " 2   hnr               37 non-null     float64\n",
            " 3   jitter_relative   37 non-null     float64\n",
            " 4   jitter_absolute   37 non-null     float64\n",
            " 5   jitter_rap        37 non-null     float64\n",
            " 6   jitter_ppq5       37 non-null     float64\n",
            " 7   shimmer_relative  37 non-null     float64\n",
            " 8   shimmer_localDb   37 non-null     float64\n",
            " 9   shimmer_apq3      37 non-null     float64\n",
            " 10  shimmer_apq5      37 non-null     float64\n",
            " 11  mfcc_1            37 non-null     float64\n",
            " 12  mfcc_2            37 non-null     float64\n",
            " 13  mfcc_3            37 non-null     float64\n",
            " 14  mfcc_4            37 non-null     float64\n",
            " 15  mfcc_5            37 non-null     float64\n",
            " 16  mfcc_6            37 non-null     float64\n",
            " 17  mfcc_7            37 non-null     float64\n",
            " 18  mfcc_8            37 non-null     float64\n",
            " 19  mfcc_9            37 non-null     float64\n",
            " 20  mfcc_10           37 non-null     float64\n",
            " 21  mfcc_11           37 non-null     float64\n",
            " 22  mfcc_12           37 non-null     float64\n",
            " 23  mfcc_13           37 non-null     float64\n",
            " 24  label             37 non-null     float64\n",
            "dtypes: float64(25)\n",
            "memory usage: 7.4 KB\n"
          ]
        }
      ],
      "source": [
        "# Exploring Information About Dataframe\n",
        "df.info()"
      ]
    },
    {
      "cell_type": "code",
      "execution_count": null,
      "metadata": {
        "colab": {
          "base_uri": "https://localhost:8080/",
          "height": 393
        },
        "id": "mrzA23LtTWOb",
        "outputId": "8cb161aa-d454-4c96-a2fe-9dce8b57c048"
      },
      "outputs": [
        {
          "output_type": "execute_result",
          "data": {
            "text/plain": [
              "          f0_mean  f0_std_deviation        hnr  jitter_relative  \\\n",
              "count   37.000000         37.000000  37.000000        37.000000   \n",
              "mean   169.108491         45.184614  13.379464         0.023551   \n",
              "std     31.054132         10.721563   1.821215         0.005570   \n",
              "min    101.441520         21.700405  10.182373         0.013970   \n",
              "25%    139.925796         37.924675  12.069858         0.020194   \n",
              "50%    180.955867         47.094601  13.103552         0.022866   \n",
              "75%    191.411023         51.693216  14.448211         0.027047   \n",
              "max    214.506157         62.770765  17.586959         0.039906   \n",
              "\n",
              "       jitter_absolute  jitter_rap  jitter_ppq5  shimmer_relative  \\\n",
              "count        37.000000   37.000000    37.000000         37.000000   \n",
              "mean          0.000145    0.010216     0.010979          0.094183   \n",
              "std           0.000052    0.002904     0.002928          0.015417   \n",
              "min           0.000077    0.005358     0.005803          0.061226   \n",
              "25%           0.000112    0.008341     0.009115          0.082022   \n",
              "50%           0.000131    0.009922     0.010434          0.095637   \n",
              "75%           0.000182    0.011550     0.013075          0.104713   \n",
              "max           0.000287    0.017347     0.018509          0.127223   \n",
              "\n",
              "       shimmer_localDb  shimmer_apq3  ...     mfcc_5     mfcc_6     mfcc_7  \\\n",
              "count        37.000000     37.000000  ...  37.000000  37.000000  37.000000   \n",
              "mean          0.925884      0.035782  ...  26.983006  24.534434 -16.038266   \n",
              "std           0.138957      0.008192  ...  12.726663  14.297257  12.318881   \n",
              "min           0.635766      0.023806  ...  -9.612589  -1.269567 -51.226759   \n",
              "25%           0.806059      0.029279  ...  20.603586  12.465326 -20.877052   \n",
              "50%           0.942493      0.035398  ...  25.994576  25.461889 -15.199401   \n",
              "75%           1.003543      0.040266  ...  36.367023  35.371636 -10.664171   \n",
              "max           1.232997      0.053177  ...  51.931076  50.608532   9.001705   \n",
              "\n",
              "          mfcc_8     mfcc_9    mfcc_10    mfcc_11    mfcc_12    mfcc_13  \\\n",
              "count  37.000000  37.000000  37.000000  37.000000  37.000000  37.000000   \n",
              "mean   -2.344370 -12.186701  -2.746870   0.003344  -1.294651   1.061976   \n",
              "std    13.249363  11.363720   9.503643   9.653106   7.705090   8.945486   \n",
              "min   -24.561546 -35.680011 -24.398019 -28.457065 -16.292199 -16.042029   \n",
              "25%   -11.787999 -17.471027 -11.045900  -5.214899  -6.654626  -5.702192   \n",
              "50%    -1.961568 -13.068323   0.028050   0.381197  -1.466902   1.554965   \n",
              "75%     5.476300  -3.977438   5.188163   4.421726   3.519430   8.576886   \n",
              "max    34.894468  19.013661  16.090623  19.289492  20.126116  17.294757   \n",
              "\n",
              "           label  \n",
              "count  37.000000  \n",
              "mean    0.432432  \n",
              "std     0.502247  \n",
              "min     0.000000  \n",
              "25%     0.000000  \n",
              "50%     0.000000  \n",
              "75%     1.000000  \n",
              "max     1.000000  \n",
              "\n",
              "[8 rows x 25 columns]"
            ],
            "text/html": [
              "\n",
              "  <div id=\"df-7123eb6d-b0e6-4edd-8e95-fbce512c9460\">\n",
              "    <div class=\"colab-df-container\">\n",
              "      <div>\n",
              "<style scoped>\n",
              "    .dataframe tbody tr th:only-of-type {\n",
              "        vertical-align: middle;\n",
              "    }\n",
              "\n",
              "    .dataframe tbody tr th {\n",
              "        vertical-align: top;\n",
              "    }\n",
              "\n",
              "    .dataframe thead th {\n",
              "        text-align: right;\n",
              "    }\n",
              "</style>\n",
              "<table border=\"1\" class=\"dataframe\">\n",
              "  <thead>\n",
              "    <tr style=\"text-align: right;\">\n",
              "      <th></th>\n",
              "      <th>f0_mean</th>\n",
              "      <th>f0_std_deviation</th>\n",
              "      <th>hnr</th>\n",
              "      <th>jitter_relative</th>\n",
              "      <th>jitter_absolute</th>\n",
              "      <th>jitter_rap</th>\n",
              "      <th>jitter_ppq5</th>\n",
              "      <th>shimmer_relative</th>\n",
              "      <th>shimmer_localDb</th>\n",
              "      <th>shimmer_apq3</th>\n",
              "      <th>...</th>\n",
              "      <th>mfcc_5</th>\n",
              "      <th>mfcc_6</th>\n",
              "      <th>mfcc_7</th>\n",
              "      <th>mfcc_8</th>\n",
              "      <th>mfcc_9</th>\n",
              "      <th>mfcc_10</th>\n",
              "      <th>mfcc_11</th>\n",
              "      <th>mfcc_12</th>\n",
              "      <th>mfcc_13</th>\n",
              "      <th>label</th>\n",
              "    </tr>\n",
              "  </thead>\n",
              "  <tbody>\n",
              "    <tr>\n",
              "      <th>count</th>\n",
              "      <td>37.000000</td>\n",
              "      <td>37.000000</td>\n",
              "      <td>37.000000</td>\n",
              "      <td>37.000000</td>\n",
              "      <td>37.000000</td>\n",
              "      <td>37.000000</td>\n",
              "      <td>37.000000</td>\n",
              "      <td>37.000000</td>\n",
              "      <td>37.000000</td>\n",
              "      <td>37.000000</td>\n",
              "      <td>...</td>\n",
              "      <td>37.000000</td>\n",
              "      <td>37.000000</td>\n",
              "      <td>37.000000</td>\n",
              "      <td>37.000000</td>\n",
              "      <td>37.000000</td>\n",
              "      <td>37.000000</td>\n",
              "      <td>37.000000</td>\n",
              "      <td>37.000000</td>\n",
              "      <td>37.000000</td>\n",
              "      <td>37.000000</td>\n",
              "    </tr>\n",
              "    <tr>\n",
              "      <th>mean</th>\n",
              "      <td>169.108491</td>\n",
              "      <td>45.184614</td>\n",
              "      <td>13.379464</td>\n",
              "      <td>0.023551</td>\n",
              "      <td>0.000145</td>\n",
              "      <td>0.010216</td>\n",
              "      <td>0.010979</td>\n",
              "      <td>0.094183</td>\n",
              "      <td>0.925884</td>\n",
              "      <td>0.035782</td>\n",
              "      <td>...</td>\n",
              "      <td>26.983006</td>\n",
              "      <td>24.534434</td>\n",
              "      <td>-16.038266</td>\n",
              "      <td>-2.344370</td>\n",
              "      <td>-12.186701</td>\n",
              "      <td>-2.746870</td>\n",
              "      <td>0.003344</td>\n",
              "      <td>-1.294651</td>\n",
              "      <td>1.061976</td>\n",
              "      <td>0.432432</td>\n",
              "    </tr>\n",
              "    <tr>\n",
              "      <th>std</th>\n",
              "      <td>31.054132</td>\n",
              "      <td>10.721563</td>\n",
              "      <td>1.821215</td>\n",
              "      <td>0.005570</td>\n",
              "      <td>0.000052</td>\n",
              "      <td>0.002904</td>\n",
              "      <td>0.002928</td>\n",
              "      <td>0.015417</td>\n",
              "      <td>0.138957</td>\n",
              "      <td>0.008192</td>\n",
              "      <td>...</td>\n",
              "      <td>12.726663</td>\n",
              "      <td>14.297257</td>\n",
              "      <td>12.318881</td>\n",
              "      <td>13.249363</td>\n",
              "      <td>11.363720</td>\n",
              "      <td>9.503643</td>\n",
              "      <td>9.653106</td>\n",
              "      <td>7.705090</td>\n",
              "      <td>8.945486</td>\n",
              "      <td>0.502247</td>\n",
              "    </tr>\n",
              "    <tr>\n",
              "      <th>min</th>\n",
              "      <td>101.441520</td>\n",
              "      <td>21.700405</td>\n",
              "      <td>10.182373</td>\n",
              "      <td>0.013970</td>\n",
              "      <td>0.000077</td>\n",
              "      <td>0.005358</td>\n",
              "      <td>0.005803</td>\n",
              "      <td>0.061226</td>\n",
              "      <td>0.635766</td>\n",
              "      <td>0.023806</td>\n",
              "      <td>...</td>\n",
              "      <td>-9.612589</td>\n",
              "      <td>-1.269567</td>\n",
              "      <td>-51.226759</td>\n",
              "      <td>-24.561546</td>\n",
              "      <td>-35.680011</td>\n",
              "      <td>-24.398019</td>\n",
              "      <td>-28.457065</td>\n",
              "      <td>-16.292199</td>\n",
              "      <td>-16.042029</td>\n",
              "      <td>0.000000</td>\n",
              "    </tr>\n",
              "    <tr>\n",
              "      <th>25%</th>\n",
              "      <td>139.925796</td>\n",
              "      <td>37.924675</td>\n",
              "      <td>12.069858</td>\n",
              "      <td>0.020194</td>\n",
              "      <td>0.000112</td>\n",
              "      <td>0.008341</td>\n",
              "      <td>0.009115</td>\n",
              "      <td>0.082022</td>\n",
              "      <td>0.806059</td>\n",
              "      <td>0.029279</td>\n",
              "      <td>...</td>\n",
              "      <td>20.603586</td>\n",
              "      <td>12.465326</td>\n",
              "      <td>-20.877052</td>\n",
              "      <td>-11.787999</td>\n",
              "      <td>-17.471027</td>\n",
              "      <td>-11.045900</td>\n",
              "      <td>-5.214899</td>\n",
              "      <td>-6.654626</td>\n",
              "      <td>-5.702192</td>\n",
              "      <td>0.000000</td>\n",
              "    </tr>\n",
              "    <tr>\n",
              "      <th>50%</th>\n",
              "      <td>180.955867</td>\n",
              "      <td>47.094601</td>\n",
              "      <td>13.103552</td>\n",
              "      <td>0.022866</td>\n",
              "      <td>0.000131</td>\n",
              "      <td>0.009922</td>\n",
              "      <td>0.010434</td>\n",
              "      <td>0.095637</td>\n",
              "      <td>0.942493</td>\n",
              "      <td>0.035398</td>\n",
              "      <td>...</td>\n",
              "      <td>25.994576</td>\n",
              "      <td>25.461889</td>\n",
              "      <td>-15.199401</td>\n",
              "      <td>-1.961568</td>\n",
              "      <td>-13.068323</td>\n",
              "      <td>0.028050</td>\n",
              "      <td>0.381197</td>\n",
              "      <td>-1.466902</td>\n",
              "      <td>1.554965</td>\n",
              "      <td>0.000000</td>\n",
              "    </tr>\n",
              "    <tr>\n",
              "      <th>75%</th>\n",
              "      <td>191.411023</td>\n",
              "      <td>51.693216</td>\n",
              "      <td>14.448211</td>\n",
              "      <td>0.027047</td>\n",
              "      <td>0.000182</td>\n",
              "      <td>0.011550</td>\n",
              "      <td>0.013075</td>\n",
              "      <td>0.104713</td>\n",
              "      <td>1.003543</td>\n",
              "      <td>0.040266</td>\n",
              "      <td>...</td>\n",
              "      <td>36.367023</td>\n",
              "      <td>35.371636</td>\n",
              "      <td>-10.664171</td>\n",
              "      <td>5.476300</td>\n",
              "      <td>-3.977438</td>\n",
              "      <td>5.188163</td>\n",
              "      <td>4.421726</td>\n",
              "      <td>3.519430</td>\n",
              "      <td>8.576886</td>\n",
              "      <td>1.000000</td>\n",
              "    </tr>\n",
              "    <tr>\n",
              "      <th>max</th>\n",
              "      <td>214.506157</td>\n",
              "      <td>62.770765</td>\n",
              "      <td>17.586959</td>\n",
              "      <td>0.039906</td>\n",
              "      <td>0.000287</td>\n",
              "      <td>0.017347</td>\n",
              "      <td>0.018509</td>\n",
              "      <td>0.127223</td>\n",
              "      <td>1.232997</td>\n",
              "      <td>0.053177</td>\n",
              "      <td>...</td>\n",
              "      <td>51.931076</td>\n",
              "      <td>50.608532</td>\n",
              "      <td>9.001705</td>\n",
              "      <td>34.894468</td>\n",
              "      <td>19.013661</td>\n",
              "      <td>16.090623</td>\n",
              "      <td>19.289492</td>\n",
              "      <td>20.126116</td>\n",
              "      <td>17.294757</td>\n",
              "      <td>1.000000</td>\n",
              "    </tr>\n",
              "  </tbody>\n",
              "</table>\n",
              "<p>8 rows × 25 columns</p>\n",
              "</div>\n",
              "      <button class=\"colab-df-convert\" onclick=\"convertToInteractive('df-7123eb6d-b0e6-4edd-8e95-fbce512c9460')\"\n",
              "              title=\"Convert this dataframe to an interactive table.\"\n",
              "              style=\"display:none;\">\n",
              "        \n",
              "  <svg xmlns=\"http://www.w3.org/2000/svg\" height=\"24px\"viewBox=\"0 0 24 24\"\n",
              "       width=\"24px\">\n",
              "    <path d=\"M0 0h24v24H0V0z\" fill=\"none\"/>\n",
              "    <path d=\"M18.56 5.44l.94 2.06.94-2.06 2.06-.94-2.06-.94-.94-2.06-.94 2.06-2.06.94zm-11 1L8.5 8.5l.94-2.06 2.06-.94-2.06-.94L8.5 2.5l-.94 2.06-2.06.94zm10 10l.94 2.06.94-2.06 2.06-.94-2.06-.94-.94-2.06-.94 2.06-2.06.94z\"/><path d=\"M17.41 7.96l-1.37-1.37c-.4-.4-.92-.59-1.43-.59-.52 0-1.04.2-1.43.59L10.3 9.45l-7.72 7.72c-.78.78-.78 2.05 0 2.83L4 21.41c.39.39.9.59 1.41.59.51 0 1.02-.2 1.41-.59l7.78-7.78 2.81-2.81c.8-.78.8-2.07 0-2.86zM5.41 20L4 18.59l7.72-7.72 1.47 1.35L5.41 20z\"/>\n",
              "  </svg>\n",
              "      </button>\n",
              "      \n",
              "  <style>\n",
              "    .colab-df-container {\n",
              "      display:flex;\n",
              "      flex-wrap:wrap;\n",
              "      gap: 12px;\n",
              "    }\n",
              "\n",
              "    .colab-df-convert {\n",
              "      background-color: #E8F0FE;\n",
              "      border: none;\n",
              "      border-radius: 50%;\n",
              "      cursor: pointer;\n",
              "      display: none;\n",
              "      fill: #1967D2;\n",
              "      height: 32px;\n",
              "      padding: 0 0 0 0;\n",
              "      width: 32px;\n",
              "    }\n",
              "\n",
              "    .colab-df-convert:hover {\n",
              "      background-color: #E2EBFA;\n",
              "      box-shadow: 0px 1px 2px rgba(60, 64, 67, 0.3), 0px 1px 3px 1px rgba(60, 64, 67, 0.15);\n",
              "      fill: #174EA6;\n",
              "    }\n",
              "\n",
              "    [theme=dark] .colab-df-convert {\n",
              "      background-color: #3B4455;\n",
              "      fill: #D2E3FC;\n",
              "    }\n",
              "\n",
              "    [theme=dark] .colab-df-convert:hover {\n",
              "      background-color: #434B5C;\n",
              "      box-shadow: 0px 1px 3px 1px rgba(0, 0, 0, 0.15);\n",
              "      filter: drop-shadow(0px 1px 2px rgba(0, 0, 0, 0.3));\n",
              "      fill: #FFFFFF;\n",
              "    }\n",
              "  </style>\n",
              "\n",
              "      <script>\n",
              "        const buttonEl =\n",
              "          document.querySelector('#df-7123eb6d-b0e6-4edd-8e95-fbce512c9460 button.colab-df-convert');\n",
              "        buttonEl.style.display =\n",
              "          google.colab.kernel.accessAllowed ? 'block' : 'none';\n",
              "\n",
              "        async function convertToInteractive(key) {\n",
              "          const element = document.querySelector('#df-7123eb6d-b0e6-4edd-8e95-fbce512c9460');\n",
              "          const dataTable =\n",
              "            await google.colab.kernel.invokeFunction('convertToInteractive',\n",
              "                                                     [key], {});\n",
              "          if (!dataTable) return;\n",
              "\n",
              "          const docLinkHtml = 'Like what you see? Visit the ' +\n",
              "            '<a target=\"_blank\" href=https://colab.research.google.com/notebooks/data_table.ipynb>data table notebook</a>'\n",
              "            + ' to learn more about interactive tables.';\n",
              "          element.innerHTML = '';\n",
              "          dataTable['output_type'] = 'display_data';\n",
              "          await google.colab.output.renderOutput(dataTable, element);\n",
              "          const docLink = document.createElement('div');\n",
              "          docLink.innerHTML = docLinkHtml;\n",
              "          element.appendChild(docLink);\n",
              "        }\n",
              "      </script>\n",
              "    </div>\n",
              "  </div>\n",
              "  "
            ]
          },
          "metadata": {},
          "execution_count": 15
        }
      ],
      "source": [
        "df.describe()"
      ]
    },
    {
      "cell_type": "code",
      "execution_count": null,
      "metadata": {
        "id": "-Jcs-tp9cYg_",
        "colab": {
          "base_uri": "https://localhost:8080/"
        },
        "outputId": "c1016aa0-af13-4bd8-9525-8bb6f2f5fd08"
      },
      "outputs": [
        {
          "output_type": "stream",
          "name": "stdout",
          "text": [
            "X shape : (37, 24)\n",
            "y shape : (37, 1)\n"
          ]
        }
      ],
      "source": [
        "X = df.drop(columns='label')\n",
        "y = pd.DataFrame(df['label'])\n",
        "\n",
        "print(f'X shape : {X.shape}')\n",
        "print(f'y shape : {y.shape}')"
      ]
    },
    {
      "cell_type": "code",
      "execution_count": null,
      "metadata": {
        "id": "ThfAG_badhKg",
        "colab": {
          "base_uri": "https://localhost:8080/"
        },
        "outputId": "83492d79-a4c9-45a4-cfea-393a583076f9"
      },
      "outputs": [
        {
          "output_type": "stream",
          "name": "stdout",
          "text": [
            "Before oversampling: (37, 24), (37, 1)\n",
            "After oversampling: (42, 24), (42, 1)\n"
          ]
        }
      ],
      "source": [
        "#solve imbalancing issue ..\n",
        "\n",
        "from imblearn.over_sampling import SMOTENC\n",
        "\n",
        "smotenc = SMOTENC(categorical_features=[0, 2, 4, 6, 8, 10, 12, 14], random_state=0)\n",
        "X_resampled, y_resampled = smotenc.fit_resample(X, y)\n",
        "\n",
        "print(f\"Before oversampling: {X.shape}, {y.shape}\")\n",
        "print(f\"After oversampling: {X_resampled.shape}, {y_resampled.shape}\")"
      ]
    },
    {
      "cell_type": "code",
      "execution_count": null,
      "metadata": {
        "id": "9Q9A2YX2eBE4",
        "colab": {
          "base_uri": "https://localhost:8080/"
        },
        "outputId": "3189d4c5-62e4-4c17-f70b-c4491bd19033"
      },
      "outputs": [
        {
          "output_type": "execute_result",
          "data": {
            "text/plain": [
              "label\n",
              "0.0      21\n",
              "1.0      21\n",
              "dtype: int64"
            ]
          },
          "metadata": {},
          "execution_count": 18
        }
      ],
      "source": [
        "y_resampled.value_counts()"
      ]
    },
    {
      "cell_type": "code",
      "execution_count": null,
      "metadata": {
        "id": "kJAqc3bUeBII",
        "colab": {
          "base_uri": "https://localhost:8080/"
        },
        "outputId": "1b2ca95c-878f-4e5d-d62d-5866ebaa9c7a"
      },
      "outputs": [
        {
          "output_type": "stream",
          "name": "stdout",
          "text": [
            "X_train shape: (27, 24)\n",
            "X_test shape: (10, 24)\n",
            "y_train shape: (27, 1)\n",
            "y_test shape: (10, 1)\n"
          ]
        }
      ],
      "source": [
        "#split the dataset\n",
        "\n",
        "from sklearn.model_selection import train_test_split\n",
        "\n",
        "X_train, X_test, y_train, y_test = train_test_split(X, y, test_size=0.25, stratify= y, random_state=42)\n",
        "print(f'X_train shape: {X_train.shape}')\n",
        "print(f'X_test shape: {X_test.shape}')\n",
        "print(f'y_train shape: {y_train.shape}')\n",
        "print(f'y_test shape: {y_test.shape}')"
      ]
    },
    {
      "cell_type": "code",
      "execution_count": null,
      "metadata": {
        "id": "nT-UixTagsrN"
      },
      "outputs": [],
      "source": [
        "#scale the datset..\n",
        "\n",
        "from sklearn.preprocessing import StandardScaler\n",
        "\n",
        "sc = StandardScaler()\n",
        "X_train = sc.fit_transform(X_train)\n",
        "X_test = sc.transform(X_test)"
      ]
    },
    {
      "cell_type": "markdown",
      "source": [
        "# **Multi Layer Perceptron**"
      ],
      "metadata": {
        "id": "2kftKqlwiN3Y"
      }
    },
    {
      "cell_type": "code",
      "source": [
        "import torch\n",
        "import torch.nn as nn\n",
        "import torch.nn.functional as F\n",
        "import torch.optim as optim\n",
        "from torch.optim import lr_scheduler\n",
        "from torch.utils.data import Dataset, DataLoader\n",
        "\n",
        "from tqdm import tqdm"
      ],
      "metadata": {
        "id": "D2jHSj5fiRiz"
      },
      "execution_count": null,
      "outputs": []
    },
    {
      "cell_type": "code",
      "source": [
        "class ParkinsonData(Dataset):\n",
        "    def __init__(self, X, y):\n",
        "        self.n_samples = X.shape[0]\n",
        "        # convert DataFrame to numpy array\n",
        "        y = y.to_numpy()\n",
        "        # convert numpy to tensor\n",
        "        self.x_data = torch.from_numpy(X.astype(np.float32)) # size [n_samples, n_features]\n",
        "        self.y_data = torch.from_numpy(y.astype(np.float32)) # size [n_samples, 1]\n",
        "\n",
        "    # support indexing such that dataset[i] can be used to get i-th sample\n",
        "    def __getitem__(self, index):\n",
        "        return self.x_data[index], self.y_data[index]\n",
        "\n",
        "    # we can call len(dataset) to return the size\n",
        "    def __len__(self):\n",
        "        return self.n_samples"
      ],
      "metadata": {
        "id": "NCvCqdAQiX3K"
      },
      "execution_count": null,
      "outputs": []
    },
    {
      "cell_type": "code",
      "source": [
        "# Create data\n",
        "train_data = ParkinsonData(X_train, y_train)\n",
        "test_data = ParkinsonData(X_test, y_test)"
      ],
      "metadata": {
        "id": "oS__uUWRiYJI"
      },
      "execution_count": null,
      "outputs": []
    },
    {
      "cell_type": "code",
      "source": [
        "# get first sample of train data\n",
        "x_sample, y_sample = train_data[0]\n",
        "print(f'10 first element of x_sample : \\n{x_sample[:10]} \\nand y_sample : \\n{y_sample}')\n",
        "print(f'x_sample shape : {x_sample.shape} and y_sample shape : {y_sample}')"
      ],
      "metadata": {
        "colab": {
          "base_uri": "https://localhost:8080/"
        },
        "id": "j87JHMYvifTp",
        "outputId": "36113124-baa4-4ffc-b443-e44c97fe6814"
      },
      "execution_count": null,
      "outputs": [
        {
          "output_type": "stream",
          "name": "stdout",
          "text": [
            "10 first element of x_sample : \n",
            "tensor([ 0.1824,  0.1153,  0.2285, -0.0897, -0.2898, -0.0127,  0.0367, -0.1442,\n",
            "        -0.3040, -0.4074]) \n",
            "and y_sample : \n",
            "tensor([0.])\n",
            "x_sample shape : torch.Size([24]) and y_sample shape : tensor([0.])\n"
          ]
        }
      ]
    },
    {
      "cell_type": "code",
      "source": [
        "# set parameters\n",
        "BATCH_SIZE=16\n",
        "input_size = X.shape[1]\n",
        "output_size = 1\n",
        "num_epoch = 100\n",
        "learning_rate = 0.01"
      ],
      "metadata": {
        "id": "KkmnezMCifWR"
      },
      "execution_count": null,
      "outputs": []
    },
    {
      "cell_type": "code",
      "source": [
        "# Create dataloaders\n",
        "train_loader = torch.utils.data.DataLoader(dataset = train_data, batch_size = BATCH_SIZE, shuffle = True) # \n",
        "test_loader = torch.utils.data.DataLoader(dataset = test_data, batch_size = BATCH_SIZE, shuffle = True)\n",
        "\n",
        "print(f'length of train data is : {len(train_data)} and length of train loader is : {len(train_loader)}')\n",
        "print(f'length of test data is : {len(test_data)} and length of test loader is : {len(test_loader)}')"
      ],
      "metadata": {
        "colab": {
          "base_uri": "https://localhost:8080/"
        },
        "id": "SwGaezNdifYr",
        "outputId": "62d0a2b5-f40f-4908-e4dc-557dc4761603"
      },
      "execution_count": null,
      "outputs": [
        {
          "output_type": "stream",
          "name": "stdout",
          "text": [
            "length of train data is : 27 and length of train loader is : 2\n",
            "length of test data is : 10 and length of test loader is : 1\n"
          ]
        }
      ]
    },
    {
      "cell_type": "code",
      "source": [
        "# get an example of train loader\n",
        "example= next(iter(train_loader))\n",
        "\n",
        "# unpack example\n",
        "sample_x,sample_y = example\n",
        "print(f'samples shape : {sample_x.shape} ,labels shape : {sample_y.shape}')"
      ],
      "metadata": {
        "colab": {
          "base_uri": "https://localhost:8080/"
        },
        "id": "2XLNAAawifcN",
        "outputId": "f3464eda-ec94-4637-ae20-9236314faf5d"
      },
      "execution_count": null,
      "outputs": [
        {
          "output_type": "stream",
          "name": "stdout",
          "text": [
            "samples shape : torch.Size([16, 24]) ,labels shape : torch.Size([16, 1])\n"
          ]
        }
      ]
    },
    {
      "cell_type": "code",
      "source": [
        "# create neural network class\n",
        "class NeuralNet(nn.Module):\n",
        "  def __init__(self, input_size, num_classes):\n",
        "    super(NeuralNet, self).__init__()\n",
        "    self.fc = nn.Sequential(\n",
        "    nn.Linear(input_size, 100),\n",
        "    nn.Dropout(0.25),\n",
        "    nn.ReLU(),\n",
        "    nn.Linear(100, 50),\n",
        "    nn.Dropout(0.50),\n",
        "    nn.ReLU(),\n",
        "    nn.Linear(50, 1),\n",
        "    nn.Sigmoid())\n",
        "\n",
        "  def forward(self,x):\n",
        "    out = self.fc(x)\n",
        "    return out"
      ],
      "metadata": {
        "id": "SnD-0AdliyX-"
      },
      "execution_count": null,
      "outputs": []
    },
    {
      "cell_type": "code",
      "source": [
        "# define a function to calculate accuracy\n",
        "def accuracy(y_pred, y_act):\n",
        "  y_pred = torch.round(y_pred)\n",
        "  correct = (y_pred == y_act)\n",
        "  acc = correct.sum()/len(correct)\n",
        "  acc = torch.round(acc*100)\n",
        "  return acc\n",
        "\n",
        "# define a function for training a model\n",
        "def train_fun(model1, train_loader):\n",
        "  train_epoch_loss = 0\n",
        "  train_epoch_acc = 0\n",
        "  model1.train() # train the model\n",
        "  loop = tqdm(enumerate(train_loader), total = total_step, leave = False)\n",
        "\n",
        "  for i, batch in loop:\n",
        "    optimizer.zero_grad()\n",
        "    x, y = batch # retrieve x and y\n",
        "    x = x.to(device)\n",
        "    y = y.to(device)\n",
        "    y_pred = model1(x)\n",
        "    loss_train = criterion(y_pred, y)\n",
        "    acc_train = accuracy(y_pred, y)\n",
        "    loss_train.backward()\n",
        "    optimizer.step()\n",
        "\n",
        "    train_epoch_loss += loss_train.item()\n",
        "    train_epoch_acc += acc_train.item()\n",
        "    loop.set_description(f'Epoch : [{epoch}/{num_epoch}]')\n",
        "    loop.set_postfix(loss = loss_train.item(), accuracy = acc_train.item()) \n",
        "  \n",
        "  train_loss.append(train_epoch_loss/len(train_loader))\n",
        "  train_acc.append(train_epoch_acc/len(train_loader))  \n",
        "      \n",
        "  # if you want to monitor your model in tensorboard   \n",
        "  writer.add_scalar('training loss',train_epoch_loss/len(train_loader) , epoch)\n",
        "  writer.add_scalar('training accuracy',train_epoch_acc/len(train_loader) , epoch)\n",
        "  return train_loss, train_acc\n",
        "\n",
        "# define a function for evaluating model\n",
        "def evaluate(model1, valid_loader):\n",
        "  with torch.no_grad():\n",
        "    model1.eval()\n",
        "    val_epoch_loss = 0\n",
        "    val_epoch_acc = 0\n",
        "\n",
        "    for batch in valid_loader:\n",
        "      x, y = batch\n",
        "      x = x.to(device)\n",
        "      y = y.to(device)\n",
        "      y_pred_val = model1(x)\n",
        "      loss_valid = criterion(y_pred_val, y)\n",
        "      acc_valid = accuracy(y_pred_val, y) \n",
        "      val_epoch_loss += loss_valid.item()\n",
        "      val_epoch_acc += acc_valid.item()\n",
        "\n",
        "    valid_loss.append(val_epoch_loss/len(valid_loader))\n",
        "    valid_acc.append(val_epoch_acc/len(valid_loader))  \n",
        "\n",
        "    writer.add_scalar('validation loss',val_epoch_loss/len(valid_loader) , epoch)\n",
        "    writer.add_scalar('validation accuracy',val_epoch_acc/len(valid_loader) , epoch)\n",
        "  return valid_loss, valid_acc\n",
        "\n",
        "# define a function for evaluating model on test set\n",
        "def test(model1, test_loader):\n",
        "  y_pred_test = []\n",
        "  y_actual_test = []\n",
        "\n",
        "  model1.eval()\n",
        "  with torch.no_grad():\n",
        "    n_true = 0\n",
        "    n_total = 0\n",
        "    n_class_correct = [0 for i in range(num_class)]\n",
        "    n_class_sample = [0 for i in range(num_class)]\n",
        "  \n",
        "    for batch in test_loader:\n",
        "      x, y = batch\n",
        "      output = model1(x)\n",
        "      y_predtest = torch.round(output)\n",
        "      n_true += (y_predtest == y).sum()\n",
        "      n_total += y.size(0)\n",
        "\n",
        "      for i in range(len(y_predtest)):\n",
        "        y_pred_test.append(y_predtest[i])\n",
        "        y_actual_test.append(y[i].item())\n",
        "\n",
        "      for i in range(len(y_predtest)):\n",
        "        lb = int(y[i].item())\n",
        "        pred = y_predtest[i]\n",
        "        if pred == lb:\n",
        "          n_class_correct[lb] += 1\n",
        "        n_class_sample[lb] += 1   \n",
        "\n",
        "    print(f'accuracy of network on the {len(test_loader)} data is : {(n_true/n_total) *100}')\n",
        "  \n",
        "    for i in range(len(classes)):\n",
        "      acc = 100.0 * n_class_correct[i] / n_class_sample[i]\n",
        "      print(f'Accuracy of {classes[i]}: {acc} %')\n",
        "  \n",
        "  return y_pred_test, y_actual_test "
      ],
      "metadata": {
        "id": "uwajk31_iyaa"
      },
      "execution_count": null,
      "outputs": []
    },
    {
      "cell_type": "code",
      "source": [
        "device = torch.device('cuda' if torch.cuda.is_available() else 'cpu')\n",
        "device"
      ],
      "metadata": {
        "colab": {
          "base_uri": "https://localhost:8080/"
        },
        "id": "ZWmLtReviydy",
        "outputId": "37dc1da3-2106-4c40-e8d0-247b72eb2264"
      },
      "execution_count": null,
      "outputs": [
        {
          "output_type": "execute_result",
          "data": {
            "text/plain": [
              "device(type='cpu')"
            ]
          },
          "metadata": {},
          "execution_count": 30
        }
      ]
    },
    {
      "cell_type": "code",
      "source": [
        "from torch.utils.tensorboard import SummaryWriter\n",
        "writer = SummaryWriter('parkinson')"
      ],
      "metadata": {
        "id": "XQpdJgOZi8iG"
      },
      "execution_count": null,
      "outputs": []
    },
    {
      "cell_type": "code",
      "source": [
        "fold = StratifiedKFold(2) # shuffle false because we shuffled data in splitting train and test section\n",
        "cv_scores = {'Accuracy' : []}\n",
        "\n",
        "for fold, (train_ids, valid_ids) in enumerate(fold.split(X_train, y_train)):\n",
        "  # sample elements randomly from a give list of ids, no replacement\n",
        "  train_subsampler = torch.utils.data.SubsetRandomSampler(train_ids)\n",
        "  valid_subsampler = torch.utils.data.SubsetRandomSampler(valid_ids)\n",
        "\n",
        "  # create dataloader for train and valid data in this fold\n",
        "  trainloader = torch.utils.data.DataLoader(train_data, batch_size=BATCH_SIZE, sampler=train_subsampler)\n",
        "  validloader = torch.utils.data.DataLoader(train_data, batch_size=BATCH_SIZE, sampler=valid_subsampler)\n",
        "\n",
        "  model = NeuralNet(input_size, output_size)\n",
        "  optimizer = torch.optim.Adam(model.parameters(), lr= learning_rate)\n",
        "  criterion = nn.BCELoss()\n",
        "  scheduler = lr_scheduler.StepLR(optimizer, 3, gamma=0.5)\n",
        "\n",
        "  total_step = len(trainloader)\n",
        "  train_loss, valid_loss = [], []\n",
        "  train_acc, valid_acc = [], []\n",
        "\n",
        "  for epoch in range(num_epoch):\n",
        "    train_loss, train_acc = train_fun(model, trainloader)\n",
        "    writer.flush() \n",
        "    valid_loss, valid_acc = evaluate(model, validloader)   \n",
        "    print(f'fold {fold} => train acc : {train_acc[-1]:0.2f}| train loss : {train_loss[-1]:0.2f}| valid acc : {valid_acc[-1]:0.2f}| valid loss : {valid_loss[-1]:0.2f}')\n",
        "    scheduler.step()\n",
        "\n",
        "  cv_scores['Accuracy'].append(valid_acc[-1])"
      ],
      "metadata": {
        "colab": {
          "base_uri": "https://localhost:8080/"
        },
        "id": "RAC-If0di8kR",
        "outputId": "06f3d91a-e746-4289-fe05-0755568452ff"
      },
      "execution_count": null,
      "outputs": [
        {
          "output_type": "stream",
          "name": "stderr",
          "text": []
        },
        {
          "output_type": "stream",
          "name": "stdout",
          "text": [
            "fold 0 => train acc : 23.00| train loss : 0.72| valid acc : 50.00| valid loss : 0.69\n"
          ]
        },
        {
          "output_type": "stream",
          "name": "stderr",
          "text": []
        },
        {
          "output_type": "stream",
          "name": "stdout",
          "text": [
            "fold 0 => train acc : 62.00| train loss : 0.68| valid acc : 64.00| valid loss : 0.68\n"
          ]
        },
        {
          "output_type": "stream",
          "name": "stderr",
          "text": []
        },
        {
          "output_type": "stream",
          "name": "stdout",
          "text": [
            "fold 0 => train acc : 69.00| train loss : 0.59| valid acc : 64.00| valid loss : 0.67\n"
          ]
        },
        {
          "output_type": "stream",
          "name": "stderr",
          "text": []
        },
        {
          "output_type": "stream",
          "name": "stdout",
          "text": [
            "fold 0 => train acc : 69.00| train loss : 0.55| valid acc : 64.00| valid loss : 0.66\n"
          ]
        },
        {
          "output_type": "stream",
          "name": "stderr",
          "text": []
        },
        {
          "output_type": "stream",
          "name": "stdout",
          "text": [
            "fold 0 => train acc : 85.00| train loss : 0.51| valid acc : 71.00| valid loss : 0.66\n"
          ]
        },
        {
          "output_type": "stream",
          "name": "stderr",
          "text": []
        },
        {
          "output_type": "stream",
          "name": "stdout",
          "text": [
            "fold 0 => train acc : 85.00| train loss : 0.51| valid acc : 71.00| valid loss : 0.66\n"
          ]
        },
        {
          "output_type": "stream",
          "name": "stderr",
          "text": []
        },
        {
          "output_type": "stream",
          "name": "stdout",
          "text": [
            "fold 0 => train acc : 92.00| train loss : 0.46| valid acc : 71.00| valid loss : 0.66\n"
          ]
        },
        {
          "output_type": "stream",
          "name": "stderr",
          "text": []
        },
        {
          "output_type": "stream",
          "name": "stdout",
          "text": [
            "fold 0 => train acc : 85.00| train loss : 0.43| valid acc : 64.00| valid loss : 0.65\n"
          ]
        },
        {
          "output_type": "stream",
          "name": "stderr",
          "text": []
        },
        {
          "output_type": "stream",
          "name": "stdout",
          "text": [
            "fold 0 => train acc : 85.00| train loss : 0.45| valid acc : 64.00| valid loss : 0.65\n"
          ]
        },
        {
          "output_type": "stream",
          "name": "stderr",
          "text": []
        },
        {
          "output_type": "stream",
          "name": "stdout",
          "text": [
            "fold 0 => train acc : 92.00| train loss : 0.36| valid acc : 64.00| valid loss : 0.65\n"
          ]
        },
        {
          "output_type": "stream",
          "name": "stderr",
          "text": []
        },
        {
          "output_type": "stream",
          "name": "stdout",
          "text": [
            "fold 0 => train acc : 92.00| train loss : 0.39| valid acc : 64.00| valid loss : 0.65\n"
          ]
        },
        {
          "output_type": "stream",
          "name": "stderr",
          "text": []
        },
        {
          "output_type": "stream",
          "name": "stdout",
          "text": [
            "fold 0 => train acc : 85.00| train loss : 0.44| valid acc : 64.00| valid loss : 0.65\n"
          ]
        },
        {
          "output_type": "stream",
          "name": "stderr",
          "text": []
        },
        {
          "output_type": "stream",
          "name": "stdout",
          "text": [
            "fold 0 => train acc : 85.00| train loss : 0.37| valid acc : 64.00| valid loss : 0.65\n"
          ]
        },
        {
          "output_type": "stream",
          "name": "stderr",
          "text": []
        },
        {
          "output_type": "stream",
          "name": "stdout",
          "text": [
            "fold 0 => train acc : 85.00| train loss : 0.39| valid acc : 64.00| valid loss : 0.65\n"
          ]
        },
        {
          "output_type": "stream",
          "name": "stderr",
          "text": []
        },
        {
          "output_type": "stream",
          "name": "stdout",
          "text": [
            "fold 0 => train acc : 85.00| train loss : 0.39| valid acc : 64.00| valid loss : 0.65\n"
          ]
        },
        {
          "output_type": "stream",
          "name": "stderr",
          "text": []
        },
        {
          "output_type": "stream",
          "name": "stdout",
          "text": [
            "fold 0 => train acc : 85.00| train loss : 0.44| valid acc : 64.00| valid loss : 0.65\n"
          ]
        },
        {
          "output_type": "stream",
          "name": "stderr",
          "text": []
        },
        {
          "output_type": "stream",
          "name": "stdout",
          "text": [
            "fold 0 => train acc : 100.00| train loss : 0.34| valid acc : 64.00| valid loss : 0.65\n"
          ]
        },
        {
          "output_type": "stream",
          "name": "stderr",
          "text": []
        },
        {
          "output_type": "stream",
          "name": "stdout",
          "text": [
            "fold 0 => train acc : 85.00| train loss : 0.40| valid acc : 64.00| valid loss : 0.65\n"
          ]
        },
        {
          "output_type": "stream",
          "name": "stderr",
          "text": []
        },
        {
          "output_type": "stream",
          "name": "stdout",
          "text": [
            "fold 0 => train acc : 92.00| train loss : 0.35| valid acc : 64.00| valid loss : 0.65\n"
          ]
        },
        {
          "output_type": "stream",
          "name": "stderr",
          "text": []
        },
        {
          "output_type": "stream",
          "name": "stdout",
          "text": [
            "fold 0 => train acc : 92.00| train loss : 0.35| valid acc : 64.00| valid loss : 0.65\n"
          ]
        },
        {
          "output_type": "stream",
          "name": "stderr",
          "text": []
        },
        {
          "output_type": "stream",
          "name": "stdout",
          "text": [
            "fold 0 => train acc : 92.00| train loss : 0.37| valid acc : 64.00| valid loss : 0.65\n"
          ]
        },
        {
          "output_type": "stream",
          "name": "stderr",
          "text": []
        },
        {
          "output_type": "stream",
          "name": "stdout",
          "text": [
            "fold 0 => train acc : 85.00| train loss : 0.39| valid acc : 64.00| valid loss : 0.65\n"
          ]
        },
        {
          "output_type": "stream",
          "name": "stderr",
          "text": []
        },
        {
          "output_type": "stream",
          "name": "stdout",
          "text": [
            "fold 0 => train acc : 85.00| train loss : 0.36| valid acc : 64.00| valid loss : 0.65\n"
          ]
        },
        {
          "output_type": "stream",
          "name": "stderr",
          "text": []
        },
        {
          "output_type": "stream",
          "name": "stdout",
          "text": [
            "fold 0 => train acc : 85.00| train loss : 0.38| valid acc : 64.00| valid loss : 0.65\n"
          ]
        },
        {
          "output_type": "stream",
          "name": "stderr",
          "text": []
        },
        {
          "output_type": "stream",
          "name": "stdout",
          "text": [
            "fold 0 => train acc : 92.00| train loss : 0.37| valid acc : 64.00| valid loss : 0.65\n"
          ]
        },
        {
          "output_type": "stream",
          "name": "stderr",
          "text": []
        },
        {
          "output_type": "stream",
          "name": "stdout",
          "text": [
            "fold 0 => train acc : 92.00| train loss : 0.37| valid acc : 64.00| valid loss : 0.65\n"
          ]
        },
        {
          "output_type": "stream",
          "name": "stderr",
          "text": []
        },
        {
          "output_type": "stream",
          "name": "stdout",
          "text": [
            "fold 0 => train acc : 92.00| train loss : 0.34| valid acc : 64.00| valid loss : 0.65\n"
          ]
        },
        {
          "output_type": "stream",
          "name": "stderr",
          "text": []
        },
        {
          "output_type": "stream",
          "name": "stdout",
          "text": [
            "fold 0 => train acc : 92.00| train loss : 0.33| valid acc : 64.00| valid loss : 0.65\n"
          ]
        },
        {
          "output_type": "stream",
          "name": "stderr",
          "text": []
        },
        {
          "output_type": "stream",
          "name": "stdout",
          "text": [
            "fold 0 => train acc : 92.00| train loss : 0.36| valid acc : 64.00| valid loss : 0.65\n"
          ]
        },
        {
          "output_type": "stream",
          "name": "stderr",
          "text": []
        },
        {
          "output_type": "stream",
          "name": "stdout",
          "text": [
            "fold 0 => train acc : 92.00| train loss : 0.31| valid acc : 64.00| valid loss : 0.65\n"
          ]
        },
        {
          "output_type": "stream",
          "name": "stderr",
          "text": []
        },
        {
          "output_type": "stream",
          "name": "stdout",
          "text": [
            "fold 0 => train acc : 92.00| train loss : 0.37| valid acc : 64.00| valid loss : 0.65\n"
          ]
        },
        {
          "output_type": "stream",
          "name": "stderr",
          "text": []
        },
        {
          "output_type": "stream",
          "name": "stdout",
          "text": [
            "fold 0 => train acc : 92.00| train loss : 0.33| valid acc : 64.00| valid loss : 0.65\n"
          ]
        },
        {
          "output_type": "stream",
          "name": "stderr",
          "text": []
        },
        {
          "output_type": "stream",
          "name": "stdout",
          "text": [
            "fold 0 => train acc : 85.00| train loss : 0.41| valid acc : 64.00| valid loss : 0.65\n"
          ]
        },
        {
          "output_type": "stream",
          "name": "stderr",
          "text": []
        },
        {
          "output_type": "stream",
          "name": "stdout",
          "text": [
            "fold 0 => train acc : 92.00| train loss : 0.35| valid acc : 64.00| valid loss : 0.65\n"
          ]
        },
        {
          "output_type": "stream",
          "name": "stderr",
          "text": []
        },
        {
          "output_type": "stream",
          "name": "stdout",
          "text": [
            "fold 0 => train acc : 92.00| train loss : 0.35| valid acc : 64.00| valid loss : 0.65\n"
          ]
        },
        {
          "output_type": "stream",
          "name": "stderr",
          "text": []
        },
        {
          "output_type": "stream",
          "name": "stdout",
          "text": [
            "fold 0 => train acc : 92.00| train loss : 0.34| valid acc : 64.00| valid loss : 0.65\n"
          ]
        },
        {
          "output_type": "stream",
          "name": "stderr",
          "text": []
        },
        {
          "output_type": "stream",
          "name": "stdout",
          "text": [
            "fold 0 => train acc : 92.00| train loss : 0.35| valid acc : 64.00| valid loss : 0.65\n"
          ]
        },
        {
          "output_type": "stream",
          "name": "stderr",
          "text": []
        },
        {
          "output_type": "stream",
          "name": "stdout",
          "text": [
            "fold 0 => train acc : 85.00| train loss : 0.36| valid acc : 64.00| valid loss : 0.65\n"
          ]
        },
        {
          "output_type": "stream",
          "name": "stderr",
          "text": []
        },
        {
          "output_type": "stream",
          "name": "stdout",
          "text": [
            "fold 0 => train acc : 92.00| train loss : 0.39| valid acc : 64.00| valid loss : 0.65\n"
          ]
        },
        {
          "output_type": "stream",
          "name": "stderr",
          "text": []
        },
        {
          "output_type": "stream",
          "name": "stdout",
          "text": [
            "fold 0 => train acc : 100.00| train loss : 0.29| valid acc : 64.00| valid loss : 0.65\n"
          ]
        },
        {
          "output_type": "stream",
          "name": "stderr",
          "text": []
        },
        {
          "output_type": "stream",
          "name": "stdout",
          "text": [
            "fold 0 => train acc : 100.00| train loss : 0.36| valid acc : 64.00| valid loss : 0.65\n"
          ]
        },
        {
          "output_type": "stream",
          "name": "stderr",
          "text": []
        },
        {
          "output_type": "stream",
          "name": "stdout",
          "text": [
            "fold 0 => train acc : 85.00| train loss : 0.35| valid acc : 64.00| valid loss : 0.65\n"
          ]
        },
        {
          "output_type": "stream",
          "name": "stderr",
          "text": []
        },
        {
          "output_type": "stream",
          "name": "stdout",
          "text": [
            "fold 0 => train acc : 92.00| train loss : 0.42| valid acc : 64.00| valid loss : 0.65\n"
          ]
        },
        {
          "output_type": "stream",
          "name": "stderr",
          "text": []
        },
        {
          "output_type": "stream",
          "name": "stdout",
          "text": [
            "fold 0 => train acc : 92.00| train loss : 0.38| valid acc : 64.00| valid loss : 0.65\n"
          ]
        },
        {
          "output_type": "stream",
          "name": "stderr",
          "text": []
        },
        {
          "output_type": "stream",
          "name": "stdout",
          "text": [
            "fold 0 => train acc : 92.00| train loss : 0.35| valid acc : 64.00| valid loss : 0.65\n"
          ]
        },
        {
          "output_type": "stream",
          "name": "stderr",
          "text": []
        },
        {
          "output_type": "stream",
          "name": "stdout",
          "text": [
            "fold 0 => train acc : 100.00| train loss : 0.31| valid acc : 64.00| valid loss : 0.65\n"
          ]
        },
        {
          "output_type": "stream",
          "name": "stderr",
          "text": []
        },
        {
          "output_type": "stream",
          "name": "stdout",
          "text": [
            "fold 0 => train acc : 85.00| train loss : 0.35| valid acc : 64.00| valid loss : 0.65\n"
          ]
        },
        {
          "output_type": "stream",
          "name": "stderr",
          "text": []
        },
        {
          "output_type": "stream",
          "name": "stdout",
          "text": [
            "fold 0 => train acc : 92.00| train loss : 0.34| valid acc : 64.00| valid loss : 0.65\n"
          ]
        },
        {
          "output_type": "stream",
          "name": "stderr",
          "text": []
        },
        {
          "output_type": "stream",
          "name": "stdout",
          "text": [
            "fold 0 => train acc : 85.00| train loss : 0.40| valid acc : 64.00| valid loss : 0.65\n"
          ]
        },
        {
          "output_type": "stream",
          "name": "stderr",
          "text": []
        },
        {
          "output_type": "stream",
          "name": "stdout",
          "text": [
            "fold 0 => train acc : 92.00| train loss : 0.37| valid acc : 64.00| valid loss : 0.65\n"
          ]
        },
        {
          "output_type": "stream",
          "name": "stderr",
          "text": []
        },
        {
          "output_type": "stream",
          "name": "stdout",
          "text": [
            "fold 0 => train acc : 100.00| train loss : 0.35| valid acc : 64.00| valid loss : 0.65\n"
          ]
        },
        {
          "output_type": "stream",
          "name": "stderr",
          "text": []
        },
        {
          "output_type": "stream",
          "name": "stdout",
          "text": [
            "fold 0 => train acc : 100.00| train loss : 0.34| valid acc : 64.00| valid loss : 0.65\n"
          ]
        },
        {
          "output_type": "stream",
          "name": "stderr",
          "text": []
        },
        {
          "output_type": "stream",
          "name": "stdout",
          "text": [
            "fold 0 => train acc : 100.00| train loss : 0.35| valid acc : 64.00| valid loss : 0.65\n"
          ]
        },
        {
          "output_type": "stream",
          "name": "stderr",
          "text": []
        },
        {
          "output_type": "stream",
          "name": "stdout",
          "text": [
            "fold 0 => train acc : 92.00| train loss : 0.40| valid acc : 64.00| valid loss : 0.65\n"
          ]
        },
        {
          "output_type": "stream",
          "name": "stderr",
          "text": []
        },
        {
          "output_type": "stream",
          "name": "stdout",
          "text": [
            "fold 0 => train acc : 92.00| train loss : 0.35| valid acc : 64.00| valid loss : 0.65\n"
          ]
        },
        {
          "output_type": "stream",
          "name": "stderr",
          "text": []
        },
        {
          "output_type": "stream",
          "name": "stdout",
          "text": [
            "fold 0 => train acc : 92.00| train loss : 0.35| valid acc : 64.00| valid loss : 0.65\n"
          ]
        },
        {
          "output_type": "stream",
          "name": "stderr",
          "text": []
        },
        {
          "output_type": "stream",
          "name": "stdout",
          "text": [
            "fold 0 => train acc : 92.00| train loss : 0.36| valid acc : 64.00| valid loss : 0.65\n"
          ]
        },
        {
          "output_type": "stream",
          "name": "stderr",
          "text": []
        },
        {
          "output_type": "stream",
          "name": "stdout",
          "text": [
            "fold 0 => train acc : 92.00| train loss : 0.38| valid acc : 64.00| valid loss : 0.65\n"
          ]
        },
        {
          "output_type": "stream",
          "name": "stderr",
          "text": []
        },
        {
          "output_type": "stream",
          "name": "stdout",
          "text": [
            "fold 0 => train acc : 85.00| train loss : 0.41| valid acc : 64.00| valid loss : 0.65\n"
          ]
        },
        {
          "output_type": "stream",
          "name": "stderr",
          "text": []
        },
        {
          "output_type": "stream",
          "name": "stdout",
          "text": [
            "fold 0 => train acc : 92.00| train loss : 0.34| valid acc : 64.00| valid loss : 0.65\n"
          ]
        },
        {
          "output_type": "stream",
          "name": "stderr",
          "text": []
        },
        {
          "output_type": "stream",
          "name": "stdout",
          "text": [
            "fold 0 => train acc : 92.00| train loss : 0.35| valid acc : 64.00| valid loss : 0.65\n"
          ]
        },
        {
          "output_type": "stream",
          "name": "stderr",
          "text": []
        },
        {
          "output_type": "stream",
          "name": "stdout",
          "text": [
            "fold 0 => train acc : 85.00| train loss : 0.39| valid acc : 64.00| valid loss : 0.65\n"
          ]
        },
        {
          "output_type": "stream",
          "name": "stderr",
          "text": []
        },
        {
          "output_type": "stream",
          "name": "stdout",
          "text": [
            "fold 0 => train acc : 85.00| train loss : 0.35| valid acc : 64.00| valid loss : 0.65\n"
          ]
        },
        {
          "output_type": "stream",
          "name": "stderr",
          "text": []
        },
        {
          "output_type": "stream",
          "name": "stdout",
          "text": [
            "fold 0 => train acc : 85.00| train loss : 0.34| valid acc : 64.00| valid loss : 0.65\n"
          ]
        },
        {
          "output_type": "stream",
          "name": "stderr",
          "text": []
        },
        {
          "output_type": "stream",
          "name": "stdout",
          "text": [
            "fold 0 => train acc : 85.00| train loss : 0.40| valid acc : 64.00| valid loss : 0.65\n"
          ]
        },
        {
          "output_type": "stream",
          "name": "stderr",
          "text": []
        },
        {
          "output_type": "stream",
          "name": "stdout",
          "text": [
            "fold 0 => train acc : 100.00| train loss : 0.33| valid acc : 64.00| valid loss : 0.65\n"
          ]
        },
        {
          "output_type": "stream",
          "name": "stderr",
          "text": []
        },
        {
          "output_type": "stream",
          "name": "stdout",
          "text": [
            "fold 0 => train acc : 92.00| train loss : 0.36| valid acc : 64.00| valid loss : 0.65\n"
          ]
        },
        {
          "output_type": "stream",
          "name": "stderr",
          "text": []
        },
        {
          "output_type": "stream",
          "name": "stdout",
          "text": [
            "fold 0 => train acc : 92.00| train loss : 0.33| valid acc : 64.00| valid loss : 0.65\n"
          ]
        },
        {
          "output_type": "stream",
          "name": "stderr",
          "text": []
        },
        {
          "output_type": "stream",
          "name": "stdout",
          "text": [
            "fold 0 => train acc : 92.00| train loss : 0.33| valid acc : 64.00| valid loss : 0.65\n"
          ]
        },
        {
          "output_type": "stream",
          "name": "stderr",
          "text": []
        },
        {
          "output_type": "stream",
          "name": "stdout",
          "text": [
            "fold 0 => train acc : 85.00| train loss : 0.41| valid acc : 64.00| valid loss : 0.65\n"
          ]
        },
        {
          "output_type": "stream",
          "name": "stderr",
          "text": []
        },
        {
          "output_type": "stream",
          "name": "stdout",
          "text": [
            "fold 0 => train acc : 92.00| train loss : 0.35| valid acc : 64.00| valid loss : 0.65\n"
          ]
        },
        {
          "output_type": "stream",
          "name": "stderr",
          "text": []
        },
        {
          "output_type": "stream",
          "name": "stdout",
          "text": [
            "fold 0 => train acc : 85.00| train loss : 0.42| valid acc : 64.00| valid loss : 0.65\n"
          ]
        },
        {
          "output_type": "stream",
          "name": "stderr",
          "text": []
        },
        {
          "output_type": "stream",
          "name": "stdout",
          "text": [
            "fold 0 => train acc : 92.00| train loss : 0.38| valid acc : 64.00| valid loss : 0.65\n"
          ]
        },
        {
          "output_type": "stream",
          "name": "stderr",
          "text": []
        },
        {
          "output_type": "stream",
          "name": "stdout",
          "text": [
            "fold 0 => train acc : 92.00| train loss : 0.33| valid acc : 64.00| valid loss : 0.65\n"
          ]
        },
        {
          "output_type": "stream",
          "name": "stderr",
          "text": []
        },
        {
          "output_type": "stream",
          "name": "stdout",
          "text": [
            "fold 0 => train acc : 100.00| train loss : 0.37| valid acc : 64.00| valid loss : 0.65\n"
          ]
        },
        {
          "output_type": "stream",
          "name": "stderr",
          "text": []
        },
        {
          "output_type": "stream",
          "name": "stdout",
          "text": [
            "fold 0 => train acc : 92.00| train loss : 0.36| valid acc : 64.00| valid loss : 0.65\n"
          ]
        },
        {
          "output_type": "stream",
          "name": "stderr",
          "text": []
        },
        {
          "output_type": "stream",
          "name": "stdout",
          "text": [
            "fold 0 => train acc : 92.00| train loss : 0.40| valid acc : 64.00| valid loss : 0.65\n"
          ]
        },
        {
          "output_type": "stream",
          "name": "stderr",
          "text": []
        },
        {
          "output_type": "stream",
          "name": "stdout",
          "text": [
            "fold 0 => train acc : 92.00| train loss : 0.41| valid acc : 64.00| valid loss : 0.65\n"
          ]
        },
        {
          "output_type": "stream",
          "name": "stderr",
          "text": []
        },
        {
          "output_type": "stream",
          "name": "stdout",
          "text": [
            "fold 0 => train acc : 100.00| train loss : 0.35| valid acc : 64.00| valid loss : 0.65\n"
          ]
        },
        {
          "output_type": "stream",
          "name": "stderr",
          "text": []
        },
        {
          "output_type": "stream",
          "name": "stdout",
          "text": [
            "fold 0 => train acc : 92.00| train loss : 0.35| valid acc : 64.00| valid loss : 0.65\n"
          ]
        },
        {
          "output_type": "stream",
          "name": "stderr",
          "text": []
        },
        {
          "output_type": "stream",
          "name": "stdout",
          "text": [
            "fold 0 => train acc : 92.00| train loss : 0.34| valid acc : 64.00| valid loss : 0.65\n"
          ]
        },
        {
          "output_type": "stream",
          "name": "stderr",
          "text": []
        },
        {
          "output_type": "stream",
          "name": "stdout",
          "text": [
            "fold 0 => train acc : 77.00| train loss : 0.42| valid acc : 64.00| valid loss : 0.65\n"
          ]
        },
        {
          "output_type": "stream",
          "name": "stderr",
          "text": []
        },
        {
          "output_type": "stream",
          "name": "stdout",
          "text": [
            "fold 0 => train acc : 92.00| train loss : 0.38| valid acc : 64.00| valid loss : 0.65\n"
          ]
        },
        {
          "output_type": "stream",
          "name": "stderr",
          "text": []
        },
        {
          "output_type": "stream",
          "name": "stdout",
          "text": [
            "fold 0 => train acc : 92.00| train loss : 0.41| valid acc : 64.00| valid loss : 0.65\n"
          ]
        },
        {
          "output_type": "stream",
          "name": "stderr",
          "text": []
        },
        {
          "output_type": "stream",
          "name": "stdout",
          "text": [
            "fold 0 => train acc : 85.00| train loss : 0.39| valid acc : 64.00| valid loss : 0.65\n"
          ]
        },
        {
          "output_type": "stream",
          "name": "stderr",
          "text": []
        },
        {
          "output_type": "stream",
          "name": "stdout",
          "text": [
            "fold 0 => train acc : 92.00| train loss : 0.29| valid acc : 64.00| valid loss : 0.65\n"
          ]
        },
        {
          "output_type": "stream",
          "name": "stderr",
          "text": []
        },
        {
          "output_type": "stream",
          "name": "stdout",
          "text": [
            "fold 0 => train acc : 92.00| train loss : 0.34| valid acc : 64.00| valid loss : 0.65\n"
          ]
        },
        {
          "output_type": "stream",
          "name": "stderr",
          "text": []
        },
        {
          "output_type": "stream",
          "name": "stdout",
          "text": [
            "fold 0 => train acc : 85.00| train loss : 0.37| valid acc : 64.00| valid loss : 0.65\n"
          ]
        },
        {
          "output_type": "stream",
          "name": "stderr",
          "text": []
        },
        {
          "output_type": "stream",
          "name": "stdout",
          "text": [
            "fold 0 => train acc : 92.00| train loss : 0.35| valid acc : 64.00| valid loss : 0.65\n"
          ]
        },
        {
          "output_type": "stream",
          "name": "stderr",
          "text": []
        },
        {
          "output_type": "stream",
          "name": "stdout",
          "text": [
            "fold 0 => train acc : 85.00| train loss : 0.36| valid acc : 64.00| valid loss : 0.65\n"
          ]
        },
        {
          "output_type": "stream",
          "name": "stderr",
          "text": []
        },
        {
          "output_type": "stream",
          "name": "stdout",
          "text": [
            "fold 0 => train acc : 85.00| train loss : 0.42| valid acc : 64.00| valid loss : 0.65\n"
          ]
        },
        {
          "output_type": "stream",
          "name": "stderr",
          "text": []
        },
        {
          "output_type": "stream",
          "name": "stdout",
          "text": [
            "fold 0 => train acc : 92.00| train loss : 0.35| valid acc : 64.00| valid loss : 0.65\n"
          ]
        },
        {
          "output_type": "stream",
          "name": "stderr",
          "text": []
        },
        {
          "output_type": "stream",
          "name": "stdout",
          "text": [
            "fold 0 => train acc : 92.00| train loss : 0.38| valid acc : 64.00| valid loss : 0.65\n"
          ]
        },
        {
          "output_type": "stream",
          "name": "stderr",
          "text": []
        },
        {
          "output_type": "stream",
          "name": "stdout",
          "text": [
            "fold 0 => train acc : 100.00| train loss : 0.34| valid acc : 64.00| valid loss : 0.65\n"
          ]
        },
        {
          "output_type": "stream",
          "name": "stderr",
          "text": []
        },
        {
          "output_type": "stream",
          "name": "stdout",
          "text": [
            "fold 0 => train acc : 92.00| train loss : 0.37| valid acc : 64.00| valid loss : 0.65\n"
          ]
        },
        {
          "output_type": "stream",
          "name": "stderr",
          "text": []
        },
        {
          "output_type": "stream",
          "name": "stdout",
          "text": [
            "fold 0 => train acc : 85.00| train loss : 0.41| valid acc : 64.00| valid loss : 0.65\n"
          ]
        },
        {
          "output_type": "stream",
          "name": "stderr",
          "text": []
        },
        {
          "output_type": "stream",
          "name": "stdout",
          "text": [
            "fold 0 => train acc : 100.00| train loss : 0.33| valid acc : 64.00| valid loss : 0.65\n"
          ]
        },
        {
          "output_type": "stream",
          "name": "stderr",
          "text": []
        },
        {
          "output_type": "stream",
          "name": "stdout",
          "text": [
            "fold 0 => train acc : 92.00| train loss : 0.33| valid acc : 64.00| valid loss : 0.65\n"
          ]
        },
        {
          "output_type": "stream",
          "name": "stderr",
          "text": []
        },
        {
          "output_type": "stream",
          "name": "stdout",
          "text": [
            "fold 0 => train acc : 92.00| train loss : 0.33| valid acc : 64.00| valid loss : 0.65\n"
          ]
        },
        {
          "output_type": "stream",
          "name": "stderr",
          "text": []
        },
        {
          "output_type": "stream",
          "name": "stdout",
          "text": [
            "fold 0 => train acc : 92.00| train loss : 0.36| valid acc : 64.00| valid loss : 0.65\n"
          ]
        },
        {
          "output_type": "stream",
          "name": "stderr",
          "text": []
        },
        {
          "output_type": "stream",
          "name": "stdout",
          "text": [
            "fold 1 => train acc : 57.00| train loss : 0.70| valid acc : 54.00| valid loss : 0.68\n"
          ]
        },
        {
          "output_type": "stream",
          "name": "stderr",
          "text": []
        },
        {
          "output_type": "stream",
          "name": "stdout",
          "text": [
            "fold 1 => train acc : 64.00| train loss : 0.63| valid acc : 54.00| valid loss : 0.67\n"
          ]
        },
        {
          "output_type": "stream",
          "name": "stderr",
          "text": []
        },
        {
          "output_type": "stream",
          "name": "stdout",
          "text": [
            "fold 1 => train acc : 57.00| train loss : 0.61| valid acc : 69.00| valid loss : 0.66\n"
          ]
        },
        {
          "output_type": "stream",
          "name": "stderr",
          "text": []
        },
        {
          "output_type": "stream",
          "name": "stdout",
          "text": [
            "fold 1 => train acc : 79.00| train loss : 0.55| valid acc : 69.00| valid loss : 0.65\n"
          ]
        },
        {
          "output_type": "stream",
          "name": "stderr",
          "text": []
        },
        {
          "output_type": "stream",
          "name": "stdout",
          "text": [
            "fold 1 => train acc : 79.00| train loss : 0.53| valid acc : 69.00| valid loss : 0.65\n"
          ]
        },
        {
          "output_type": "stream",
          "name": "stderr",
          "text": []
        },
        {
          "output_type": "stream",
          "name": "stdout",
          "text": [
            "fold 1 => train acc : 93.00| train loss : 0.46| valid acc : 69.00| valid loss : 0.64\n"
          ]
        },
        {
          "output_type": "stream",
          "name": "stderr",
          "text": []
        },
        {
          "output_type": "stream",
          "name": "stdout",
          "text": [
            "fold 1 => train acc : 79.00| train loss : 0.53| valid acc : 77.00| valid loss : 0.64\n"
          ]
        },
        {
          "output_type": "stream",
          "name": "stderr",
          "text": []
        },
        {
          "output_type": "stream",
          "name": "stdout",
          "text": [
            "fold 1 => train acc : 93.00| train loss : 0.46| valid acc : 77.00| valid loss : 0.64\n"
          ]
        },
        {
          "output_type": "stream",
          "name": "stderr",
          "text": []
        },
        {
          "output_type": "stream",
          "name": "stdout",
          "text": [
            "fold 1 => train acc : 86.00| train loss : 0.41| valid acc : 77.00| valid loss : 0.64\n"
          ]
        },
        {
          "output_type": "stream",
          "name": "stderr",
          "text": []
        },
        {
          "output_type": "stream",
          "name": "stdout",
          "text": [
            "fold 1 => train acc : 93.00| train loss : 0.39| valid acc : 77.00| valid loss : 0.64\n"
          ]
        },
        {
          "output_type": "stream",
          "name": "stderr",
          "text": []
        },
        {
          "output_type": "stream",
          "name": "stdout",
          "text": [
            "fold 1 => train acc : 100.00| train loss : 0.37| valid acc : 77.00| valid loss : 0.64\n"
          ]
        },
        {
          "output_type": "stream",
          "name": "stderr",
          "text": []
        },
        {
          "output_type": "stream",
          "name": "stdout",
          "text": [
            "fold 1 => train acc : 93.00| train loss : 0.42| valid acc : 77.00| valid loss : 0.64\n"
          ]
        },
        {
          "output_type": "stream",
          "name": "stderr",
          "text": []
        },
        {
          "output_type": "stream",
          "name": "stdout",
          "text": [
            "fold 1 => train acc : 100.00| train loss : 0.36| valid acc : 77.00| valid loss : 0.64\n"
          ]
        },
        {
          "output_type": "stream",
          "name": "stderr",
          "text": []
        },
        {
          "output_type": "stream",
          "name": "stdout",
          "text": [
            "fold 1 => train acc : 93.00| train loss : 0.43| valid acc : 77.00| valid loss : 0.64\n"
          ]
        },
        {
          "output_type": "stream",
          "name": "stderr",
          "text": []
        },
        {
          "output_type": "stream",
          "name": "stdout",
          "text": [
            "fold 1 => train acc : 93.00| train loss : 0.43| valid acc : 77.00| valid loss : 0.64\n"
          ]
        },
        {
          "output_type": "stream",
          "name": "stderr",
          "text": []
        },
        {
          "output_type": "stream",
          "name": "stdout",
          "text": [
            "fold 1 => train acc : 100.00| train loss : 0.35| valid acc : 77.00| valid loss : 0.64\n"
          ]
        },
        {
          "output_type": "stream",
          "name": "stderr",
          "text": []
        },
        {
          "output_type": "stream",
          "name": "stdout",
          "text": [
            "fold 1 => train acc : 93.00| train loss : 0.35| valid acc : 77.00| valid loss : 0.64\n"
          ]
        },
        {
          "output_type": "stream",
          "name": "stderr",
          "text": []
        },
        {
          "output_type": "stream",
          "name": "stdout",
          "text": [
            "fold 1 => train acc : 93.00| train loss : 0.37| valid acc : 77.00| valid loss : 0.64\n"
          ]
        },
        {
          "output_type": "stream",
          "name": "stderr",
          "text": []
        },
        {
          "output_type": "stream",
          "name": "stdout",
          "text": [
            "fold 1 => train acc : 100.00| train loss : 0.38| valid acc : 77.00| valid loss : 0.64\n"
          ]
        },
        {
          "output_type": "stream",
          "name": "stderr",
          "text": []
        },
        {
          "output_type": "stream",
          "name": "stdout",
          "text": [
            "fold 1 => train acc : 86.00| train loss : 0.38| valid acc : 77.00| valid loss : 0.64\n"
          ]
        },
        {
          "output_type": "stream",
          "name": "stderr",
          "text": []
        },
        {
          "output_type": "stream",
          "name": "stdout",
          "text": [
            "fold 1 => train acc : 100.00| train loss : 0.34| valid acc : 77.00| valid loss : 0.64\n"
          ]
        },
        {
          "output_type": "stream",
          "name": "stderr",
          "text": []
        },
        {
          "output_type": "stream",
          "name": "stdout",
          "text": [
            "fold 1 => train acc : 100.00| train loss : 0.35| valid acc : 77.00| valid loss : 0.64\n"
          ]
        },
        {
          "output_type": "stream",
          "name": "stderr",
          "text": []
        },
        {
          "output_type": "stream",
          "name": "stdout",
          "text": [
            "fold 1 => train acc : 93.00| train loss : 0.36| valid acc : 77.00| valid loss : 0.64\n"
          ]
        },
        {
          "output_type": "stream",
          "name": "stderr",
          "text": []
        },
        {
          "output_type": "stream",
          "name": "stdout",
          "text": [
            "fold 1 => train acc : 93.00| train loss : 0.37| valid acc : 77.00| valid loss : 0.64\n"
          ]
        },
        {
          "output_type": "stream",
          "name": "stderr",
          "text": []
        },
        {
          "output_type": "stream",
          "name": "stdout",
          "text": [
            "fold 1 => train acc : 100.00| train loss : 0.31| valid acc : 77.00| valid loss : 0.64\n"
          ]
        },
        {
          "output_type": "stream",
          "name": "stderr",
          "text": []
        },
        {
          "output_type": "stream",
          "name": "stdout",
          "text": [
            "fold 1 => train acc : 100.00| train loss : 0.33| valid acc : 77.00| valid loss : 0.64\n"
          ]
        },
        {
          "output_type": "stream",
          "name": "stderr",
          "text": []
        },
        {
          "output_type": "stream",
          "name": "stdout",
          "text": [
            "fold 1 => train acc : 93.00| train loss : 0.36| valid acc : 77.00| valid loss : 0.64\n"
          ]
        },
        {
          "output_type": "stream",
          "name": "stderr",
          "text": []
        },
        {
          "output_type": "stream",
          "name": "stdout",
          "text": [
            "fold 1 => train acc : 93.00| train loss : 0.38| valid acc : 77.00| valid loss : 0.64\n"
          ]
        },
        {
          "output_type": "stream",
          "name": "stderr",
          "text": []
        },
        {
          "output_type": "stream",
          "name": "stdout",
          "text": [
            "fold 1 => train acc : 100.00| train loss : 0.34| valid acc : 77.00| valid loss : 0.64\n"
          ]
        },
        {
          "output_type": "stream",
          "name": "stderr",
          "text": []
        },
        {
          "output_type": "stream",
          "name": "stdout",
          "text": [
            "fold 1 => train acc : 93.00| train loss : 0.39| valid acc : 77.00| valid loss : 0.64\n"
          ]
        },
        {
          "output_type": "stream",
          "name": "stderr",
          "text": []
        },
        {
          "output_type": "stream",
          "name": "stdout",
          "text": [
            "fold 1 => train acc : 100.00| train loss : 0.35| valid acc : 77.00| valid loss : 0.64\n"
          ]
        },
        {
          "output_type": "stream",
          "name": "stderr",
          "text": []
        },
        {
          "output_type": "stream",
          "name": "stdout",
          "text": [
            "fold 1 => train acc : 86.00| train loss : 0.39| valid acc : 77.00| valid loss : 0.64\n"
          ]
        },
        {
          "output_type": "stream",
          "name": "stderr",
          "text": []
        },
        {
          "output_type": "stream",
          "name": "stdout",
          "text": [
            "fold 1 => train acc : 86.00| train loss : 0.38| valid acc : 77.00| valid loss : 0.64\n"
          ]
        },
        {
          "output_type": "stream",
          "name": "stderr",
          "text": []
        },
        {
          "output_type": "stream",
          "name": "stdout",
          "text": [
            "fold 1 => train acc : 79.00| train loss : 0.43| valid acc : 77.00| valid loss : 0.64\n"
          ]
        },
        {
          "output_type": "stream",
          "name": "stderr",
          "text": []
        },
        {
          "output_type": "stream",
          "name": "stdout",
          "text": [
            "fold 1 => train acc : 93.00| train loss : 0.35| valid acc : 77.00| valid loss : 0.64\n"
          ]
        },
        {
          "output_type": "stream",
          "name": "stderr",
          "text": []
        },
        {
          "output_type": "stream",
          "name": "stdout",
          "text": [
            "fold 1 => train acc : 86.00| train loss : 0.41| valid acc : 77.00| valid loss : 0.64\n"
          ]
        },
        {
          "output_type": "stream",
          "name": "stderr",
          "text": []
        },
        {
          "output_type": "stream",
          "name": "stdout",
          "text": [
            "fold 1 => train acc : 93.00| train loss : 0.36| valid acc : 77.00| valid loss : 0.64\n"
          ]
        },
        {
          "output_type": "stream",
          "name": "stderr",
          "text": []
        },
        {
          "output_type": "stream",
          "name": "stdout",
          "text": [
            "fold 1 => train acc : 93.00| train loss : 0.34| valid acc : 77.00| valid loss : 0.64\n"
          ]
        },
        {
          "output_type": "stream",
          "name": "stderr",
          "text": []
        },
        {
          "output_type": "stream",
          "name": "stdout",
          "text": [
            "fold 1 => train acc : 100.00| train loss : 0.37| valid acc : 77.00| valid loss : 0.64\n"
          ]
        },
        {
          "output_type": "stream",
          "name": "stderr",
          "text": []
        },
        {
          "output_type": "stream",
          "name": "stdout",
          "text": [
            "fold 1 => train acc : 93.00| train loss : 0.37| valid acc : 77.00| valid loss : 0.64\n"
          ]
        },
        {
          "output_type": "stream",
          "name": "stderr",
          "text": []
        },
        {
          "output_type": "stream",
          "name": "stdout",
          "text": [
            "fold 1 => train acc : 100.00| train loss : 0.33| valid acc : 77.00| valid loss : 0.64\n"
          ]
        },
        {
          "output_type": "stream",
          "name": "stderr",
          "text": []
        },
        {
          "output_type": "stream",
          "name": "stdout",
          "text": [
            "fold 1 => train acc : 100.00| train loss : 0.32| valid acc : 77.00| valid loss : 0.64\n"
          ]
        },
        {
          "output_type": "stream",
          "name": "stderr",
          "text": []
        },
        {
          "output_type": "stream",
          "name": "stdout",
          "text": [
            "fold 1 => train acc : 86.00| train loss : 0.38| valid acc : 77.00| valid loss : 0.64\n"
          ]
        },
        {
          "output_type": "stream",
          "name": "stderr",
          "text": []
        },
        {
          "output_type": "stream",
          "name": "stdout",
          "text": [
            "fold 1 => train acc : 93.00| train loss : 0.41| valid acc : 77.00| valid loss : 0.64\n"
          ]
        },
        {
          "output_type": "stream",
          "name": "stderr",
          "text": []
        },
        {
          "output_type": "stream",
          "name": "stdout",
          "text": [
            "fold 1 => train acc : 93.00| train loss : 0.30| valid acc : 77.00| valid loss : 0.64\n"
          ]
        },
        {
          "output_type": "stream",
          "name": "stderr",
          "text": []
        },
        {
          "output_type": "stream",
          "name": "stdout",
          "text": [
            "fold 1 => train acc : 93.00| train loss : 0.40| valid acc : 77.00| valid loss : 0.64\n"
          ]
        },
        {
          "output_type": "stream",
          "name": "stderr",
          "text": []
        },
        {
          "output_type": "stream",
          "name": "stdout",
          "text": [
            "fold 1 => train acc : 93.00| train loss : 0.33| valid acc : 77.00| valid loss : 0.64\n"
          ]
        },
        {
          "output_type": "stream",
          "name": "stderr",
          "text": []
        },
        {
          "output_type": "stream",
          "name": "stdout",
          "text": [
            "fold 1 => train acc : 100.00| train loss : 0.31| valid acc : 77.00| valid loss : 0.64\n"
          ]
        },
        {
          "output_type": "stream",
          "name": "stderr",
          "text": []
        },
        {
          "output_type": "stream",
          "name": "stdout",
          "text": [
            "fold 1 => train acc : 100.00| train loss : 0.35| valid acc : 77.00| valid loss : 0.64\n"
          ]
        },
        {
          "output_type": "stream",
          "name": "stderr",
          "text": []
        },
        {
          "output_type": "stream",
          "name": "stdout",
          "text": [
            "fold 1 => train acc : 100.00| train loss : 0.30| valid acc : 77.00| valid loss : 0.64\n"
          ]
        },
        {
          "output_type": "stream",
          "name": "stderr",
          "text": []
        },
        {
          "output_type": "stream",
          "name": "stdout",
          "text": [
            "fold 1 => train acc : 100.00| train loss : 0.32| valid acc : 77.00| valid loss : 0.64\n"
          ]
        },
        {
          "output_type": "stream",
          "name": "stderr",
          "text": []
        },
        {
          "output_type": "stream",
          "name": "stdout",
          "text": [
            "fold 1 => train acc : 93.00| train loss : 0.34| valid acc : 77.00| valid loss : 0.64\n"
          ]
        },
        {
          "output_type": "stream",
          "name": "stderr",
          "text": []
        },
        {
          "output_type": "stream",
          "name": "stdout",
          "text": [
            "fold 1 => train acc : 93.00| train loss : 0.40| valid acc : 77.00| valid loss : 0.64\n"
          ]
        },
        {
          "output_type": "stream",
          "name": "stderr",
          "text": []
        },
        {
          "output_type": "stream",
          "name": "stdout",
          "text": [
            "fold 1 => train acc : 100.00| train loss : 0.33| valid acc : 77.00| valid loss : 0.64\n"
          ]
        },
        {
          "output_type": "stream",
          "name": "stderr",
          "text": []
        },
        {
          "output_type": "stream",
          "name": "stdout",
          "text": [
            "fold 1 => train acc : 100.00| train loss : 0.36| valid acc : 77.00| valid loss : 0.64\n"
          ]
        },
        {
          "output_type": "stream",
          "name": "stderr",
          "text": []
        },
        {
          "output_type": "stream",
          "name": "stdout",
          "text": [
            "fold 1 => train acc : 100.00| train loss : 0.36| valid acc : 77.00| valid loss : 0.64\n"
          ]
        },
        {
          "output_type": "stream",
          "name": "stderr",
          "text": []
        },
        {
          "output_type": "stream",
          "name": "stdout",
          "text": [
            "fold 1 => train acc : 100.00| train loss : 0.38| valid acc : 77.00| valid loss : 0.64\n"
          ]
        },
        {
          "output_type": "stream",
          "name": "stderr",
          "text": []
        },
        {
          "output_type": "stream",
          "name": "stdout",
          "text": [
            "fold 1 => train acc : 100.00| train loss : 0.36| valid acc : 77.00| valid loss : 0.64\n"
          ]
        },
        {
          "output_type": "stream",
          "name": "stderr",
          "text": []
        },
        {
          "output_type": "stream",
          "name": "stdout",
          "text": [
            "fold 1 => train acc : 93.00| train loss : 0.35| valid acc : 77.00| valid loss : 0.64\n"
          ]
        },
        {
          "output_type": "stream",
          "name": "stderr",
          "text": []
        },
        {
          "output_type": "stream",
          "name": "stdout",
          "text": [
            "fold 1 => train acc : 100.00| train loss : 0.33| valid acc : 77.00| valid loss : 0.64\n"
          ]
        },
        {
          "output_type": "stream",
          "name": "stderr",
          "text": []
        },
        {
          "output_type": "stream",
          "name": "stdout",
          "text": [
            "fold 1 => train acc : 100.00| train loss : 0.34| valid acc : 77.00| valid loss : 0.64\n"
          ]
        },
        {
          "output_type": "stream",
          "name": "stderr",
          "text": []
        },
        {
          "output_type": "stream",
          "name": "stdout",
          "text": [
            "fold 1 => train acc : 100.00| train loss : 0.33| valid acc : 77.00| valid loss : 0.64\n"
          ]
        },
        {
          "output_type": "stream",
          "name": "stderr",
          "text": []
        },
        {
          "output_type": "stream",
          "name": "stdout",
          "text": [
            "fold 1 => train acc : 71.00| train loss : 0.40| valid acc : 77.00| valid loss : 0.64\n"
          ]
        },
        {
          "output_type": "stream",
          "name": "stderr",
          "text": []
        },
        {
          "output_type": "stream",
          "name": "stdout",
          "text": [
            "fold 1 => train acc : 100.00| train loss : 0.35| valid acc : 77.00| valid loss : 0.64\n"
          ]
        },
        {
          "output_type": "stream",
          "name": "stderr",
          "text": []
        },
        {
          "output_type": "stream",
          "name": "stdout",
          "text": [
            "fold 1 => train acc : 100.00| train loss : 0.36| valid acc : 77.00| valid loss : 0.64\n"
          ]
        },
        {
          "output_type": "stream",
          "name": "stderr",
          "text": []
        },
        {
          "output_type": "stream",
          "name": "stdout",
          "text": [
            "fold 1 => train acc : 100.00| train loss : 0.34| valid acc : 77.00| valid loss : 0.64\n"
          ]
        },
        {
          "output_type": "stream",
          "name": "stderr",
          "text": []
        },
        {
          "output_type": "stream",
          "name": "stdout",
          "text": [
            "fold 1 => train acc : 100.00| train loss : 0.29| valid acc : 77.00| valid loss : 0.64\n"
          ]
        },
        {
          "output_type": "stream",
          "name": "stderr",
          "text": []
        },
        {
          "output_type": "stream",
          "name": "stdout",
          "text": [
            "fold 1 => train acc : 100.00| train loss : 0.41| valid acc : 77.00| valid loss : 0.64\n"
          ]
        },
        {
          "output_type": "stream",
          "name": "stderr",
          "text": []
        },
        {
          "output_type": "stream",
          "name": "stdout",
          "text": [
            "fold 1 => train acc : 100.00| train loss : 0.33| valid acc : 77.00| valid loss : 0.64\n"
          ]
        },
        {
          "output_type": "stream",
          "name": "stderr",
          "text": []
        },
        {
          "output_type": "stream",
          "name": "stdout",
          "text": [
            "fold 1 => train acc : 79.00| train loss : 0.38| valid acc : 77.00| valid loss : 0.64\n"
          ]
        },
        {
          "output_type": "stream",
          "name": "stderr",
          "text": []
        },
        {
          "output_type": "stream",
          "name": "stdout",
          "text": [
            "fold 1 => train acc : 86.00| train loss : 0.39| valid acc : 77.00| valid loss : 0.64\n"
          ]
        },
        {
          "output_type": "stream",
          "name": "stderr",
          "text": []
        },
        {
          "output_type": "stream",
          "name": "stdout",
          "text": [
            "fold 1 => train acc : 100.00| train loss : 0.31| valid acc : 77.00| valid loss : 0.64\n"
          ]
        },
        {
          "output_type": "stream",
          "name": "stderr",
          "text": []
        },
        {
          "output_type": "stream",
          "name": "stdout",
          "text": [
            "fold 1 => train acc : 93.00| train loss : 0.33| valid acc : 77.00| valid loss : 0.64\n"
          ]
        },
        {
          "output_type": "stream",
          "name": "stderr",
          "text": []
        },
        {
          "output_type": "stream",
          "name": "stdout",
          "text": [
            "fold 1 => train acc : 100.00| train loss : 0.32| valid acc : 77.00| valid loss : 0.64\n"
          ]
        },
        {
          "output_type": "stream",
          "name": "stderr",
          "text": []
        },
        {
          "output_type": "stream",
          "name": "stdout",
          "text": [
            "fold 1 => train acc : 100.00| train loss : 0.37| valid acc : 77.00| valid loss : 0.64\n"
          ]
        },
        {
          "output_type": "stream",
          "name": "stderr",
          "text": []
        },
        {
          "output_type": "stream",
          "name": "stdout",
          "text": [
            "fold 1 => train acc : 86.00| train loss : 0.36| valid acc : 77.00| valid loss : 0.64\n"
          ]
        },
        {
          "output_type": "stream",
          "name": "stderr",
          "text": []
        },
        {
          "output_type": "stream",
          "name": "stdout",
          "text": [
            "fold 1 => train acc : 100.00| train loss : 0.35| valid acc : 77.00| valid loss : 0.64\n"
          ]
        },
        {
          "output_type": "stream",
          "name": "stderr",
          "text": []
        },
        {
          "output_type": "stream",
          "name": "stdout",
          "text": [
            "fold 1 => train acc : 93.00| train loss : 0.36| valid acc : 77.00| valid loss : 0.64\n"
          ]
        },
        {
          "output_type": "stream",
          "name": "stderr",
          "text": []
        },
        {
          "output_type": "stream",
          "name": "stdout",
          "text": [
            "fold 1 => train acc : 93.00| train loss : 0.35| valid acc : 77.00| valid loss : 0.64\n"
          ]
        },
        {
          "output_type": "stream",
          "name": "stderr",
          "text": []
        },
        {
          "output_type": "stream",
          "name": "stdout",
          "text": [
            "fold 1 => train acc : 86.00| train loss : 0.40| valid acc : 77.00| valid loss : 0.64\n"
          ]
        },
        {
          "output_type": "stream",
          "name": "stderr",
          "text": []
        },
        {
          "output_type": "stream",
          "name": "stdout",
          "text": [
            "fold 1 => train acc : 79.00| train loss : 0.33| valid acc : 77.00| valid loss : 0.64\n"
          ]
        },
        {
          "output_type": "stream",
          "name": "stderr",
          "text": []
        },
        {
          "output_type": "stream",
          "name": "stdout",
          "text": [
            "fold 1 => train acc : 100.00| train loss : 0.32| valid acc : 77.00| valid loss : 0.64\n"
          ]
        },
        {
          "output_type": "stream",
          "name": "stderr",
          "text": []
        },
        {
          "output_type": "stream",
          "name": "stdout",
          "text": [
            "fold 1 => train acc : 93.00| train loss : 0.34| valid acc : 77.00| valid loss : 0.64\n"
          ]
        },
        {
          "output_type": "stream",
          "name": "stderr",
          "text": []
        },
        {
          "output_type": "stream",
          "name": "stdout",
          "text": [
            "fold 1 => train acc : 100.00| train loss : 0.35| valid acc : 77.00| valid loss : 0.64\n"
          ]
        },
        {
          "output_type": "stream",
          "name": "stderr",
          "text": []
        },
        {
          "output_type": "stream",
          "name": "stdout",
          "text": [
            "fold 1 => train acc : 93.00| train loss : 0.35| valid acc : 77.00| valid loss : 0.64\n"
          ]
        },
        {
          "output_type": "stream",
          "name": "stderr",
          "text": []
        },
        {
          "output_type": "stream",
          "name": "stdout",
          "text": [
            "fold 1 => train acc : 93.00| train loss : 0.38| valid acc : 77.00| valid loss : 0.64\n"
          ]
        },
        {
          "output_type": "stream",
          "name": "stderr",
          "text": []
        },
        {
          "output_type": "stream",
          "name": "stdout",
          "text": [
            "fold 1 => train acc : 93.00| train loss : 0.39| valid acc : 77.00| valid loss : 0.64\n"
          ]
        },
        {
          "output_type": "stream",
          "name": "stderr",
          "text": []
        },
        {
          "output_type": "stream",
          "name": "stdout",
          "text": [
            "fold 1 => train acc : 93.00| train loss : 0.37| valid acc : 77.00| valid loss : 0.64\n"
          ]
        },
        {
          "output_type": "stream",
          "name": "stderr",
          "text": []
        },
        {
          "output_type": "stream",
          "name": "stdout",
          "text": [
            "fold 1 => train acc : 100.00| train loss : 0.32| valid acc : 77.00| valid loss : 0.64\n"
          ]
        },
        {
          "output_type": "stream",
          "name": "stderr",
          "text": []
        },
        {
          "output_type": "stream",
          "name": "stdout",
          "text": [
            "fold 1 => train acc : 100.00| train loss : 0.33| valid acc : 77.00| valid loss : 0.64\n"
          ]
        },
        {
          "output_type": "stream",
          "name": "stderr",
          "text": []
        },
        {
          "output_type": "stream",
          "name": "stdout",
          "text": [
            "fold 1 => train acc : 100.00| train loss : 0.32| valid acc : 77.00| valid loss : 0.64\n"
          ]
        },
        {
          "output_type": "stream",
          "name": "stderr",
          "text": []
        },
        {
          "output_type": "stream",
          "name": "stdout",
          "text": [
            "fold 1 => train acc : 86.00| train loss : 0.33| valid acc : 77.00| valid loss : 0.64\n"
          ]
        },
        {
          "output_type": "stream",
          "name": "stderr",
          "text": []
        },
        {
          "output_type": "stream",
          "name": "stdout",
          "text": [
            "fold 1 => train acc : 93.00| train loss : 0.37| valid acc : 77.00| valid loss : 0.64\n"
          ]
        },
        {
          "output_type": "stream",
          "name": "stderr",
          "text": []
        },
        {
          "output_type": "stream",
          "name": "stdout",
          "text": [
            "fold 1 => train acc : 93.00| train loss : 0.39| valid acc : 77.00| valid loss : 0.64\n"
          ]
        },
        {
          "output_type": "stream",
          "name": "stderr",
          "text": []
        },
        {
          "output_type": "stream",
          "name": "stdout",
          "text": [
            "fold 1 => train acc : 100.00| train loss : 0.37| valid acc : 77.00| valid loss : 0.64\n"
          ]
        },
        {
          "output_type": "stream",
          "name": "stderr",
          "text": []
        },
        {
          "output_type": "stream",
          "name": "stdout",
          "text": [
            "fold 1 => train acc : 93.00| train loss : 0.35| valid acc : 77.00| valid loss : 0.64\n"
          ]
        },
        {
          "output_type": "stream",
          "name": "stderr",
          "text": []
        },
        {
          "output_type": "stream",
          "name": "stdout",
          "text": [
            "fold 1 => train acc : 93.00| train loss : 0.36| valid acc : 77.00| valid loss : 0.64\n"
          ]
        },
        {
          "output_type": "stream",
          "name": "stderr",
          "text": []
        },
        {
          "output_type": "stream",
          "name": "stdout",
          "text": [
            "fold 1 => train acc : 93.00| train loss : 0.35| valid acc : 77.00| valid loss : 0.64\n"
          ]
        },
        {
          "output_type": "stream",
          "name": "stderr",
          "text": []
        },
        {
          "output_type": "stream",
          "name": "stdout",
          "text": [
            "fold 1 => train acc : 100.00| train loss : 0.35| valid acc : 77.00| valid loss : 0.64\n"
          ]
        },
        {
          "output_type": "stream",
          "name": "stderr",
          "text": [
            "                                                                                 "
          ]
        },
        {
          "output_type": "stream",
          "name": "stdout",
          "text": [
            "fold 1 => train acc : 100.00| train loss : 0.35| valid acc : 77.00| valid loss : 0.64\n"
          ]
        },
        {
          "output_type": "stream",
          "name": "stderr",
          "text": [
            "\r"
          ]
        }
      ]
    },
    {
      "cell_type": "code",
      "source": [
        "mean_cv_scores = {k: np.mean(v) for k, v in cv_scores.items()}  \n",
        "print(f\"mean accuracy using 10 foldCV : {mean_cv_scores['Accuracy']:0.2f}\")"
      ],
      "metadata": {
        "colab": {
          "base_uri": "https://localhost:8080/"
        },
        "id": "QZ52JtLbi8mn",
        "outputId": "0faff26c-8165-4228-f61c-0117d12cffe3"
      },
      "execution_count": null,
      "outputs": [
        {
          "output_type": "stream",
          "name": "stdout",
          "text": [
            "mean accuracy using 10 foldCV : 70.50\n"
          ]
        }
      ]
    },
    {
      "cell_type": "code",
      "source": [
        "# create model\n",
        "model = NeuralNet(input_size, output_size)\n",
        "\n",
        "# create loss and optimizer\n",
        "criterion = nn.BCELoss()\n",
        "optimizer = torch.optim.Adam(model.parameters(), lr= learning_rate)\n",
        "scheduler = lr_scheduler.StepLR(optimizer, 3, gamma=0.5)\n",
        "total_step = len(train_loader)"
      ],
      "metadata": {
        "id": "CuJ6rnOoi8og"
      },
      "execution_count": null,
      "outputs": []
    },
    {
      "cell_type": "code",
      "source": [
        "model"
      ],
      "metadata": {
        "colab": {
          "base_uri": "https://localhost:8080/"
        },
        "id": "xVnke2Hmi8qX",
        "outputId": "0407cfc9-9253-4728-d2ec-13207357a50d"
      },
      "execution_count": null,
      "outputs": [
        {
          "output_type": "execute_result",
          "data": {
            "text/plain": [
              "NeuralNet(\n",
              "  (fc): Sequential(\n",
              "    (0): Linear(in_features=24, out_features=100, bias=True)\n",
              "    (1): Dropout(p=0.25, inplace=False)\n",
              "    (2): ReLU()\n",
              "    (3): Linear(in_features=100, out_features=50, bias=True)\n",
              "    (4): Dropout(p=0.5, inplace=False)\n",
              "    (5): ReLU()\n",
              "    (6): Linear(in_features=50, out_features=1, bias=True)\n",
              "    (7): Sigmoid()\n",
              "  )\n",
              ")"
            ]
          },
          "metadata": {},
          "execution_count": 35
        }
      ]
    },
    {
      "cell_type": "code",
      "source": [
        "train_loss, train_acc  = [], []\n",
        "valid_loss, valid_acc = [],[]\n",
        "num_epoch = 100\n",
        "for epoch in range(num_epoch):\n",
        "  train_loss, train_acc = train_fun(model, train_loader)\n",
        "  valid_loss, valid_acc = evaluate(model, validloader) \n",
        "\n",
        "  writer.flush()   \n",
        "  scheduler.step()"
      ],
      "metadata": {
        "colab": {
          "base_uri": "https://localhost:8080/"
        },
        "id": "zkkMRhWKi8sd",
        "outputId": "66ccacd6-305a-4554-f5e2-855351f05ded"
      },
      "execution_count": null,
      "outputs": [
        {
          "output_type": "stream",
          "name": "stderr",
          "text": []
        }
      ]
    },
    {
      "cell_type": "code",
      "source": [
        "#Training and validation loss\n",
        "plt.plot(train_loss, label='Training loss')\n",
        "plt.plot(valid_loss, label='Validation loss')\n",
        "\n",
        "plt.legend(frameon=False)\n",
        "plt.xlabel('epoch')\n",
        "plt.ylabel('loss value')\n",
        "plt.title(\"Loss function for each epoch\") \n",
        "plt.show()"
      ],
      "metadata": {
        "colab": {
          "base_uri": "https://localhost:8080/",
          "height": 472
        },
        "id": "MwmTFyhfi8uP",
        "outputId": "810ef131-ced5-4552-d637-d44c21cacc43"
      },
      "execution_count": null,
      "outputs": [
        {
          "output_type": "display_data",
          "data": {
            "text/plain": [
              "<Figure size 640x480 with 1 Axes>"
            ],
            "image/png": "[encoded data removed]"
          },
          "metadata": {}
        }
      ]
    },
    {
      "cell_type": "code",
      "source": [
        "#Training and validation accuracy\n",
        "plt.plot(train_acc, label='Training accuracy')\n",
        "plt.plot(valid_acc, label='Validation accuracy')\n",
        "\n",
        "plt.legend(frameon=False)\n",
        "plt.xlabel('epoch')\n",
        "plt.ylabel('accuracy value')\n",
        "plt.title(\"Accuracy for each epoch\")\n",
        "plt.show()"
      ],
      "metadata": {
        "colab": {
          "base_uri": "https://localhost:8080/",
          "height": 472
        },
        "id": "7t6CZ3bLi8wN",
        "outputId": "e40d439d-56be-4eb4-e06e-561bab918609"
      },
      "execution_count": null,
      "outputs": [
        {
          "output_type": "display_data",
          "data": {
            "text/plain": [
              "<Figure size 640x480 with 1 Axes>"
            ],
            "image/png": "[encoded data removed]"
          },
          "metadata": {}
        }
      ]
    },
    {
      "cell_type": "code",
      "source": [
        "print(f'training loss on last epoch : {train_loss[-1]}')\n",
        "print(f'validation loss on last epoch : {valid_loss[-1]}')\n",
        "print('-'*20)\n",
        "print(f'training accuracy on last epoch : {train_acc[-1]}')\n",
        "print(f'validation accuracy on last epoch : {valid_acc[-1]}')"
      ],
      "metadata": {
        "colab": {
          "base_uri": "https://localhost:8080/"
        },
        "id": "kReLdwq3i8yc",
        "outputId": "5dba07f7-c0fc-4c80-db65-8f1b6fe733d3"
      },
      "execution_count": null,
      "outputs": [
        {
          "output_type": "stream",
          "name": "stdout",
          "text": [
            "training loss on last epoch : 0.2804068401455879\n",
            "validation loss on last epoch : 0.21724653244018555\n",
            "--------------------\n",
            "training accuracy on last epoch : 95.5\n",
            "validation accuracy on last epoch : 92.0\n"
          ]
        }
      ]
    },
    {
      "cell_type": "code",
      "source": [
        "#test the model\n",
        "num_class =2\n",
        "classes = ['0', '1']\n",
        "\n",
        "y_pred_test, y_actual_test = test(model, test_loader)"
      ],
      "metadata": {
        "colab": {
          "base_uri": "https://localhost:8080/"
        },
        "id": "yaIecojsi81_",
        "outputId": "2671880e-73e1-4012-ce89-001ff843a550"
      },
      "execution_count": null,
      "outputs": [
        {
          "output_type": "stream",
          "name": "stdout",
          "text": [
            "accuracy of network on the 1 data is : 80.0\n",
            "Accuracy of 0: 83.33333333333333 %\n",
            "Accuracy of 1: 75.0 %\n"
          ]
        }
      ]
    },
    {
      "cell_type": "code",
      "source": [
        "y_actual_test = [int(y) for y in y_actual_test]  # Convert to list of integers\n",
        "y_pred_test = [int(y.item()) for y in y_pred_test]  # Convert tensor to integer and then to list of integers"
      ],
      "metadata": {
        "id": "SFq4Rr7mjyT2"
      },
      "execution_count": null,
      "outputs": []
    },
    {
      "cell_type": "code",
      "source": [
        "print(classification_report(y_actual_test, y_pred_test))"
      ],
      "metadata": {
        "colab": {
          "base_uri": "https://localhost:8080/"
        },
        "id": "j4Dzx4dLjyXI",
        "outputId": "ee1909bd-8694-4b2a-efdf-79e73e1418fa"
      },
      "execution_count": null,
      "outputs": [
        {
          "output_type": "stream",
          "name": "stdout",
          "text": [
            "              precision    recall  f1-score   support\n",
            "\n",
            "           0       0.83      0.83      0.83         6\n",
            "           1       0.75      0.75      0.75         4\n",
            "\n",
            "    accuracy                           0.80        10\n",
            "   macro avg       0.79      0.79      0.79        10\n",
            "weighted avg       0.80      0.80      0.80        10\n",
            "\n"
          ]
        }
      ]
    },
    {
      "cell_type": "code",
      "source": [
        "print(confusion_matrix(y_actual_test, y_pred_test))\n"
      ],
      "metadata": {
        "colab": {
          "base_uri": "https://localhost:8080/"
        },
        "id": "Q4bFVGq4jyl4",
        "outputId": "efba834e-6b73-4785-d63a-d02cab1772d3"
      },
      "execution_count": null,
      "outputs": [
        {
          "output_type": "stream",
          "name": "stdout",
          "text": [
            "[[5 1]\n",
            " [1 3]]\n"
          ]
        }
      ]
    },
    {
      "cell_type": "markdown",
      "source": [
        "# **Autoencoder+MLP**"
      ],
      "metadata": {
        "id": "ox9pzuiVN8x2"
      }
    },
    {
      "cell_type": "code",
      "source": [
        "class Autoencoder(nn.Module):\n",
        "    def __init__(self, input_size):\n",
        "        super(Autoencoder, self).__init__()\n",
        "        # Create linear encoder with Linear layer followed by LeakyReLU activation function\n",
        "        self.encoder = nn.Sequential(\n",
        "            torch.nn.Linear(input_size, 1000),\n",
        "            nn.ReLU(),\n",
        "            nn.Dropout(0.25),\n",
        "            torch.nn.Linear(1000, 500),\n",
        "            nn.ReLU(),\n",
        "            nn.Dropout(0.25),\n",
        "            torch.nn.Linear(500, 10),\n",
        "            nn.ReLU(),\n",
        "        )\n",
        "\n",
        "        # Create linear decoder with Linear layer followed by LeakyReLU activation function\n",
        "        self.decoder = nn.Sequential(\n",
        "            torch.nn.Linear(10, 500),\n",
        "            nn.ReLU(),\n",
        "            nn.Dropout(0.25),\n",
        "            torch.nn.Linear(500, 1000),\n",
        "            nn.ReLU(),\n",
        "            nn.Dropout(0.25),\n",
        "            torch.nn.Linear(1000, input_size),\n",
        "            nn.Sigmoid()\n",
        "        )\n",
        "\n",
        "    def forward(self, x):\n",
        "        encoded = self.encoder(x)\n",
        "        decoded = self.decoder(encoded)\n",
        "        return encoded, decoded\n"
      ],
      "metadata": {
        "id": "T1TGnkanOCs_"
      },
      "execution_count": null,
      "outputs": []
    },
    {
      "cell_type": "code",
      "source": [
        "# define a function for training a model\n",
        "def train_ae(model1, train_loader):\n",
        "  train_epoch_loss = 0\n",
        "  model1.train() # train the model\n",
        "  loop = tqdm(enumerate(train_loader), total = total_step, leave = False)\n",
        "\n",
        "  for i, batch in loop:\n",
        "    optimizer.zero_grad()\n",
        "    x, y = batch # retrieve x and y\n",
        "    x = x.to(device)\n",
        "    _, x_pred = model1(x)\n",
        "    loss_train = criterion(x_pred, x)\n",
        "    loss_train.backward()\n",
        "    optimizer.step()\n",
        "\n",
        "    train_epoch_loss += loss_train.item()\n",
        "    loop.set_description(f'Epoch : [{epoch}/{num_epoch}]')\n",
        "    loop.set_postfix(loss = loss_train.item()) \n",
        "  \n",
        "  train_loss.append(train_epoch_loss/len(train_loader)) \n",
        "      \n",
        "  # if you want to monitor your model in tensorboard   \n",
        "  writer.add_scalar('training loss',train_epoch_loss/len(train_loader) , epoch)\n",
        "  return train_loss\n",
        "\n",
        "# define a function for evaluating model\n",
        "def evaluate_ae(model1, valid_loader):\n",
        "  with torch.no_grad():\n",
        "    model1.eval()\n",
        "    val_epoch_loss = 0\n",
        "\n",
        "    for batch in valid_loader:\n",
        "      x, y = batch\n",
        "      x = x.to(device)\n",
        "      _, x_pred_val = model1(x)\n",
        "      loss_valid = criterion(x_pred_val, x)\n",
        "      val_epoch_loss += loss_valid.item()\n",
        "\n",
        "    valid_loss.append(val_epoch_loss/len(valid_loader)) \n",
        "\n",
        "    writer.add_scalar('validation loss',val_epoch_loss/len(valid_loader) , epoch)\n",
        "  return valid_loss\n",
        "\n",
        "# define a function for evaluating model on test set\n",
        "def test_ae(model1, test_loader):\n",
        "  model1.eval()\n",
        "  with torch.no_grad():\n",
        "    test_epoch_loss = 0\n",
        "\n",
        "    for batch in test_loader:\n",
        "      x, y = batch\n",
        "      _, x_pred_test = model1(x)\n",
        "      loss_test = criterion(x_pred_test, x)\n",
        "      test_epoch_loss += loss_test.item()\n",
        "    \n",
        "    test_loss.append(test_epoch_loss/len(test_loader))\n",
        "  return test_loss"
      ],
      "metadata": {
        "id": "36CU-giOOLr-"
      },
      "execution_count": null,
      "outputs": []
    },
    {
      "cell_type": "code",
      "source": [
        "#Parameter tuning using Cross validation\n",
        "\n",
        "input_size = X.shape[1]\n",
        "num_epoch = 100\n",
        "learning_rate = 0.01"
      ],
      "metadata": {
        "id": "LKmR_ajbOLue"
      },
      "execution_count": null,
      "outputs": []
    },
    {
      "cell_type": "code",
      "source": [
        "from torch.utils.tensorboard import SummaryWriter\n",
        "writer = SummaryWriter('parkinson_ae')"
      ],
      "metadata": {
        "id": "dCHZoo_GOLxB"
      },
      "execution_count": null,
      "outputs": []
    },
    {
      "cell_type": "code",
      "source": [
        "fold = StratifiedKFold(2) # shuffle false because we shuffled data in splitting train and test section\n",
        "\n",
        "for fold, (train_ids, valid_ids) in enumerate(fold.split(X_train, y_train)):\n",
        "  # sample elements randomly from a give list of ids, no replacement\n",
        "  train_subsampler = torch.utils.data.SubsetRandomSampler(train_ids)\n",
        "  valid_subsampler = torch.utils.data.SubsetRandomSampler(valid_ids)\n",
        "\n",
        "  # create dataloader for train and valid data in this fold\n",
        "  trainloader = torch.utils.data.DataLoader(train_data, batch_size=BATCH_SIZE, sampler=train_subsampler)\n",
        "  validloader = torch.utils.data.DataLoader(train_data, batch_size=BATCH_SIZE, sampler=valid_subsampler)\n",
        "\n",
        "  model = Autoencoder(input_size)\n",
        "  optimizer = torch.optim.Adam(model.parameters(), lr= learning_rate)\n",
        "  criterion = nn.MSELoss()\n",
        "  scheduler = lr_scheduler.StepLR(optimizer, 3, gamma=0.3)\n",
        "\n",
        "  total_step = len(trainloader)\n",
        "  train_loss, valid_loss = [], []\n",
        "\n",
        "  for epoch in range(num_epoch):\n",
        "    train_loss = train_ae(model, trainloader)\n",
        "    writer.flush() \n",
        "    valid_loss = evaluate_ae(model, validloader)   \n",
        "    print(f'fold {fold} => train loss : {train_loss[-1]:0.2f}| valid loss : {valid_loss[-1]:0.2f}')\n",
        "    scheduler.step()"
      ],
      "metadata": {
        "colab": {
          "base_uri": "https://localhost:8080/"
        },
        "id": "KZ6_ZPKlOLzC",
        "outputId": "f8fe8491-9f33-448e-f475-bd37c3edcf29"
      },
      "execution_count": null,
      "outputs": [
        {
          "output_type": "stream",
          "name": "stderr",
          "text": []
        },
        {
          "output_type": "stream",
          "name": "stdout",
          "text": [
            "fold 0 => train loss : 1.38| valid loss : 0.99\n"
          ]
        },
        {
          "output_type": "stream",
          "name": "stderr",
          "text": []
        },
        {
          "output_type": "stream",
          "name": "stdout",
          "text": [
            "fold 0 => train loss : 1.04| valid loss : 0.97\n"
          ]
        },
        {
          "output_type": "stream",
          "name": "stderr",
          "text": []
        },
        {
          "output_type": "stream",
          "name": "stdout",
          "text": [
            "fold 0 => train loss : 1.05| valid loss : 1.01\n"
          ]
        },
        {
          "output_type": "stream",
          "name": "stderr",
          "text": []
        },
        {
          "output_type": "stream",
          "name": "stdout",
          "text": [
            "fold 0 => train loss : 1.07| valid loss : 1.01\n"
          ]
        },
        {
          "output_type": "stream",
          "name": "stderr",
          "text": []
        },
        {
          "output_type": "stream",
          "name": "stdout",
          "text": [
            "fold 0 => train loss : 1.07| valid loss : 1.01\n"
          ]
        },
        {
          "output_type": "stream",
          "name": "stderr",
          "text": []
        },
        {
          "output_type": "stream",
          "name": "stdout",
          "text": [
            "fold 0 => train loss : 1.07| valid loss : 1.01\n"
          ]
        },
        {
          "output_type": "stream",
          "name": "stderr",
          "text": []
        },
        {
          "output_type": "stream",
          "name": "stdout",
          "text": [
            "fold 0 => train loss : 1.07| valid loss : 1.01\n"
          ]
        },
        {
          "output_type": "stream",
          "name": "stderr",
          "text": []
        },
        {
          "output_type": "stream",
          "name": "stdout",
          "text": [
            "fold 0 => train loss : 1.07| valid loss : 1.01\n"
          ]
        },
        {
          "output_type": "stream",
          "name": "stderr",
          "text": []
        },
        {
          "output_type": "stream",
          "name": "stdout",
          "text": [
            "fold 0 => train loss : 1.07| valid loss : 1.01\n"
          ]
        },
        {
          "output_type": "stream",
          "name": "stderr",
          "text": []
        },
        {
          "output_type": "stream",
          "name": "stdout",
          "text": [
            "fold 0 => train loss : 1.07| valid loss : 1.01\n"
          ]
        },
        {
          "output_type": "stream",
          "name": "stderr",
          "text": []
        },
        {
          "output_type": "stream",
          "name": "stdout",
          "text": [
            "fold 0 => train loss : 1.07| valid loss : 1.01\n"
          ]
        },
        {
          "output_type": "stream",
          "name": "stderr",
          "text": []
        },
        {
          "output_type": "stream",
          "name": "stdout",
          "text": [
            "fold 0 => train loss : 1.07| valid loss : 1.01\n"
          ]
        },
        {
          "output_type": "stream",
          "name": "stderr",
          "text": []
        },
        {
          "output_type": "stream",
          "name": "stdout",
          "text": [
            "fold 0 => train loss : 1.07| valid loss : 1.01\n"
          ]
        },
        {
          "output_type": "stream",
          "name": "stderr",
          "text": []
        },
        {
          "output_type": "stream",
          "name": "stdout",
          "text": [
            "fold 0 => train loss : 1.07| valid loss : 1.01\n"
          ]
        },
        {
          "output_type": "stream",
          "name": "stderr",
          "text": []
        },
        {
          "output_type": "stream",
          "name": "stdout",
          "text": [
            "fold 0 => train loss : 1.07| valid loss : 1.01\n"
          ]
        },
        {
          "output_type": "stream",
          "name": "stderr",
          "text": []
        },
        {
          "output_type": "stream",
          "name": "stdout",
          "text": [
            "fold 0 => train loss : 1.07| valid loss : 1.01\n"
          ]
        },
        {
          "output_type": "stream",
          "name": "stderr",
          "text": []
        },
        {
          "output_type": "stream",
          "name": "stdout",
          "text": [
            "fold 0 => train loss : 1.07| valid loss : 1.01\n"
          ]
        },
        {
          "output_type": "stream",
          "name": "stderr",
          "text": []
        },
        {
          "output_type": "stream",
          "name": "stdout",
          "text": [
            "fold 0 => train loss : 1.07| valid loss : 1.01\n"
          ]
        },
        {
          "output_type": "stream",
          "name": "stderr",
          "text": []
        },
        {
          "output_type": "stream",
          "name": "stdout",
          "text": [
            "fold 0 => train loss : 1.07| valid loss : 1.01\n"
          ]
        },
        {
          "output_type": "stream",
          "name": "stderr",
          "text": []
        },
        {
          "output_type": "stream",
          "name": "stdout",
          "text": [
            "fold 0 => train loss : 1.07| valid loss : 1.01\n"
          ]
        },
        {
          "output_type": "stream",
          "name": "stderr",
          "text": []
        },
        {
          "output_type": "stream",
          "name": "stdout",
          "text": [
            "fold 0 => train loss : 1.07| valid loss : 1.01\n"
          ]
        },
        {
          "output_type": "stream",
          "name": "stderr",
          "text": []
        },
        {
          "output_type": "stream",
          "name": "stdout",
          "text": [
            "fold 0 => train loss : 1.07| valid loss : 1.01\n"
          ]
        },
        {
          "output_type": "stream",
          "name": "stderr",
          "text": []
        },
        {
          "output_type": "stream",
          "name": "stdout",
          "text": [
            "fold 0 => train loss : 1.07| valid loss : 1.01\n"
          ]
        },
        {
          "output_type": "stream",
          "name": "stderr",
          "text": []
        },
        {
          "output_type": "stream",
          "name": "stdout",
          "text": [
            "fold 0 => train loss : 1.07| valid loss : 1.01\n"
          ]
        },
        {
          "output_type": "stream",
          "name": "stderr",
          "text": []
        },
        {
          "output_type": "stream",
          "name": "stdout",
          "text": [
            "fold 0 => train loss : 1.07| valid loss : 1.01\n"
          ]
        },
        {
          "output_type": "stream",
          "name": "stderr",
          "text": []
        },
        {
          "output_type": "stream",
          "name": "stdout",
          "text": [
            "fold 0 => train loss : 1.07| valid loss : 1.01\n"
          ]
        },
        {
          "output_type": "stream",
          "name": "stderr",
          "text": []
        },
        {
          "output_type": "stream",
          "name": "stdout",
          "text": [
            "fold 0 => train loss : 1.07| valid loss : 1.01\n"
          ]
        },
        {
          "output_type": "stream",
          "name": "stderr",
          "text": []
        },
        {
          "output_type": "stream",
          "name": "stdout",
          "text": [
            "fold 0 => train loss : 1.07| valid loss : 1.01\n"
          ]
        },
        {
          "output_type": "stream",
          "name": "stderr",
          "text": []
        },
        {
          "output_type": "stream",
          "name": "stdout",
          "text": [
            "fold 0 => train loss : 1.07| valid loss : 1.01\n"
          ]
        },
        {
          "output_type": "stream",
          "name": "stderr",
          "text": []
        },
        {
          "output_type": "stream",
          "name": "stdout",
          "text": [
            "fold 0 => train loss : 1.07| valid loss : 1.01\n"
          ]
        },
        {
          "output_type": "stream",
          "name": "stderr",
          "text": []
        },
        {
          "output_type": "stream",
          "name": "stdout",
          "text": [
            "fold 0 => train loss : 1.07| valid loss : 1.01\n"
          ]
        },
        {
          "output_type": "stream",
          "name": "stderr",
          "text": []
        },
        {
          "output_type": "stream",
          "name": "stdout",
          "text": [
            "fold 0 => train loss : 1.07| valid loss : 1.01\n"
          ]
        },
        {
          "output_type": "stream",
          "name": "stderr",
          "text": []
        },
        {
          "output_type": "stream",
          "name": "stdout",
          "text": [
            "fold 0 => train loss : 1.07| valid loss : 1.01\n"
          ]
        },
        {
          "output_type": "stream",
          "name": "stderr",
          "text": []
        },
        {
          "output_type": "stream",
          "name": "stdout",
          "text": [
            "fold 0 => train loss : 1.07| valid loss : 1.01\n"
          ]
        },
        {
          "output_type": "stream",
          "name": "stderr",
          "text": [
            "                                                                  "
          ]
        },
        {
          "output_type": "stream",
          "name": "stdout",
          "text": [
            "fold 0 => train loss : 1.07| valid loss : 1.01"
          ]
        },
        {
          "output_type": "stream",
          "name": "stderr",
          "text": [
            "\r"
          ]
        },
        {
          "output_type": "stream",
          "name": "stdout",
          "text": [
            "\n"
          ]
        },
        {
          "output_type": "stream",
          "name": "stderr",
          "text": []
        },
        {
          "output_type": "stream",
          "name": "stdout",
          "text": [
            "fold 0 => train loss : 1.07| valid loss : 1.01\n"
          ]
        },
        {
          "output_type": "stream",
          "name": "stderr",
          "text": []
        },
        {
          "output_type": "stream",
          "name": "stdout",
          "text": [
            "fold 0 => train loss : 1.07| valid loss : 1.01\n"
          ]
        },
        {
          "output_type": "stream",
          "name": "stderr",
          "text": []
        },
        {
          "output_type": "stream",
          "name": "stdout",
          "text": [
            "fold 0 => train loss : 1.07| valid loss : 1.01\n"
          ]
        },
        {
          "output_type": "stream",
          "name": "stderr",
          "text": []
        },
        {
          "output_type": "stream",
          "name": "stdout",
          "text": [
            "fold 0 => train loss : 1.07| valid loss : 1.01\n"
          ]
        },
        {
          "output_type": "stream",
          "name": "stderr",
          "text": []
        },
        {
          "output_type": "stream",
          "name": "stdout",
          "text": [
            "fold 0 => train loss : 1.07| valid loss : 1.01\n"
          ]
        },
        {
          "output_type": "stream",
          "name": "stderr",
          "text": []
        },
        {
          "output_type": "stream",
          "name": "stdout",
          "text": [
            "fold 0 => train loss : 1.07| valid loss : 1.01\n"
          ]
        },
        {
          "output_type": "stream",
          "name": "stderr",
          "text": []
        },
        {
          "output_type": "stream",
          "name": "stdout",
          "text": [
            "fold 0 => train loss : 1.07| valid loss : 1.01\n"
          ]
        },
        {
          "output_type": "stream",
          "name": "stderr",
          "text": []
        },
        {
          "output_type": "stream",
          "name": "stdout",
          "text": [
            "fold 0 => train loss : 1.07| valid loss : 1.01\n"
          ]
        },
        {
          "output_type": "stream",
          "name": "stderr",
          "text": []
        },
        {
          "output_type": "stream",
          "name": "stdout",
          "text": [
            "fold 0 => train loss : 1.07| valid loss : 1.01\n"
          ]
        },
        {
          "output_type": "stream",
          "name": "stderr",
          "text": []
        },
        {
          "output_type": "stream",
          "name": "stdout",
          "text": [
            "fold 0 => train loss : 1.07| valid loss : 1.01\n"
          ]
        },
        {
          "output_type": "stream",
          "name": "stderr",
          "text": []
        },
        {
          "output_type": "stream",
          "name": "stdout",
          "text": [
            "fold 0 => train loss : 1.07| valid loss : 1.01\n"
          ]
        },
        {
          "output_type": "stream",
          "name": "stderr",
          "text": []
        },
        {
          "output_type": "stream",
          "name": "stdout",
          "text": [
            "fold 0 => train loss : 1.07| valid loss : 1.01\n"
          ]
        },
        {
          "output_type": "stream",
          "name": "stderr",
          "text": []
        },
        {
          "output_type": "stream",
          "name": "stdout",
          "text": [
            "fold 0 => train loss : 1.07| valid loss : 1.01\n"
          ]
        },
        {
          "output_type": "stream",
          "name": "stderr",
          "text": []
        },
        {
          "output_type": "stream",
          "name": "stdout",
          "text": [
            "fold 0 => train loss : 1.07| valid loss : 1.01\n"
          ]
        },
        {
          "output_type": "stream",
          "name": "stderr",
          "text": []
        },
        {
          "output_type": "stream",
          "name": "stdout",
          "text": [
            "fold 0 => train loss : 1.07| valid loss : 1.01\n"
          ]
        },
        {
          "output_type": "stream",
          "name": "stderr",
          "text": []
        },
        {
          "output_type": "stream",
          "name": "stdout",
          "text": [
            "fold 0 => train loss : 1.07| valid loss : 1.01\n"
          ]
        },
        {
          "output_type": "stream",
          "name": "stderr",
          "text": [
            "                                                                  "
          ]
        },
        {
          "output_type": "stream",
          "name": "stdout",
          "text": [
            "fold 0 => train loss : 1.07| valid loss : 1.01"
          ]
        },
        {
          "output_type": "stream",
          "name": "stderr",
          "text": [
            "\r"
          ]
        },
        {
          "output_type": "stream",
          "name": "stdout",
          "text": [
            "\n"
          ]
        },
        {
          "output_type": "stream",
          "name": "stderr",
          "text": []
        },
        {
          "output_type": "stream",
          "name": "stdout",
          "text": [
            "fold 0 => train loss : 1.07| valid loss : 1.01\n"
          ]
        },
        {
          "output_type": "stream",
          "name": "stderr",
          "text": [
            "                                                                  "
          ]
        },
        {
          "output_type": "stream",
          "name": "stdout",
          "text": [
            "fold 0 => train loss : 1.07| valid loss : 1.01"
          ]
        },
        {
          "output_type": "stream",
          "name": "stderr",
          "text": [
            "\r"
          ]
        },
        {
          "output_type": "stream",
          "name": "stdout",
          "text": [
            "\n"
          ]
        },
        {
          "output_type": "stream",
          "name": "stderr",
          "text": []
        },
        {
          "output_type": "stream",
          "name": "stdout",
          "text": [
            "fold 0 => train loss : 1.07| valid loss : 1.01\n"
          ]
        },
        {
          "output_type": "stream",
          "name": "stderr",
          "text": []
        },
        {
          "output_type": "stream",
          "name": "stdout",
          "text": [
            "fold 0 => train loss : 1.07| valid loss : 1.01\n"
          ]
        },
        {
          "output_type": "stream",
          "name": "stderr",
          "text": []
        },
        {
          "output_type": "stream",
          "name": "stdout",
          "text": [
            "fold 0 => train loss : 1.07| valid loss : 1.01\n"
          ]
        },
        {
          "output_type": "stream",
          "name": "stderr",
          "text": [
            "                                                                  "
          ]
        },
        {
          "output_type": "stream",
          "name": "stdout",
          "text": [
            "fold 0 => train loss : 1.07| valid loss : 1.01"
          ]
        },
        {
          "output_type": "stream",
          "name": "stderr",
          "text": [
            "\r"
          ]
        },
        {
          "output_type": "stream",
          "name": "stdout",
          "text": [
            "\n"
          ]
        },
        {
          "output_type": "stream",
          "name": "stderr",
          "text": []
        },
        {
          "output_type": "stream",
          "name": "stdout",
          "text": [
            "fold 0 => train loss : 1.07| valid loss : 1.01\n"
          ]
        },
        {
          "output_type": "stream",
          "name": "stderr",
          "text": []
        },
        {
          "output_type": "stream",
          "name": "stdout",
          "text": [
            "fold 0 => train loss : 1.07| valid loss : 1.01\n"
          ]
        },
        {
          "output_type": "stream",
          "name": "stderr",
          "text": []
        },
        {
          "output_type": "stream",
          "name": "stdout",
          "text": [
            "fold 0 => train loss : 1.07| valid loss : 1.01\n"
          ]
        },
        {
          "output_type": "stream",
          "name": "stderr",
          "text": []
        },
        {
          "output_type": "stream",
          "name": "stdout",
          "text": [
            "fold 0 => train loss : 1.07| valid loss : 1.01\n"
          ]
        },
        {
          "output_type": "stream",
          "name": "stderr",
          "text": []
        },
        {
          "output_type": "stream",
          "name": "stdout",
          "text": [
            "fold 0 => train loss : 1.07| valid loss : 1.01\n"
          ]
        },
        {
          "output_type": "stream",
          "name": "stderr",
          "text": []
        },
        {
          "output_type": "stream",
          "name": "stdout",
          "text": [
            "fold 0 => train loss : 1.07| valid loss : 1.01\n"
          ]
        },
        {
          "output_type": "stream",
          "name": "stderr",
          "text": []
        },
        {
          "output_type": "stream",
          "name": "stdout",
          "text": [
            "fold 0 => train loss : 1.07| valid loss : 1.01\n"
          ]
        },
        {
          "output_type": "stream",
          "name": "stderr",
          "text": []
        },
        {
          "output_type": "stream",
          "name": "stdout",
          "text": [
            "fold 0 => train loss : 1.07| valid loss : 1.01\n"
          ]
        },
        {
          "output_type": "stream",
          "name": "stderr",
          "text": []
        },
        {
          "output_type": "stream",
          "name": "stdout",
          "text": [
            "fold 0 => train loss : 1.07| valid loss : 1.01\n"
          ]
        },
        {
          "output_type": "stream",
          "name": "stderr",
          "text": []
        },
        {
          "output_type": "stream",
          "name": "stdout",
          "text": [
            "fold 0 => train loss : 1.07| valid loss : 1.01\n"
          ]
        },
        {
          "output_type": "stream",
          "name": "stderr",
          "text": []
        },
        {
          "output_type": "stream",
          "name": "stdout",
          "text": [
            "fold 0 => train loss : 1.07| valid loss : 1.01\n"
          ]
        },
        {
          "output_type": "stream",
          "name": "stderr",
          "text": []
        },
        {
          "output_type": "stream",
          "name": "stdout",
          "text": [
            "fold 0 => train loss : 1.07| valid loss : 1.01\n"
          ]
        },
        {
          "output_type": "stream",
          "name": "stderr",
          "text": []
        },
        {
          "output_type": "stream",
          "name": "stdout",
          "text": [
            "fold 0 => train loss : 1.07| valid loss : 1.01\n"
          ]
        },
        {
          "output_type": "stream",
          "name": "stderr",
          "text": []
        },
        {
          "output_type": "stream",
          "name": "stdout",
          "text": [
            "fold 0 => train loss : 1.07| valid loss : 1.01\n"
          ]
        },
        {
          "output_type": "stream",
          "name": "stderr",
          "text": []
        },
        {
          "output_type": "stream",
          "name": "stdout",
          "text": [
            "fold 0 => train loss : 1.07| valid loss : 1.01\n"
          ]
        },
        {
          "output_type": "stream",
          "name": "stderr",
          "text": []
        },
        {
          "output_type": "stream",
          "name": "stdout",
          "text": [
            "fold 0 => train loss : 1.07| valid loss : 1.01\n"
          ]
        },
        {
          "output_type": "stream",
          "name": "stderr",
          "text": []
        },
        {
          "output_type": "stream",
          "name": "stdout",
          "text": [
            "fold 0 => train loss : 1.07| valid loss : 1.01\n"
          ]
        },
        {
          "output_type": "stream",
          "name": "stderr",
          "text": []
        },
        {
          "output_type": "stream",
          "name": "stdout",
          "text": [
            "fold 0 => train loss : 1.07| valid loss : 1.01\n"
          ]
        },
        {
          "output_type": "stream",
          "name": "stderr",
          "text": []
        },
        {
          "output_type": "stream",
          "name": "stdout",
          "text": [
            "fold 0 => train loss : 1.07| valid loss : 1.01\n"
          ]
        },
        {
          "output_type": "stream",
          "name": "stderr",
          "text": []
        },
        {
          "output_type": "stream",
          "name": "stdout",
          "text": [
            "fold 0 => train loss : 1.07| valid loss : 1.01\n"
          ]
        },
        {
          "output_type": "stream",
          "name": "stderr",
          "text": []
        },
        {
          "output_type": "stream",
          "name": "stdout",
          "text": [
            "fold 0 => train loss : 1.07| valid loss : 1.01\n"
          ]
        },
        {
          "output_type": "stream",
          "name": "stderr",
          "text": []
        },
        {
          "output_type": "stream",
          "name": "stdout",
          "text": [
            "fold 0 => train loss : 1.07| valid loss : 1.01\n"
          ]
        },
        {
          "output_type": "stream",
          "name": "stderr",
          "text": []
        },
        {
          "output_type": "stream",
          "name": "stdout",
          "text": [
            "fold 0 => train loss : 1.07| valid loss : 1.01\n"
          ]
        },
        {
          "output_type": "stream",
          "name": "stderr",
          "text": []
        },
        {
          "output_type": "stream",
          "name": "stdout",
          "text": [
            "fold 0 => train loss : 1.07| valid loss : 1.01\n"
          ]
        },
        {
          "output_type": "stream",
          "name": "stderr",
          "text": []
        },
        {
          "output_type": "stream",
          "name": "stdout",
          "text": [
            "fold 0 => train loss : 1.07| valid loss : 1.01\n"
          ]
        },
        {
          "output_type": "stream",
          "name": "stderr",
          "text": []
        },
        {
          "output_type": "stream",
          "name": "stdout",
          "text": [
            "fold 0 => train loss : 1.07| valid loss : 1.01\n"
          ]
        },
        {
          "output_type": "stream",
          "name": "stderr",
          "text": []
        },
        {
          "output_type": "stream",
          "name": "stdout",
          "text": [
            "fold 0 => train loss : 1.07| valid loss : 1.01\n"
          ]
        },
        {
          "output_type": "stream",
          "name": "stderr",
          "text": []
        },
        {
          "output_type": "stream",
          "name": "stdout",
          "text": [
            "fold 0 => train loss : 1.07| valid loss : 1.01\n"
          ]
        },
        {
          "output_type": "stream",
          "name": "stderr",
          "text": []
        },
        {
          "output_type": "stream",
          "name": "stdout",
          "text": [
            "fold 0 => train loss : 1.07| valid loss : 1.01\n"
          ]
        },
        {
          "output_type": "stream",
          "name": "stderr",
          "text": []
        },
        {
          "output_type": "stream",
          "name": "stdout",
          "text": [
            "fold 0 => train loss : 1.07| valid loss : 1.01\n"
          ]
        },
        {
          "output_type": "stream",
          "name": "stderr",
          "text": []
        },
        {
          "output_type": "stream",
          "name": "stdout",
          "text": [
            "fold 0 => train loss : 1.07| valid loss : 1.01\n"
          ]
        },
        {
          "output_type": "stream",
          "name": "stderr",
          "text": []
        },
        {
          "output_type": "stream",
          "name": "stdout",
          "text": [
            "fold 0 => train loss : 1.07| valid loss : 1.01\n"
          ]
        },
        {
          "output_type": "stream",
          "name": "stderr",
          "text": []
        },
        {
          "output_type": "stream",
          "name": "stdout",
          "text": [
            "fold 0 => train loss : 1.07| valid loss : 1.01\n"
          ]
        },
        {
          "output_type": "stream",
          "name": "stderr",
          "text": []
        },
        {
          "output_type": "stream",
          "name": "stdout",
          "text": [
            "fold 0 => train loss : 1.07| valid loss : 1.01\n"
          ]
        },
        {
          "output_type": "stream",
          "name": "stderr",
          "text": []
        },
        {
          "output_type": "stream",
          "name": "stdout",
          "text": [
            "fold 0 => train loss : 1.07| valid loss : 1.01\n"
          ]
        },
        {
          "output_type": "stream",
          "name": "stderr",
          "text": []
        },
        {
          "output_type": "stream",
          "name": "stdout",
          "text": [
            "fold 0 => train loss : 1.07| valid loss : 1.01\n"
          ]
        },
        {
          "output_type": "stream",
          "name": "stderr",
          "text": []
        },
        {
          "output_type": "stream",
          "name": "stdout",
          "text": [
            "fold 0 => train loss : 1.07| valid loss : 1.01\n"
          ]
        },
        {
          "output_type": "stream",
          "name": "stderr",
          "text": []
        },
        {
          "output_type": "stream",
          "name": "stdout",
          "text": [
            "fold 0 => train loss : 1.07| valid loss : 1.01\n"
          ]
        },
        {
          "output_type": "stream",
          "name": "stderr",
          "text": []
        },
        {
          "output_type": "stream",
          "name": "stdout",
          "text": [
            "fold 0 => train loss : 1.07| valid loss : 1.01\n"
          ]
        },
        {
          "output_type": "stream",
          "name": "stderr",
          "text": []
        },
        {
          "output_type": "stream",
          "name": "stdout",
          "text": [
            "fold 0 => train loss : 1.07| valid loss : 1.01\n"
          ]
        },
        {
          "output_type": "stream",
          "name": "stderr",
          "text": []
        },
        {
          "output_type": "stream",
          "name": "stdout",
          "text": [
            "fold 0 => train loss : 1.07| valid loss : 1.01\n"
          ]
        },
        {
          "output_type": "stream",
          "name": "stderr",
          "text": []
        },
        {
          "output_type": "stream",
          "name": "stdout",
          "text": [
            "fold 0 => train loss : 1.07| valid loss : 1.01\n"
          ]
        },
        {
          "output_type": "stream",
          "name": "stderr",
          "text": []
        },
        {
          "output_type": "stream",
          "name": "stdout",
          "text": [
            "fold 1 => train loss : 1.13| valid loss : 1.06\n"
          ]
        },
        {
          "output_type": "stream",
          "name": "stderr",
          "text": []
        },
        {
          "output_type": "stream",
          "name": "stdout",
          "text": [
            "fold 1 => train loss : 0.95| valid loss : 1.12\n"
          ]
        },
        {
          "output_type": "stream",
          "name": "stderr",
          "text": []
        },
        {
          "output_type": "stream",
          "name": "stdout",
          "text": [
            "fold 1 => train loss : 0.95| valid loss : 1.46\n"
          ]
        },
        {
          "output_type": "stream",
          "name": "stderr",
          "text": []
        },
        {
          "output_type": "stream",
          "name": "stdout",
          "text": [
            "fold 1 => train loss : 1.06| valid loss : 1.36\n"
          ]
        },
        {
          "output_type": "stream",
          "name": "stderr",
          "text": []
        },
        {
          "output_type": "stream",
          "name": "stdout",
          "text": [
            "fold 1 => train loss : 0.98| valid loss : 1.25\n"
          ]
        },
        {
          "output_type": "stream",
          "name": "stderr",
          "text": []
        },
        {
          "output_type": "stream",
          "name": "stdout",
          "text": [
            "fold 1 => train loss : 0.92| valid loss : 1.23\n"
          ]
        },
        {
          "output_type": "stream",
          "name": "stderr",
          "text": []
        },
        {
          "output_type": "stream",
          "name": "stdout",
          "text": [
            "fold 1 => train loss : 0.90| valid loss : 1.23\n"
          ]
        },
        {
          "output_type": "stream",
          "name": "stderr",
          "text": []
        },
        {
          "output_type": "stream",
          "name": "stdout",
          "text": [
            "fold 1 => train loss : 0.89| valid loss : 1.23\n"
          ]
        },
        {
          "output_type": "stream",
          "name": "stderr",
          "text": []
        },
        {
          "output_type": "stream",
          "name": "stdout",
          "text": [
            "fold 1 => train loss : 0.89| valid loss : 1.22\n"
          ]
        },
        {
          "output_type": "stream",
          "name": "stderr",
          "text": []
        },
        {
          "output_type": "stream",
          "name": "stdout",
          "text": [
            "fold 1 => train loss : 0.88| valid loss : 1.22\n"
          ]
        },
        {
          "output_type": "stream",
          "name": "stderr",
          "text": []
        },
        {
          "output_type": "stream",
          "name": "stdout",
          "text": [
            "fold 1 => train loss : 0.87| valid loss : 1.22\n"
          ]
        },
        {
          "output_type": "stream",
          "name": "stderr",
          "text": []
        },
        {
          "output_type": "stream",
          "name": "stdout",
          "text": [
            "fold 1 => train loss : 0.87| valid loss : 1.22\n"
          ]
        },
        {
          "output_type": "stream",
          "name": "stderr",
          "text": []
        },
        {
          "output_type": "stream",
          "name": "stdout",
          "text": [
            "fold 1 => train loss : 0.87| valid loss : 1.22\n"
          ]
        },
        {
          "output_type": "stream",
          "name": "stderr",
          "text": []
        },
        {
          "output_type": "stream",
          "name": "stdout",
          "text": [
            "fold 1 => train loss : 0.87| valid loss : 1.22\n"
          ]
        },
        {
          "output_type": "stream",
          "name": "stderr",
          "text": []
        },
        {
          "output_type": "stream",
          "name": "stdout",
          "text": [
            "fold 1 => train loss : 0.87| valid loss : 1.22\n"
          ]
        },
        {
          "output_type": "stream",
          "name": "stderr",
          "text": []
        },
        {
          "output_type": "stream",
          "name": "stdout",
          "text": [
            "fold 1 => train loss : 0.88| valid loss : 1.22\n"
          ]
        },
        {
          "output_type": "stream",
          "name": "stderr",
          "text": []
        },
        {
          "output_type": "stream",
          "name": "stdout",
          "text": [
            "fold 1 => train loss : 0.87| valid loss : 1.22\n"
          ]
        },
        {
          "output_type": "stream",
          "name": "stderr",
          "text": []
        },
        {
          "output_type": "stream",
          "name": "stdout",
          "text": [
            "fold 1 => train loss : 0.87| valid loss : 1.22\n"
          ]
        },
        {
          "output_type": "stream",
          "name": "stderr",
          "text": []
        },
        {
          "output_type": "stream",
          "name": "stdout",
          "text": [
            "fold 1 => train loss : 0.86| valid loss : 1.22\n"
          ]
        },
        {
          "output_type": "stream",
          "name": "stderr",
          "text": []
        },
        {
          "output_type": "stream",
          "name": "stdout",
          "text": [
            "fold 1 => train loss : 0.86| valid loss : 1.22\n"
          ]
        },
        {
          "output_type": "stream",
          "name": "stderr",
          "text": []
        },
        {
          "output_type": "stream",
          "name": "stdout",
          "text": [
            "fold 1 => train loss : 0.87| valid loss : 1.22\n"
          ]
        },
        {
          "output_type": "stream",
          "name": "stderr",
          "text": []
        },
        {
          "output_type": "stream",
          "name": "stdout",
          "text": [
            "fold 1 => train loss : 0.87| valid loss : 1.22\n"
          ]
        },
        {
          "output_type": "stream",
          "name": "stderr",
          "text": []
        },
        {
          "output_type": "stream",
          "name": "stdout",
          "text": [
            "fold 1 => train loss : 0.86| valid loss : 1.22\n"
          ]
        },
        {
          "output_type": "stream",
          "name": "stderr",
          "text": []
        },
        {
          "output_type": "stream",
          "name": "stdout",
          "text": [
            "fold 1 => train loss : 0.87| valid loss : 1.22\n"
          ]
        },
        {
          "output_type": "stream",
          "name": "stderr",
          "text": []
        },
        {
          "output_type": "stream",
          "name": "stdout",
          "text": [
            "fold 1 => train loss : 0.87| valid loss : 1.22\n"
          ]
        },
        {
          "output_type": "stream",
          "name": "stderr",
          "text": []
        },
        {
          "output_type": "stream",
          "name": "stdout",
          "text": [
            "fold 1 => train loss : 0.87| valid loss : 1.22\n"
          ]
        },
        {
          "output_type": "stream",
          "name": "stderr",
          "text": []
        },
        {
          "output_type": "stream",
          "name": "stdout",
          "text": [
            "fold 1 => train loss : 0.87| valid loss : 1.22\n"
          ]
        },
        {
          "output_type": "stream",
          "name": "stderr",
          "text": []
        },
        {
          "output_type": "stream",
          "name": "stdout",
          "text": [
            "fold 1 => train loss : 0.87| valid loss : 1.22\n"
          ]
        },
        {
          "output_type": "stream",
          "name": "stderr",
          "text": []
        },
        {
          "output_type": "stream",
          "name": "stdout",
          "text": [
            "fold 1 => train loss : 0.87| valid loss : 1.22\n"
          ]
        },
        {
          "output_type": "stream",
          "name": "stderr",
          "text": []
        },
        {
          "output_type": "stream",
          "name": "stdout",
          "text": [
            "fold 1 => train loss : 0.86| valid loss : 1.22\n"
          ]
        },
        {
          "output_type": "stream",
          "name": "stderr",
          "text": []
        },
        {
          "output_type": "stream",
          "name": "stdout",
          "text": [
            "fold 1 => train loss : 0.86| valid loss : 1.22\n"
          ]
        },
        {
          "output_type": "stream",
          "name": "stderr",
          "text": []
        },
        {
          "output_type": "stream",
          "name": "stdout",
          "text": [
            "fold 1 => train loss : 0.87| valid loss : 1.22\n"
          ]
        },
        {
          "output_type": "stream",
          "name": "stderr",
          "text": []
        },
        {
          "output_type": "stream",
          "name": "stdout",
          "text": [
            "fold 1 => train loss : 0.85| valid loss : 1.22\n"
          ]
        },
        {
          "output_type": "stream",
          "name": "stderr",
          "text": []
        },
        {
          "output_type": "stream",
          "name": "stdout",
          "text": [
            "fold 1 => train loss : 0.86| valid loss : 1.22\n"
          ]
        },
        {
          "output_type": "stream",
          "name": "stderr",
          "text": []
        },
        {
          "output_type": "stream",
          "name": "stdout",
          "text": [
            "fold 1 => train loss : 0.87| valid loss : 1.22\n"
          ]
        },
        {
          "output_type": "stream",
          "name": "stderr",
          "text": []
        },
        {
          "output_type": "stream",
          "name": "stdout",
          "text": [
            "fold 1 => train loss : 0.87| valid loss : 1.22\n"
          ]
        },
        {
          "output_type": "stream",
          "name": "stderr",
          "text": []
        },
        {
          "output_type": "stream",
          "name": "stdout",
          "text": [
            "fold 1 => train loss : 0.87| valid loss : 1.22\n"
          ]
        },
        {
          "output_type": "stream",
          "name": "stderr",
          "text": []
        },
        {
          "output_type": "stream",
          "name": "stdout",
          "text": [
            "fold 1 => train loss : 0.87| valid loss : 1.22\n"
          ]
        },
        {
          "output_type": "stream",
          "name": "stderr",
          "text": []
        },
        {
          "output_type": "stream",
          "name": "stdout",
          "text": [
            "fold 1 => train loss : 0.86| valid loss : 1.22\n"
          ]
        },
        {
          "output_type": "stream",
          "name": "stderr",
          "text": []
        },
        {
          "output_type": "stream",
          "name": "stdout",
          "text": [
            "fold 1 => train loss : 0.87| valid loss : 1.22\n"
          ]
        },
        {
          "output_type": "stream",
          "name": "stderr",
          "text": []
        },
        {
          "output_type": "stream",
          "name": "stdout",
          "text": [
            "fold 1 => train loss : 0.86| valid loss : 1.22\n"
          ]
        },
        {
          "output_type": "stream",
          "name": "stderr",
          "text": []
        },
        {
          "output_type": "stream",
          "name": "stdout",
          "text": [
            "fold 1 => train loss : 0.86| valid loss : 1.22\n"
          ]
        },
        {
          "output_type": "stream",
          "name": "stderr",
          "text": []
        },
        {
          "output_type": "stream",
          "name": "stdout",
          "text": [
            "fold 1 => train loss : 0.86| valid loss : 1.22\n"
          ]
        },
        {
          "output_type": "stream",
          "name": "stderr",
          "text": []
        },
        {
          "output_type": "stream",
          "name": "stdout",
          "text": [
            "fold 1 => train loss : 0.87| valid loss : 1.22\n"
          ]
        },
        {
          "output_type": "stream",
          "name": "stderr",
          "text": []
        },
        {
          "output_type": "stream",
          "name": "stdout",
          "text": [
            "fold 1 => train loss : 0.87| valid loss : 1.22\n"
          ]
        },
        {
          "output_type": "stream",
          "name": "stderr",
          "text": []
        },
        {
          "output_type": "stream",
          "name": "stdout",
          "text": [
            "fold 1 => train loss : 0.87| valid loss : 1.22\n"
          ]
        },
        {
          "output_type": "stream",
          "name": "stderr",
          "text": []
        },
        {
          "output_type": "stream",
          "name": "stdout",
          "text": [
            "fold 1 => train loss : 0.87| valid loss : 1.22\n"
          ]
        },
        {
          "output_type": "stream",
          "name": "stderr",
          "text": []
        },
        {
          "output_type": "stream",
          "name": "stdout",
          "text": [
            "fold 1 => train loss : 0.87| valid loss : 1.22\n"
          ]
        },
        {
          "output_type": "stream",
          "name": "stderr",
          "text": []
        },
        {
          "output_type": "stream",
          "name": "stdout",
          "text": [
            "fold 1 => train loss : 0.86| valid loss : 1.22\n"
          ]
        },
        {
          "output_type": "stream",
          "name": "stderr",
          "text": []
        },
        {
          "output_type": "stream",
          "name": "stdout",
          "text": [
            "fold 1 => train loss : 0.86| valid loss : 1.22\n"
          ]
        },
        {
          "output_type": "stream",
          "name": "stderr",
          "text": []
        },
        {
          "output_type": "stream",
          "name": "stdout",
          "text": [
            "fold 1 => train loss : 0.87| valid loss : 1.22\n"
          ]
        },
        {
          "output_type": "stream",
          "name": "stderr",
          "text": []
        },
        {
          "output_type": "stream",
          "name": "stdout",
          "text": [
            "fold 1 => train loss : 0.87| valid loss : 1.22\n"
          ]
        },
        {
          "output_type": "stream",
          "name": "stderr",
          "text": []
        },
        {
          "output_type": "stream",
          "name": "stdout",
          "text": [
            "fold 1 => train loss : 0.87| valid loss : 1.22\n"
          ]
        },
        {
          "output_type": "stream",
          "name": "stderr",
          "text": []
        },
        {
          "output_type": "stream",
          "name": "stdout",
          "text": [
            "fold 1 => train loss : 0.86| valid loss : 1.22\n"
          ]
        },
        {
          "output_type": "stream",
          "name": "stderr",
          "text": []
        },
        {
          "output_type": "stream",
          "name": "stdout",
          "text": [
            "fold 1 => train loss : 0.87| valid loss : 1.22\n"
          ]
        },
        {
          "output_type": "stream",
          "name": "stderr",
          "text": []
        },
        {
          "output_type": "stream",
          "name": "stdout",
          "text": [
            "fold 1 => train loss : 0.86| valid loss : 1.22\n"
          ]
        },
        {
          "output_type": "stream",
          "name": "stderr",
          "text": []
        },
        {
          "output_type": "stream",
          "name": "stdout",
          "text": [
            "fold 1 => train loss : 0.87| valid loss : 1.22\n"
          ]
        },
        {
          "output_type": "stream",
          "name": "stderr",
          "text": []
        },
        {
          "output_type": "stream",
          "name": "stdout",
          "text": [
            "fold 1 => train loss : 0.87| valid loss : 1.22\n"
          ]
        },
        {
          "output_type": "stream",
          "name": "stderr",
          "text": []
        },
        {
          "output_type": "stream",
          "name": "stdout",
          "text": [
            "fold 1 => train loss : 0.86| valid loss : 1.22\n"
          ]
        },
        {
          "output_type": "stream",
          "name": "stderr",
          "text": []
        },
        {
          "output_type": "stream",
          "name": "stdout",
          "text": [
            "fold 1 => train loss : 0.87| valid loss : 1.22\n"
          ]
        },
        {
          "output_type": "stream",
          "name": "stderr",
          "text": []
        },
        {
          "output_type": "stream",
          "name": "stdout",
          "text": [
            "fold 1 => train loss : 0.86| valid loss : 1.22\n"
          ]
        },
        {
          "output_type": "stream",
          "name": "stderr",
          "text": []
        },
        {
          "output_type": "stream",
          "name": "stdout",
          "text": [
            "fold 1 => train loss : 0.87| valid loss : 1.22\n"
          ]
        },
        {
          "output_type": "stream",
          "name": "stderr",
          "text": []
        },
        {
          "output_type": "stream",
          "name": "stdout",
          "text": [
            "fold 1 => train loss : 0.86| valid loss : 1.22\n"
          ]
        },
        {
          "output_type": "stream",
          "name": "stderr",
          "text": []
        },
        {
          "output_type": "stream",
          "name": "stdout",
          "text": [
            "fold 1 => train loss : 0.86| valid loss : 1.22\n"
          ]
        },
        {
          "output_type": "stream",
          "name": "stderr",
          "text": []
        },
        {
          "output_type": "stream",
          "name": "stdout",
          "text": [
            "fold 1 => train loss : 0.87| valid loss : 1.22\n"
          ]
        },
        {
          "output_type": "stream",
          "name": "stderr",
          "text": [
            "                                                                   "
          ]
        },
        {
          "output_type": "stream",
          "name": "stdout",
          "text": [
            "fold 1 => train loss : 0.87| valid loss : 1.22"
          ]
        },
        {
          "output_type": "stream",
          "name": "stderr",
          "text": [
            "\r"
          ]
        },
        {
          "output_type": "stream",
          "name": "stdout",
          "text": [
            "\n"
          ]
        },
        {
          "output_type": "stream",
          "name": "stderr",
          "text": []
        },
        {
          "output_type": "stream",
          "name": "stdout",
          "text": [
            "fold 1 => train loss : 0.85| valid loss : 1.22\n"
          ]
        },
        {
          "output_type": "stream",
          "name": "stderr",
          "text": []
        },
        {
          "output_type": "stream",
          "name": "stdout",
          "text": [
            "fold 1 => train loss : 0.87| valid loss : 1.22\n"
          ]
        },
        {
          "output_type": "stream",
          "name": "stderr",
          "text": []
        },
        {
          "output_type": "stream",
          "name": "stdout",
          "text": [
            "fold 1 => train loss : 0.86| valid loss : 1.22\n"
          ]
        },
        {
          "output_type": "stream",
          "name": "stderr",
          "text": []
        },
        {
          "output_type": "stream",
          "name": "stdout",
          "text": [
            "fold 1 => train loss : 0.86| valid loss : 1.22\n"
          ]
        },
        {
          "output_type": "stream",
          "name": "stderr",
          "text": []
        },
        {
          "output_type": "stream",
          "name": "stdout",
          "text": [
            "fold 1 => train loss : 0.87| valid loss : 1.22\n"
          ]
        },
        {
          "output_type": "stream",
          "name": "stderr",
          "text": []
        },
        {
          "output_type": "stream",
          "name": "stdout",
          "text": [
            "fold 1 => train loss : 0.86| valid loss : 1.22\n"
          ]
        },
        {
          "output_type": "stream",
          "name": "stderr",
          "text": []
        },
        {
          "output_type": "stream",
          "name": "stdout",
          "text": [
            "fold 1 => train loss : 0.86| valid loss : 1.22\n"
          ]
        },
        {
          "output_type": "stream",
          "name": "stderr",
          "text": []
        },
        {
          "output_type": "stream",
          "name": "stdout",
          "text": [
            "fold 1 => train loss : 0.87| valid loss : 1.22\n"
          ]
        },
        {
          "output_type": "stream",
          "name": "stderr",
          "text": []
        },
        {
          "output_type": "stream",
          "name": "stdout",
          "text": [
            "fold 1 => train loss : 0.86| valid loss : 1.22\n"
          ]
        },
        {
          "output_type": "stream",
          "name": "stderr",
          "text": []
        },
        {
          "output_type": "stream",
          "name": "stdout",
          "text": [
            "fold 1 => train loss : 0.86| valid loss : 1.22\n"
          ]
        },
        {
          "output_type": "stream",
          "name": "stderr",
          "text": []
        },
        {
          "output_type": "stream",
          "name": "stdout",
          "text": [
            "fold 1 => train loss : 0.87| valid loss : 1.22\n"
          ]
        },
        {
          "output_type": "stream",
          "name": "stderr",
          "text": []
        },
        {
          "output_type": "stream",
          "name": "stdout",
          "text": [
            "fold 1 => train loss : 0.87| valid loss : 1.22\n"
          ]
        },
        {
          "output_type": "stream",
          "name": "stderr",
          "text": []
        },
        {
          "output_type": "stream",
          "name": "stdout",
          "text": [
            "fold 1 => train loss : 0.86| valid loss : 1.22\n"
          ]
        },
        {
          "output_type": "stream",
          "name": "stderr",
          "text": []
        },
        {
          "output_type": "stream",
          "name": "stdout",
          "text": [
            "fold 1 => train loss : 0.86| valid loss : 1.22\n"
          ]
        },
        {
          "output_type": "stream",
          "name": "stderr",
          "text": []
        },
        {
          "output_type": "stream",
          "name": "stdout",
          "text": [
            "fold 1 => train loss : 0.85| valid loss : 1.22\n"
          ]
        },
        {
          "output_type": "stream",
          "name": "stderr",
          "text": []
        },
        {
          "output_type": "stream",
          "name": "stdout",
          "text": [
            "fold 1 => train loss : 0.86| valid loss : 1.22\n"
          ]
        },
        {
          "output_type": "stream",
          "name": "stderr",
          "text": []
        },
        {
          "output_type": "stream",
          "name": "stdout",
          "text": [
            "fold 1 => train loss : 0.86| valid loss : 1.22\n"
          ]
        },
        {
          "output_type": "stream",
          "name": "stderr",
          "text": []
        },
        {
          "output_type": "stream",
          "name": "stdout",
          "text": [
            "fold 1 => train loss : 0.86| valid loss : 1.22\n"
          ]
        },
        {
          "output_type": "stream",
          "name": "stderr",
          "text": []
        },
        {
          "output_type": "stream",
          "name": "stdout",
          "text": [
            "fold 1 => train loss : 0.87| valid loss : 1.22\n"
          ]
        },
        {
          "output_type": "stream",
          "name": "stderr",
          "text": []
        },
        {
          "output_type": "stream",
          "name": "stdout",
          "text": [
            "fold 1 => train loss : 0.88| valid loss : 1.22\n"
          ]
        },
        {
          "output_type": "stream",
          "name": "stderr",
          "text": []
        },
        {
          "output_type": "stream",
          "name": "stdout",
          "text": [
            "fold 1 => train loss : 0.86| valid loss : 1.22\n"
          ]
        },
        {
          "output_type": "stream",
          "name": "stderr",
          "text": []
        },
        {
          "output_type": "stream",
          "name": "stdout",
          "text": [
            "fold 1 => train loss : 0.86| valid loss : 1.22\n"
          ]
        },
        {
          "output_type": "stream",
          "name": "stderr",
          "text": []
        },
        {
          "output_type": "stream",
          "name": "stdout",
          "text": [
            "fold 1 => train loss : 0.87| valid loss : 1.22\n"
          ]
        },
        {
          "output_type": "stream",
          "name": "stderr",
          "text": []
        },
        {
          "output_type": "stream",
          "name": "stdout",
          "text": [
            "fold 1 => train loss : 0.88| valid loss : 1.22\n"
          ]
        },
        {
          "output_type": "stream",
          "name": "stderr",
          "text": []
        },
        {
          "output_type": "stream",
          "name": "stdout",
          "text": [
            "fold 1 => train loss : 0.87| valid loss : 1.22\n"
          ]
        },
        {
          "output_type": "stream",
          "name": "stderr",
          "text": []
        },
        {
          "output_type": "stream",
          "name": "stdout",
          "text": [
            "fold 1 => train loss : 0.86| valid loss : 1.22\n"
          ]
        },
        {
          "output_type": "stream",
          "name": "stderr",
          "text": []
        },
        {
          "output_type": "stream",
          "name": "stdout",
          "text": [
            "fold 1 => train loss : 0.87| valid loss : 1.22\n"
          ]
        },
        {
          "output_type": "stream",
          "name": "stderr",
          "text": []
        },
        {
          "output_type": "stream",
          "name": "stdout",
          "text": [
            "fold 1 => train loss : 0.87| valid loss : 1.22\n"
          ]
        },
        {
          "output_type": "stream",
          "name": "stderr",
          "text": []
        },
        {
          "output_type": "stream",
          "name": "stdout",
          "text": [
            "fold 1 => train loss : 0.86| valid loss : 1.22\n"
          ]
        },
        {
          "output_type": "stream",
          "name": "stderr",
          "text": []
        },
        {
          "output_type": "stream",
          "name": "stdout",
          "text": [
            "fold 1 => train loss : 0.87| valid loss : 1.22\n"
          ]
        },
        {
          "output_type": "stream",
          "name": "stderr",
          "text": []
        },
        {
          "output_type": "stream",
          "name": "stdout",
          "text": [
            "fold 1 => train loss : 0.85| valid loss : 1.22\n"
          ]
        },
        {
          "output_type": "stream",
          "name": "stderr",
          "text": []
        },
        {
          "output_type": "stream",
          "name": "stdout",
          "text": [
            "fold 1 => train loss : 0.87| valid loss : 1.22\n"
          ]
        },
        {
          "output_type": "stream",
          "name": "stderr",
          "text": []
        },
        {
          "output_type": "stream",
          "name": "stdout",
          "text": [
            "fold 1 => train loss : 0.86| valid loss : 1.22\n"
          ]
        },
        {
          "output_type": "stream",
          "name": "stderr",
          "text": [
            "                                                                   "
          ]
        },
        {
          "output_type": "stream",
          "name": "stdout",
          "text": [
            "fold 1 => train loss : 0.87| valid loss : 1.22\n"
          ]
        },
        {
          "output_type": "stream",
          "name": "stderr",
          "text": [
            "\r"
          ]
        }
      ]
    },
    {
      "cell_type": "code",
      "source": [
        "# create model\n",
        "model = Autoencoder(input_size)\n",
        "\n",
        "# create loss and optimizer\n",
        "criterion = nn.MSELoss()\n",
        "optimizer = torch.optim.Adam(model.parameters(), lr= learning_rate)\n",
        "scheduler = lr_scheduler.StepLR(optimizer, 3, gamma=0.3)\n",
        "total_step = len(train_loader)"
      ],
      "metadata": {
        "id": "c0_YTTD8OL10"
      },
      "execution_count": null,
      "outputs": []
    },
    {
      "cell_type": "code",
      "source": [
        "model"
      ],
      "metadata": {
        "colab": {
          "base_uri": "https://localhost:8080/"
        },
        "id": "Mbhn6Vi9OL5V",
        "outputId": "ee832a36-6e00-491c-a9b3-05c0555f5ad1"
      },
      "execution_count": null,
      "outputs": [
        {
          "output_type": "execute_result",
          "data": {
            "text/plain": [
              "Autoencoder(\n",
              "  (encoder): Sequential(\n",
              "    (0): Linear(in_features=24, out_features=1000, bias=True)\n",
              "    (1): ReLU()\n",
              "    (2): Dropout(p=0.25, inplace=False)\n",
              "    (3): Linear(in_features=1000, out_features=500, bias=True)\n",
              "    (4): ReLU()\n",
              "    (5): Dropout(p=0.25, inplace=False)\n",
              "    (6): Linear(in_features=500, out_features=10, bias=True)\n",
              "    (7): ReLU()\n",
              "  )\n",
              "  (decoder): Sequential(\n",
              "    (0): Linear(in_features=10, out_features=500, bias=True)\n",
              "    (1): ReLU()\n",
              "    (2): Dropout(p=0.25, inplace=False)\n",
              "    (3): Linear(in_features=500, out_features=1000, bias=True)\n",
              "    (4): ReLU()\n",
              "    (5): Dropout(p=0.25, inplace=False)\n",
              "    (6): Linear(in_features=1000, out_features=24, bias=True)\n",
              "    (7): Sigmoid()\n",
              "  )\n",
              ")"
            ]
          },
          "metadata": {},
          "execution_count": 151
        }
      ]
    },
    {
      "cell_type": "code",
      "source": [
        "num_epoch = 100"
      ],
      "metadata": {
        "id": "Jfmmdqd6O3jX"
      },
      "execution_count": null,
      "outputs": []
    },
    {
      "cell_type": "code",
      "source": [
        "#Train the model\n",
        "train_loss = []\n",
        "\n",
        "for epoch in range(num_epoch):\n",
        "  train_loss = train_ae(model, train_loader)\n",
        "  writer.flush()   \n",
        "  scheduler.step()"
      ],
      "metadata": {
        "colab": {
          "base_uri": "https://localhost:8080/"
        },
        "id": "fBawwln0O3vJ",
        "outputId": "ff2b0bdc-e15d-4a9f-c5c3-bc313898ebeb"
      },
      "execution_count": null,
      "outputs": [
        {
          "output_type": "stream",
          "name": "stderr",
          "text": []
        }
      ]
    },
    {
      "cell_type": "code",
      "source": [
        "train_loss"
      ],
      "metadata": {
        "colab": {
          "base_uri": "https://localhost:8080/"
        },
        "id": "hNlkhlOnO3xZ",
        "outputId": "5544e4b3-a158-4b86-a764-f1b9761cddde"
      },
      "execution_count": null,
      "outputs": [
        {
          "output_type": "execute_result",
          "data": {
            "text/plain": [
              "[1.146235704421997,\n",
              " 1.075990229845047,\n",
              " 1.0862045288085938,\n",
              " 1.0860063433647156,\n",
              " 1.059753268957138,\n",
              " 1.0606074631214142,\n",
              " 1.0855436325073242,\n",
              " 1.0825796127319336,\n",
              " 1.0736214518547058,\n",
              " 1.0914053320884705,\n",
              " 1.0809499025344849,\n",
              " 1.059227079153061,\n",
              " 1.0703699588775635,\n",
              " 1.0722232460975647,\n",
              " 1.0740861892700195,\n",
              " 1.0901479721069336,\n",
              " 1.062084972858429,\n",
              " 1.0979819297790527,\n",
              " 1.0985808372497559,\n",
              " 1.0950403809547424,\n",
              " 1.0862313508987427,\n",
              " 1.0791764855384827,\n",
              " 1.0860649943351746,\n",
              " 1.0690607130527496,\n",
              " 1.1017243564128876,\n",
              " 1.0866771340370178,\n",
              " 1.1091123521327972,\n",
              " 1.0995562076568604,\n",
              " 1.0961301922798157,\n",
              " 1.0620930194854736,\n",
              " 1.0863703489303589,\n",
              " 1.0700609683990479,\n",
              " 1.0967274904251099,\n",
              " 1.0827550292015076,\n",
              " 1.0754796266555786,\n",
              " 1.0866425037384033,\n",
              " 1.0914555191993713,\n",
              " 1.0631320476531982,\n",
              " 1.0970584750175476,\n",
              " 1.0825007557868958,\n",
              " 1.0885754823684692,\n",
              " 1.0722322463989258,\n",
              " 1.0916211009025574,\n",
              " 1.0683307647705078,\n",
              " 1.0677092671394348,\n",
              " 1.1056857705116272,\n",
              " 1.0895976424217224,\n",
              " 1.0560442805290222,\n",
              " 1.0799791812896729,\n",
              " 1.0717758536338806,\n",
              " 1.074581265449524,\n",
              " 1.0894951224327087,\n",
              " 1.0715486407279968,\n",
              " 1.0780106782913208,\n",
              " 1.1087728440761566,\n",
              " 1.0917153358459473,\n",
              " 1.1055835783481598,\n",
              " 1.0640608966350555,\n",
              " 1.0685358345508575,\n",
              " 1.0973381996154785,\n",
              " 1.057020753622055,\n",
              " 1.074611246585846,\n",
              " 1.1197387278079987,\n",
              " 1.0788229703903198,\n",
              " 1.090364694595337,\n",
              " 1.0810808539390564,\n",
              " 1.07685124874115,\n",
              " 1.0468544661998749,\n",
              " 1.0596294403076172,\n",
              " 1.0797704458236694,\n",
              " 1.074232816696167,\n",
              " 1.0731520056724548,\n",
              " 1.0640806257724762,\n",
              " 1.0797657370567322,\n",
              " 1.0923478603363037,\n",
              " 1.104422688484192,\n",
              " 1.090292751789093,\n",
              " 1.0801095366477966,\n",
              " 1.0828626155853271,\n",
              " 1.0797980427742004,\n",
              " 1.0950223803520203,\n",
              " 1.104011595249176,\n",
              " 1.0978007912635803,\n",
              " 1.077076494693756,\n",
              " 1.0845811367034912,\n",
              " 1.0706568360328674,\n",
              " 1.0899272561073303,\n",
              " 1.0798686146736145,\n",
              " 1.0694894790649414,\n",
              " 1.0905638933181763,\n",
              " 1.0762272477149963,\n",
              " 1.0777361392974854,\n",
              " 1.0806989073753357,\n",
              " 1.1073923408985138,\n",
              " 1.093924641609192,\n",
              " 1.054826408624649,\n",
              " 1.0682045221328735,\n",
              " 1.0774838328361511,\n",
              " 1.085709571838379,\n",
              " 1.080656886100769]"
            ]
          },
          "metadata": {},
          "execution_count": 154
        }
      ]
    },
    {
      "cell_type": "code",
      "source": [
        "#Test the mdoel\n",
        "test_loss = []\n",
        "test_loss = test_ae(model, test_loader)\n",
        "print(f'test loss : {test_loss[0]}')"
      ],
      "metadata": {
        "colab": {
          "base_uri": "https://localhost:8080/"
        },
        "id": "iu4unJX8O3z4",
        "outputId": "67c182cf-c635-4f52-fd4e-e18d80a42826"
      },
      "execution_count": null,
      "outputs": [
        {
          "output_type": "stream",
          "name": "stdout",
          "text": [
            "test loss : 1.5001616477966309\n"
          ]
        }
      ]
    },
    {
      "cell_type": "code",
      "source": [
        "PATH = \"autoencoder.pt\"\n",
        "torch.save(model.state_dict(), PATH) # Save"
      ],
      "metadata": {
        "id": "FJSeUMTZO32d"
      },
      "execution_count": null,
      "outputs": []
    },
    {
      "cell_type": "code",
      "source": [
        "#Autoencoder feature extraction for classification\n",
        "class Classification_MLP(nn.Module):\n",
        "    def __init__(self, input_size):\n",
        "        super().__init__()\n",
        "        self.AE = Autoencoder(input_size)\n",
        "        self.AE.load_state_dict(torch.load('autoencoder.pt'))\n",
        "        self.AE.eval()\n",
        "        self.classifier = nn.Sequential(\n",
        "            nn.Linear(10,1),\n",
        "            nn.Sigmoid())\n",
        "\n",
        "    def forward(self, input):\n",
        "        encoded, decoded = self.AE(input)\n",
        "        output = self.classifier(encoded)\n",
        "        return output"
      ],
      "metadata": {
        "id": "ZpKyMUYSO35L"
      },
      "execution_count": null,
      "outputs": []
    },
    {
      "cell_type": "code",
      "source": [
        "#Parameter tuning for classifier using Cross Validation\n",
        "learning_rate = 0.01\n",
        "num_epoch = 100"
      ],
      "metadata": {
        "id": "I35QKHmlO360"
      },
      "execution_count": null,
      "outputs": []
    },
    {
      "cell_type": "code",
      "source": [
        "fold = StratifiedKFold(2) # shuffle false because we shuffled data in splitting train and test section\n",
        "cv_scores = {'Accuracy' : []}\n",
        "\n",
        "for fold, (train_ids, valid_ids) in enumerate(fold.split(X_train, y_train)):\n",
        "  # sample elements randomly from a give list of ids, no replacement\n",
        "  train_subsampler = torch.utils.data.SubsetRandomSampler(train_ids)\n",
        "  valid_subsampler = torch.utils.data.SubsetRandomSampler(valid_ids)\n",
        "\n",
        "  # create dataloader for train and valid data in this fold\n",
        "  trainloader = torch.utils.data.DataLoader(train_data, batch_size=BATCH_SIZE, sampler=train_subsampler)\n",
        "  validloader = torch.utils.data.DataLoader(train_data, batch_size=BATCH_SIZE, sampler=valid_subsampler)\n",
        "\n",
        "  model = Classification_MLP(input_size)\n",
        "  optimizer = torch.optim.Adam(model.parameters(), lr= learning_rate)\n",
        "  criterion = nn.BCELoss()\n",
        "  scheduler = lr_scheduler.StepLR(optimizer, 2, gamma=0.7)\n",
        "\n",
        "  total_step = len(trainloader)\n",
        "  train_loss, valid_loss = [], []\n",
        "  train_acc, valid_acc = [], []\n",
        "\n",
        "  for epoch in range(num_epoch):\n",
        "    train_loss, train_acc = train_fun(model, trainloader)\n",
        "    writer.flush() \n",
        "    valid_loss, valid_acc = evaluate(model, validloader)   \n",
        "    print(f'fold {fold} => train acc : {train_acc[-1]:0.2f}| train loss : {train_loss[-1]:0.2f}| valid acc : {valid_acc[-1]:0.2f}| valid loss : {valid_loss[-1]:0.2f}')\n",
        "    scheduler.step()\n",
        "\n",
        "  cv_scores['Accuracy'].append(valid_acc[-1])"
      ],
      "metadata": {
        "colab": {
          "base_uri": "https://localhost:8080/"
        },
        "id": "qjJf6A6_O39N",
        "outputId": "cac41e21-9e06-4416-879e-f826945f794d"
      },
      "execution_count": null,
      "outputs": [
        {
          "output_type": "stream",
          "name": "stderr",
          "text": []
        },
        {
          "output_type": "stream",
          "name": "stdout",
          "text": [
            "fold 0 => train acc : 46.00| train loss : 4.52| valid acc : 57.00| valid loss : 1.09\n"
          ]
        },
        {
          "output_type": "stream",
          "name": "stderr",
          "text": []
        },
        {
          "output_type": "stream",
          "name": "stdout",
          "text": [
            "fold 0 => train acc : 54.00| train loss : 1.22| valid acc : 64.00| valid loss : 0.96\n"
          ]
        },
        {
          "output_type": "stream",
          "name": "stderr",
          "text": []
        },
        {
          "output_type": "stream",
          "name": "stdout",
          "text": [
            "fold 0 => train acc : 62.00| train loss : 1.00| valid acc : 71.00| valid loss : 0.74\n"
          ]
        },
        {
          "output_type": "stream",
          "name": "stderr",
          "text": []
        },
        {
          "output_type": "stream",
          "name": "stdout",
          "text": [
            "fold 0 => train acc : 85.00| train loss : 0.48| valid acc : 64.00| valid loss : 0.69\n"
          ]
        },
        {
          "output_type": "stream",
          "name": "stderr",
          "text": []
        },
        {
          "output_type": "stream",
          "name": "stdout",
          "text": [
            "fold 0 => train acc : 100.00| train loss : 0.27| valid acc : 50.00| valid loss : 0.71\n"
          ]
        },
        {
          "output_type": "stream",
          "name": "stderr",
          "text": []
        },
        {
          "output_type": "stream",
          "name": "stdout",
          "text": [
            "fold 0 => train acc : 100.00| train loss : 0.32| valid acc : 57.00| valid loss : 0.73\n"
          ]
        },
        {
          "output_type": "stream",
          "name": "stderr",
          "text": []
        },
        {
          "output_type": "stream",
          "name": "stdout",
          "text": [
            "fold 0 => train acc : 85.00| train loss : 0.31| valid acc : 57.00| valid loss : 0.73\n"
          ]
        },
        {
          "output_type": "stream",
          "name": "stderr",
          "text": []
        },
        {
          "output_type": "stream",
          "name": "stdout",
          "text": [
            "fold 0 => train acc : 92.00| train loss : 0.26| valid acc : 50.00| valid loss : 0.72\n"
          ]
        },
        {
          "output_type": "stream",
          "name": "stderr",
          "text": []
        },
        {
          "output_type": "stream",
          "name": "stdout",
          "text": [
            "fold 0 => train acc : 100.00| train loss : 0.22| valid acc : 57.00| valid loss : 0.71\n"
          ]
        },
        {
          "output_type": "stream",
          "name": "stderr",
          "text": []
        },
        {
          "output_type": "stream",
          "name": "stdout",
          "text": [
            "fold 0 => train acc : 92.00| train loss : 0.19| valid acc : 57.00| valid loss : 0.70\n"
          ]
        },
        {
          "output_type": "stream",
          "name": "stderr",
          "text": []
        },
        {
          "output_type": "stream",
          "name": "stdout",
          "text": [
            "fold 0 => train acc : 100.00| train loss : 0.14| valid acc : 57.00| valid loss : 0.70\n"
          ]
        },
        {
          "output_type": "stream",
          "name": "stderr",
          "text": []
        },
        {
          "output_type": "stream",
          "name": "stdout",
          "text": [
            "fold 0 => train acc : 92.00| train loss : 0.14| valid acc : 57.00| valid loss : 0.70\n"
          ]
        },
        {
          "output_type": "stream",
          "name": "stderr",
          "text": []
        },
        {
          "output_type": "stream",
          "name": "stdout",
          "text": [
            "fold 0 => train acc : 100.00| train loss : 0.11| valid acc : 57.00| valid loss : 0.70\n"
          ]
        },
        {
          "output_type": "stream",
          "name": "stderr",
          "text": []
        },
        {
          "output_type": "stream",
          "name": "stdout",
          "text": [
            "fold 0 => train acc : 100.00| train loss : 0.12| valid acc : 57.00| valid loss : 0.70\n"
          ]
        },
        {
          "output_type": "stream",
          "name": "stderr",
          "text": []
        },
        {
          "output_type": "stream",
          "name": "stdout",
          "text": [
            "fold 0 => train acc : 100.00| train loss : 0.11| valid acc : 57.00| valid loss : 0.70\n"
          ]
        },
        {
          "output_type": "stream",
          "name": "stderr",
          "text": []
        },
        {
          "output_type": "stream",
          "name": "stdout",
          "text": [
            "fold 0 => train acc : 100.00| train loss : 0.12| valid acc : 57.00| valid loss : 0.71\n"
          ]
        },
        {
          "output_type": "stream",
          "name": "stderr",
          "text": []
        },
        {
          "output_type": "stream",
          "name": "stdout",
          "text": [
            "fold 0 => train acc : 100.00| train loss : 0.11| valid acc : 57.00| valid loss : 0.71\n"
          ]
        },
        {
          "output_type": "stream",
          "name": "stderr",
          "text": []
        },
        {
          "output_type": "stream",
          "name": "stdout",
          "text": [
            "fold 0 => train acc : 92.00| train loss : 0.11| valid acc : 57.00| valid loss : 0.71\n"
          ]
        },
        {
          "output_type": "stream",
          "name": "stderr",
          "text": []
        },
        {
          "output_type": "stream",
          "name": "stdout",
          "text": [
            "fold 0 => train acc : 92.00| train loss : 0.11| valid acc : 57.00| valid loss : 0.71\n"
          ]
        },
        {
          "output_type": "stream",
          "name": "stderr",
          "text": []
        },
        {
          "output_type": "stream",
          "name": "stdout",
          "text": [
            "fold 0 => train acc : 92.00| train loss : 0.10| valid acc : 57.00| valid loss : 0.71\n"
          ]
        },
        {
          "output_type": "stream",
          "name": "stderr",
          "text": []
        },
        {
          "output_type": "stream",
          "name": "stdout",
          "text": [
            "fold 0 => train acc : 100.00| train loss : 0.11| valid acc : 57.00| valid loss : 0.71\n"
          ]
        },
        {
          "output_type": "stream",
          "name": "stderr",
          "text": []
        },
        {
          "output_type": "stream",
          "name": "stdout",
          "text": [
            "fold 0 => train acc : 92.00| train loss : 0.10| valid acc : 57.00| valid loss : 0.71\n"
          ]
        },
        {
          "output_type": "stream",
          "name": "stderr",
          "text": []
        },
        {
          "output_type": "stream",
          "name": "stdout",
          "text": [
            "fold 0 => train acc : 100.00| train loss : 0.09| valid acc : 57.00| valid loss : 0.71\n"
          ]
        },
        {
          "output_type": "stream",
          "name": "stderr",
          "text": []
        },
        {
          "output_type": "stream",
          "name": "stdout",
          "text": [
            "fold 0 => train acc : 92.00| train loss : 0.11| valid acc : 57.00| valid loss : 0.71\n"
          ]
        },
        {
          "output_type": "stream",
          "name": "stderr",
          "text": []
        },
        {
          "output_type": "stream",
          "name": "stdout",
          "text": [
            "fold 0 => train acc : 100.00| train loss : 0.09| valid acc : 57.00| valid loss : 0.71\n"
          ]
        },
        {
          "output_type": "stream",
          "name": "stderr",
          "text": []
        },
        {
          "output_type": "stream",
          "name": "stdout",
          "text": [
            "fold 0 => train acc : 100.00| train loss : 0.08| valid acc : 57.00| valid loss : 0.71\n"
          ]
        },
        {
          "output_type": "stream",
          "name": "stderr",
          "text": []
        },
        {
          "output_type": "stream",
          "name": "stdout",
          "text": [
            "fold 0 => train acc : 100.00| train loss : 0.09| valid acc : 57.00| valid loss : 0.71\n"
          ]
        },
        {
          "output_type": "stream",
          "name": "stderr",
          "text": []
        },
        {
          "output_type": "stream",
          "name": "stdout",
          "text": [
            "fold 0 => train acc : 100.00| train loss : 0.09| valid acc : 57.00| valid loss : 0.71\n"
          ]
        },
        {
          "output_type": "stream",
          "name": "stderr",
          "text": []
        },
        {
          "output_type": "stream",
          "name": "stdout",
          "text": [
            "fold 0 => train acc : 100.00| train loss : 0.08| valid acc : 57.00| valid loss : 0.71\n"
          ]
        },
        {
          "output_type": "stream",
          "name": "stderr",
          "text": []
        },
        {
          "output_type": "stream",
          "name": "stdout",
          "text": [
            "fold 0 => train acc : 92.00| train loss : 0.10| valid acc : 57.00| valid loss : 0.71\n"
          ]
        },
        {
          "output_type": "stream",
          "name": "stderr",
          "text": []
        },
        {
          "output_type": "stream",
          "name": "stdout",
          "text": [
            "fold 0 => train acc : 100.00| train loss : 0.08| valid acc : 57.00| valid loss : 0.71\n"
          ]
        },
        {
          "output_type": "stream",
          "name": "stderr",
          "text": []
        },
        {
          "output_type": "stream",
          "name": "stdout",
          "text": [
            "fold 0 => train acc : 100.00| train loss : 0.09| valid acc : 57.00| valid loss : 0.71\n"
          ]
        },
        {
          "output_type": "stream",
          "name": "stderr",
          "text": []
        },
        {
          "output_type": "stream",
          "name": "stdout",
          "text": [
            "fold 0 => train acc : 100.00| train loss : 0.08| valid acc : 57.00| valid loss : 0.71\n"
          ]
        },
        {
          "output_type": "stream",
          "name": "stderr",
          "text": []
        },
        {
          "output_type": "stream",
          "name": "stdout",
          "text": [
            "fold 0 => train acc : 100.00| train loss : 0.08| valid acc : 57.00| valid loss : 0.71\n"
          ]
        },
        {
          "output_type": "stream",
          "name": "stderr",
          "text": []
        },
        {
          "output_type": "stream",
          "name": "stdout",
          "text": [
            "fold 0 => train acc : 100.00| train loss : 0.09| valid acc : 57.00| valid loss : 0.71\n"
          ]
        },
        {
          "output_type": "stream",
          "name": "stderr",
          "text": []
        },
        {
          "output_type": "stream",
          "name": "stdout",
          "text": [
            "fold 0 => train acc : 100.00| train loss : 0.09| valid acc : 57.00| valid loss : 0.71\n"
          ]
        },
        {
          "output_type": "stream",
          "name": "stderr",
          "text": []
        },
        {
          "output_type": "stream",
          "name": "stdout",
          "text": [
            "fold 0 => train acc : 100.00| train loss : 0.08| valid acc : 57.00| valid loss : 0.71\n"
          ]
        },
        {
          "output_type": "stream",
          "name": "stderr",
          "text": []
        },
        {
          "output_type": "stream",
          "name": "stdout",
          "text": [
            "fold 0 => train acc : 100.00| train loss : 0.10| valid acc : 57.00| valid loss : 0.71\n"
          ]
        },
        {
          "output_type": "stream",
          "name": "stderr",
          "text": []
        },
        {
          "output_type": "stream",
          "name": "stdout",
          "text": [
            "fold 0 => train acc : 100.00| train loss : 0.09| valid acc : 57.00| valid loss : 0.71\n"
          ]
        },
        {
          "output_type": "stream",
          "name": "stderr",
          "text": []
        },
        {
          "output_type": "stream",
          "name": "stdout",
          "text": [
            "fold 0 => train acc : 100.00| train loss : 0.08| valid acc : 57.00| valid loss : 0.71\n"
          ]
        },
        {
          "output_type": "stream",
          "name": "stderr",
          "text": []
        },
        {
          "output_type": "stream",
          "name": "stdout",
          "text": [
            "fold 0 => train acc : 100.00| train loss : 0.09| valid acc : 57.00| valid loss : 0.71\n"
          ]
        },
        {
          "output_type": "stream",
          "name": "stderr",
          "text": []
        },
        {
          "output_type": "stream",
          "name": "stdout",
          "text": [
            "fold 0 => train acc : 100.00| train loss : 0.09| valid acc : 57.00| valid loss : 0.71\n"
          ]
        },
        {
          "output_type": "stream",
          "name": "stderr",
          "text": []
        },
        {
          "output_type": "stream",
          "name": "stdout",
          "text": [
            "fold 0 => train acc : 100.00| train loss : 0.08| valid acc : 57.00| valid loss : 0.71\n"
          ]
        },
        {
          "output_type": "stream",
          "name": "stderr",
          "text": []
        },
        {
          "output_type": "stream",
          "name": "stdout",
          "text": [
            "fold 0 => train acc : 100.00| train loss : 0.09| valid acc : 57.00| valid loss : 0.71\n"
          ]
        },
        {
          "output_type": "stream",
          "name": "stderr",
          "text": []
        },
        {
          "output_type": "stream",
          "name": "stdout",
          "text": [
            "fold 0 => train acc : 100.00| train loss : 0.08| valid acc : 57.00| valid loss : 0.71\n"
          ]
        },
        {
          "output_type": "stream",
          "name": "stderr",
          "text": []
        },
        {
          "output_type": "stream",
          "name": "stdout",
          "text": [
            "fold 0 => train acc : 100.00| train loss : 0.10| valid acc : 57.00| valid loss : 0.71\n"
          ]
        },
        {
          "output_type": "stream",
          "name": "stderr",
          "text": []
        },
        {
          "output_type": "stream",
          "name": "stdout",
          "text": [
            "fold 0 => train acc : 100.00| train loss : 0.08| valid acc : 57.00| valid loss : 0.71\n"
          ]
        },
        {
          "output_type": "stream",
          "name": "stderr",
          "text": []
        },
        {
          "output_type": "stream",
          "name": "stdout",
          "text": [
            "fold 0 => train acc : 100.00| train loss : 0.09| valid acc : 57.00| valid loss : 0.71\n"
          ]
        },
        {
          "output_type": "stream",
          "name": "stderr",
          "text": []
        },
        {
          "output_type": "stream",
          "name": "stdout",
          "text": [
            "fold 0 => train acc : 100.00| train loss : 0.08| valid acc : 57.00| valid loss : 0.71\n"
          ]
        },
        {
          "output_type": "stream",
          "name": "stderr",
          "text": []
        },
        {
          "output_type": "stream",
          "name": "stdout",
          "text": [
            "fold 0 => train acc : 100.00| train loss : 0.09| valid acc : 57.00| valid loss : 0.71\n"
          ]
        },
        {
          "output_type": "stream",
          "name": "stderr",
          "text": []
        },
        {
          "output_type": "stream",
          "name": "stdout",
          "text": [
            "fold 0 => train acc : 100.00| train loss : 0.09| valid acc : 57.00| valid loss : 0.71\n"
          ]
        },
        {
          "output_type": "stream",
          "name": "stderr",
          "text": []
        },
        {
          "output_type": "stream",
          "name": "stdout",
          "text": [
            "fold 0 => train acc : 100.00| train loss : 0.08| valid acc : 57.00| valid loss : 0.71\n"
          ]
        },
        {
          "output_type": "stream",
          "name": "stderr",
          "text": []
        },
        {
          "output_type": "stream",
          "name": "stdout",
          "text": [
            "fold 0 => train acc : 100.00| train loss : 0.08| valid acc : 57.00| valid loss : 0.71\n"
          ]
        },
        {
          "output_type": "stream",
          "name": "stderr",
          "text": []
        },
        {
          "output_type": "stream",
          "name": "stdout",
          "text": [
            "fold 0 => train acc : 100.00| train loss : 0.08| valid acc : 57.00| valid loss : 0.71\n"
          ]
        },
        {
          "output_type": "stream",
          "name": "stderr",
          "text": []
        },
        {
          "output_type": "stream",
          "name": "stdout",
          "text": [
            "fold 0 => train acc : 100.00| train loss : 0.09| valid acc : 57.00| valid loss : 0.71\n"
          ]
        },
        {
          "output_type": "stream",
          "name": "stderr",
          "text": []
        },
        {
          "output_type": "stream",
          "name": "stdout",
          "text": [
            "fold 0 => train acc : 100.00| train loss : 0.09| valid acc : 57.00| valid loss : 0.71\n"
          ]
        },
        {
          "output_type": "stream",
          "name": "stderr",
          "text": []
        },
        {
          "output_type": "stream",
          "name": "stdout",
          "text": [
            "fold 0 => train acc : 100.00| train loss : 0.08| valid acc : 57.00| valid loss : 0.71\n"
          ]
        },
        {
          "output_type": "stream",
          "name": "stderr",
          "text": []
        },
        {
          "output_type": "stream",
          "name": "stdout",
          "text": [
            "fold 0 => train acc : 100.00| train loss : 0.08| valid acc : 57.00| valid loss : 0.71\n"
          ]
        },
        {
          "output_type": "stream",
          "name": "stderr",
          "text": []
        },
        {
          "output_type": "stream",
          "name": "stdout",
          "text": [
            "fold 0 => train acc : 100.00| train loss : 0.09| valid acc : 57.00| valid loss : 0.71\n"
          ]
        },
        {
          "output_type": "stream",
          "name": "stderr",
          "text": []
        },
        {
          "output_type": "stream",
          "name": "stdout",
          "text": [
            "fold 0 => train acc : 92.00| train loss : 0.11| valid acc : 57.00| valid loss : 0.71\n"
          ]
        },
        {
          "output_type": "stream",
          "name": "stderr",
          "text": []
        },
        {
          "output_type": "stream",
          "name": "stdout",
          "text": [
            "fold 0 => train acc : 100.00| train loss : 0.09| valid acc : 57.00| valid loss : 0.71\n"
          ]
        },
        {
          "output_type": "stream",
          "name": "stderr",
          "text": []
        },
        {
          "output_type": "stream",
          "name": "stdout",
          "text": [
            "fold 0 => train acc : 100.00| train loss : 0.08| valid acc : 57.00| valid loss : 0.71\n"
          ]
        },
        {
          "output_type": "stream",
          "name": "stderr",
          "text": []
        },
        {
          "output_type": "stream",
          "name": "stdout",
          "text": [
            "fold 0 => train acc : 100.00| train loss : 0.09| valid acc : 57.00| valid loss : 0.71\n"
          ]
        },
        {
          "output_type": "stream",
          "name": "stderr",
          "text": []
        },
        {
          "output_type": "stream",
          "name": "stdout",
          "text": [
            "fold 0 => train acc : 100.00| train loss : 0.09| valid acc : 57.00| valid loss : 0.71\n"
          ]
        },
        {
          "output_type": "stream",
          "name": "stderr",
          "text": []
        },
        {
          "output_type": "stream",
          "name": "stdout",
          "text": [
            "fold 0 => train acc : 100.00| train loss : 0.09| valid acc : 57.00| valid loss : 0.71\n"
          ]
        },
        {
          "output_type": "stream",
          "name": "stderr",
          "text": []
        },
        {
          "output_type": "stream",
          "name": "stdout",
          "text": [
            "fold 0 => train acc : 100.00| train loss : 0.08| valid acc : 57.00| valid loss : 0.71\n"
          ]
        },
        {
          "output_type": "stream",
          "name": "stderr",
          "text": [
            "                                                                                  "
          ]
        },
        {
          "output_type": "stream",
          "name": "stdout",
          "text": [
            "fold 0 => train acc : 100.00| train loss : 0.08| valid acc : 57.00| valid loss : 0.71"
          ]
        },
        {
          "output_type": "stream",
          "name": "stderr",
          "text": [
            "\r"
          ]
        },
        {
          "output_type": "stream",
          "name": "stdout",
          "text": [
            "\n"
          ]
        },
        {
          "output_type": "stream",
          "name": "stderr",
          "text": []
        },
        {
          "output_type": "stream",
          "name": "stdout",
          "text": [
            "fold 0 => train acc : 100.00| train loss : 0.08| valid acc : 57.00| valid loss : 0.71\n"
          ]
        },
        {
          "output_type": "stream",
          "name": "stderr",
          "text": []
        },
        {
          "output_type": "stream",
          "name": "stdout",
          "text": [
            "fold 0 => train acc : 100.00| train loss : 0.10| valid acc : 57.00| valid loss : 0.71\n"
          ]
        },
        {
          "output_type": "stream",
          "name": "stderr",
          "text": []
        },
        {
          "output_type": "stream",
          "name": "stdout",
          "text": [
            "fold 0 => train acc : 92.00| train loss : 0.10| valid acc : 57.00| valid loss : 0.71\n"
          ]
        },
        {
          "output_type": "stream",
          "name": "stderr",
          "text": []
        },
        {
          "output_type": "stream",
          "name": "stdout",
          "text": [
            "fold 0 => train acc : 100.00| train loss : 0.10| valid acc : 57.00| valid loss : 0.71\n"
          ]
        },
        {
          "output_type": "stream",
          "name": "stderr",
          "text": []
        },
        {
          "output_type": "stream",
          "name": "stdout",
          "text": [
            "fold 0 => train acc : 100.00| train loss : 0.09| valid acc : 57.00| valid loss : 0.71\n"
          ]
        },
        {
          "output_type": "stream",
          "name": "stderr",
          "text": []
        },
        {
          "output_type": "stream",
          "name": "stdout",
          "text": [
            "fold 0 => train acc : 100.00| train loss : 0.09| valid acc : 57.00| valid loss : 0.71\n"
          ]
        },
        {
          "output_type": "stream",
          "name": "stderr",
          "text": []
        },
        {
          "output_type": "stream",
          "name": "stdout",
          "text": [
            "fold 0 => train acc : 100.00| train loss : 0.09| valid acc : 57.00| valid loss : 0.71\n"
          ]
        },
        {
          "output_type": "stream",
          "name": "stderr",
          "text": []
        },
        {
          "output_type": "stream",
          "name": "stdout",
          "text": [
            "fold 0 => train acc : 100.00| train loss : 0.08| valid acc : 57.00| valid loss : 0.71\n"
          ]
        },
        {
          "output_type": "stream",
          "name": "stderr",
          "text": []
        },
        {
          "output_type": "stream",
          "name": "stdout",
          "text": [
            "fold 0 => train acc : 100.00| train loss : 0.08| valid acc : 57.00| valid loss : 0.71\n"
          ]
        },
        {
          "output_type": "stream",
          "name": "stderr",
          "text": []
        },
        {
          "output_type": "stream",
          "name": "stdout",
          "text": [
            "fold 0 => train acc : 100.00| train loss : 0.08| valid acc : 57.00| valid loss : 0.71\n"
          ]
        },
        {
          "output_type": "stream",
          "name": "stderr",
          "text": []
        },
        {
          "output_type": "stream",
          "name": "stdout",
          "text": [
            "fold 0 => train acc : 100.00| train loss : 0.08| valid acc : 57.00| valid loss : 0.71\n"
          ]
        },
        {
          "output_type": "stream",
          "name": "stderr",
          "text": []
        },
        {
          "output_type": "stream",
          "name": "stdout",
          "text": [
            "fold 0 => train acc : 100.00| train loss : 0.08| valid acc : 57.00| valid loss : 0.71\n"
          ]
        },
        {
          "output_type": "stream",
          "name": "stderr",
          "text": []
        },
        {
          "output_type": "stream",
          "name": "stdout",
          "text": [
            "fold 0 => train acc : 100.00| train loss : 0.08| valid acc : 57.00| valid loss : 0.71\n"
          ]
        },
        {
          "output_type": "stream",
          "name": "stderr",
          "text": []
        },
        {
          "output_type": "stream",
          "name": "stdout",
          "text": [
            "fold 0 => train acc : 100.00| train loss : 0.09| valid acc : 57.00| valid loss : 0.71\n"
          ]
        },
        {
          "output_type": "stream",
          "name": "stderr",
          "text": []
        },
        {
          "output_type": "stream",
          "name": "stdout",
          "text": [
            "fold 0 => train acc : 92.00| train loss : 0.09| valid acc : 57.00| valid loss : 0.71\n"
          ]
        },
        {
          "output_type": "stream",
          "name": "stderr",
          "text": []
        },
        {
          "output_type": "stream",
          "name": "stdout",
          "text": [
            "fold 0 => train acc : 100.00| train loss : 0.10| valid acc : 57.00| valid loss : 0.71\n"
          ]
        },
        {
          "output_type": "stream",
          "name": "stderr",
          "text": []
        },
        {
          "output_type": "stream",
          "name": "stdout",
          "text": [
            "fold 0 => train acc : 100.00| train loss : 0.09| valid acc : 57.00| valid loss : 0.71\n"
          ]
        },
        {
          "output_type": "stream",
          "name": "stderr",
          "text": []
        },
        {
          "output_type": "stream",
          "name": "stdout",
          "text": [
            "fold 0 => train acc : 100.00| train loss : 0.09| valid acc : 57.00| valid loss : 0.71\n"
          ]
        },
        {
          "output_type": "stream",
          "name": "stderr",
          "text": []
        },
        {
          "output_type": "stream",
          "name": "stdout",
          "text": [
            "fold 0 => train acc : 92.00| train loss : 0.10| valid acc : 57.00| valid loss : 0.71\n"
          ]
        },
        {
          "output_type": "stream",
          "name": "stderr",
          "text": []
        },
        {
          "output_type": "stream",
          "name": "stdout",
          "text": [
            "fold 0 => train acc : 100.00| train loss : 0.09| valid acc : 57.00| valid loss : 0.71\n"
          ]
        },
        {
          "output_type": "stream",
          "name": "stderr",
          "text": []
        },
        {
          "output_type": "stream",
          "name": "stdout",
          "text": [
            "fold 0 => train acc : 100.00| train loss : 0.08| valid acc : 57.00| valid loss : 0.71\n"
          ]
        },
        {
          "output_type": "stream",
          "name": "stderr",
          "text": []
        },
        {
          "output_type": "stream",
          "name": "stdout",
          "text": [
            "fold 0 => train acc : 100.00| train loss : 0.08| valid acc : 57.00| valid loss : 0.71\n"
          ]
        },
        {
          "output_type": "stream",
          "name": "stderr",
          "text": []
        },
        {
          "output_type": "stream",
          "name": "stdout",
          "text": [
            "fold 0 => train acc : 100.00| train loss : 0.09| valid acc : 57.00| valid loss : 0.71\n"
          ]
        },
        {
          "output_type": "stream",
          "name": "stderr",
          "text": []
        },
        {
          "output_type": "stream",
          "name": "stdout",
          "text": [
            "fold 0 => train acc : 100.00| train loss : 0.07| valid acc : 57.00| valid loss : 0.71\n"
          ]
        },
        {
          "output_type": "stream",
          "name": "stderr",
          "text": []
        },
        {
          "output_type": "stream",
          "name": "stdout",
          "text": [
            "fold 0 => train acc : 92.00| train loss : 0.11| valid acc : 57.00| valid loss : 0.71\n"
          ]
        },
        {
          "output_type": "stream",
          "name": "stderr",
          "text": []
        },
        {
          "output_type": "stream",
          "name": "stdout",
          "text": [
            "fold 0 => train acc : 100.00| train loss : 0.09| valid acc : 57.00| valid loss : 0.71\n"
          ]
        },
        {
          "output_type": "stream",
          "name": "stderr",
          "text": []
        },
        {
          "output_type": "stream",
          "name": "stdout",
          "text": [
            "fold 0 => train acc : 100.00| train loss : 0.08| valid acc : 57.00| valid loss : 0.71\n"
          ]
        },
        {
          "output_type": "stream",
          "name": "stderr",
          "text": []
        },
        {
          "output_type": "stream",
          "name": "stdout",
          "text": [
            "fold 0 => train acc : 100.00| train loss : 0.09| valid acc : 57.00| valid loss : 0.71\n"
          ]
        },
        {
          "output_type": "stream",
          "name": "stderr",
          "text": []
        },
        {
          "output_type": "stream",
          "name": "stdout",
          "text": [
            "fold 0 => train acc : 100.00| train loss : 0.08| valid acc : 57.00| valid loss : 0.71\n"
          ]
        },
        {
          "output_type": "stream",
          "name": "stderr",
          "text": []
        },
        {
          "output_type": "stream",
          "name": "stdout",
          "text": [
            "fold 0 => train acc : 100.00| train loss : 0.09| valid acc : 57.00| valid loss : 0.71\n"
          ]
        },
        {
          "output_type": "stream",
          "name": "stderr",
          "text": []
        },
        {
          "output_type": "stream",
          "name": "stdout",
          "text": [
            "fold 0 => train acc : 100.00| train loss : 0.08| valid acc : 57.00| valid loss : 0.71\n"
          ]
        },
        {
          "output_type": "stream",
          "name": "stderr",
          "text": []
        },
        {
          "output_type": "stream",
          "name": "stdout",
          "text": [
            "fold 0 => train acc : 92.00| train loss : 0.09| valid acc : 57.00| valid loss : 0.71\n"
          ]
        },
        {
          "output_type": "stream",
          "name": "stderr",
          "text": []
        },
        {
          "output_type": "stream",
          "name": "stdout",
          "text": [
            "fold 0 => train acc : 100.00| train loss : 0.07| valid acc : 57.00| valid loss : 0.71\n"
          ]
        },
        {
          "output_type": "stream",
          "name": "stderr",
          "text": []
        },
        {
          "output_type": "stream",
          "name": "stdout",
          "text": [
            "fold 1 => train acc : 43.00| train loss : 1.87| valid acc : 54.00| valid loss : 2.08\n"
          ]
        },
        {
          "output_type": "stream",
          "name": "stderr",
          "text": []
        },
        {
          "output_type": "stream",
          "name": "stdout",
          "text": [
            "fold 1 => train acc : 57.00| train loss : 1.16| valid acc : 54.00| valid loss : 1.89\n"
          ]
        },
        {
          "output_type": "stream",
          "name": "stderr",
          "text": []
        },
        {
          "output_type": "stream",
          "name": "stdout",
          "text": [
            "fold 1 => train acc : 57.00| train loss : 0.82| valid acc : 54.00| valid loss : 1.42\n"
          ]
        },
        {
          "output_type": "stream",
          "name": "stderr",
          "text": []
        },
        {
          "output_type": "stream",
          "name": "stdout",
          "text": [
            "fold 1 => train acc : 64.00| train loss : 0.49| valid acc : 54.00| valid loss : 1.00\n"
          ]
        },
        {
          "output_type": "stream",
          "name": "stderr",
          "text": []
        },
        {
          "output_type": "stream",
          "name": "stdout",
          "text": [
            "fold 1 => train acc : 64.00| train loss : 0.40| valid acc : 62.00| valid loss : 0.81\n"
          ]
        },
        {
          "output_type": "stream",
          "name": "stderr",
          "text": []
        },
        {
          "output_type": "stream",
          "name": "stdout",
          "text": [
            "fold 1 => train acc : 79.00| train loss : 0.38| valid acc : 62.00| valid loss : 0.73\n"
          ]
        },
        {
          "output_type": "stream",
          "name": "stderr",
          "text": []
        },
        {
          "output_type": "stream",
          "name": "stdout",
          "text": [
            "fold 1 => train acc : 71.00| train loss : 0.40| valid acc : 69.00| valid loss : 0.72\n"
          ]
        },
        {
          "output_type": "stream",
          "name": "stderr",
          "text": []
        },
        {
          "output_type": "stream",
          "name": "stdout",
          "text": [
            "fold 1 => train acc : 71.00| train loss : 0.37| valid acc : 69.00| valid loss : 0.75\n"
          ]
        },
        {
          "output_type": "stream",
          "name": "stderr",
          "text": [
            "                                                                               "
          ]
        },
        {
          "output_type": "stream",
          "name": "stdout",
          "text": [
            "fold 1 => train acc : 71.00| train loss : 0.32| valid acc : 69.00| valid loss : 0.78"
          ]
        },
        {
          "output_type": "stream",
          "name": "stderr",
          "text": [
            "\r"
          ]
        },
        {
          "output_type": "stream",
          "name": "stdout",
          "text": [
            "\n"
          ]
        },
        {
          "output_type": "stream",
          "name": "stderr",
          "text": []
        },
        {
          "output_type": "stream",
          "name": "stdout",
          "text": [
            "fold 1 => train acc : 79.00| train loss : 0.30| valid acc : 69.00| valid loss : 0.83\n"
          ]
        },
        {
          "output_type": "stream",
          "name": "stderr",
          "text": []
        },
        {
          "output_type": "stream",
          "name": "stdout",
          "text": [
            "fold 1 => train acc : 71.00| train loss : 0.28| valid acc : 69.00| valid loss : 0.87\n"
          ]
        },
        {
          "output_type": "stream",
          "name": "stderr",
          "text": []
        },
        {
          "output_type": "stream",
          "name": "stdout",
          "text": [
            "fold 1 => train acc : 86.00| train loss : 0.27| valid acc : 69.00| valid loss : 0.90\n"
          ]
        },
        {
          "output_type": "stream",
          "name": "stderr",
          "text": []
        },
        {
          "output_type": "stream",
          "name": "stdout",
          "text": [
            "fold 1 => train acc : 79.00| train loss : 0.26| valid acc : 69.00| valid loss : 0.93\n"
          ]
        },
        {
          "output_type": "stream",
          "name": "stderr",
          "text": []
        },
        {
          "output_type": "stream",
          "name": "stdout",
          "text": [
            "fold 1 => train acc : 86.00| train loss : 0.24| valid acc : 69.00| valid loss : 0.95\n"
          ]
        },
        {
          "output_type": "stream",
          "name": "stderr",
          "text": []
        },
        {
          "output_type": "stream",
          "name": "stdout",
          "text": [
            "fold 1 => train acc : 86.00| train loss : 0.22| valid acc : 69.00| valid loss : 0.97\n"
          ]
        },
        {
          "output_type": "stream",
          "name": "stderr",
          "text": []
        },
        {
          "output_type": "stream",
          "name": "stdout",
          "text": [
            "fold 1 => train acc : 93.00| train loss : 0.20| valid acc : 69.00| valid loss : 0.99\n"
          ]
        },
        {
          "output_type": "stream",
          "name": "stderr",
          "text": []
        },
        {
          "output_type": "stream",
          "name": "stdout",
          "text": [
            "fold 1 => train acc : 93.00| train loss : 0.20| valid acc : 69.00| valid loss : 1.00\n"
          ]
        },
        {
          "output_type": "stream",
          "name": "stderr",
          "text": []
        },
        {
          "output_type": "stream",
          "name": "stdout",
          "text": [
            "fold 1 => train acc : 86.00| train loss : 0.22| valid acc : 69.00| valid loss : 1.01\n"
          ]
        },
        {
          "output_type": "stream",
          "name": "stderr",
          "text": []
        },
        {
          "output_type": "stream",
          "name": "stdout",
          "text": [
            "fold 1 => train acc : 93.00| train loss : 0.20| valid acc : 69.00| valid loss : 1.02\n"
          ]
        },
        {
          "output_type": "stream",
          "name": "stderr",
          "text": []
        },
        {
          "output_type": "stream",
          "name": "stdout",
          "text": [
            "fold 1 => train acc : 100.00| train loss : 0.19| valid acc : 77.00| valid loss : 1.02\n"
          ]
        },
        {
          "output_type": "stream",
          "name": "stderr",
          "text": []
        },
        {
          "output_type": "stream",
          "name": "stdout",
          "text": [
            "fold 1 => train acc : 100.00| train loss : 0.17| valid acc : 77.00| valid loss : 1.03\n"
          ]
        },
        {
          "output_type": "stream",
          "name": "stderr",
          "text": []
        },
        {
          "output_type": "stream",
          "name": "stdout",
          "text": [
            "fold 1 => train acc : 100.00| train loss : 0.16| valid acc : 77.00| valid loss : 1.03\n"
          ]
        },
        {
          "output_type": "stream",
          "name": "stderr",
          "text": []
        },
        {
          "output_type": "stream",
          "name": "stdout",
          "text": [
            "fold 1 => train acc : 100.00| train loss : 0.16| valid acc : 77.00| valid loss : 1.03\n"
          ]
        },
        {
          "output_type": "stream",
          "name": "stderr",
          "text": []
        },
        {
          "output_type": "stream",
          "name": "stdout",
          "text": [
            "fold 1 => train acc : 100.00| train loss : 0.17| valid acc : 77.00| valid loss : 1.03\n"
          ]
        },
        {
          "output_type": "stream",
          "name": "stderr",
          "text": []
        },
        {
          "output_type": "stream",
          "name": "stdout",
          "text": [
            "fold 1 => train acc : 100.00| train loss : 0.18| valid acc : 77.00| valid loss : 1.04\n"
          ]
        },
        {
          "output_type": "stream",
          "name": "stderr",
          "text": []
        },
        {
          "output_type": "stream",
          "name": "stdout",
          "text": [
            "fold 1 => train acc : 100.00| train loss : 0.15| valid acc : 77.00| valid loss : 1.04\n"
          ]
        },
        {
          "output_type": "stream",
          "name": "stderr",
          "text": []
        },
        {
          "output_type": "stream",
          "name": "stdout",
          "text": [
            "fold 1 => train acc : 100.00| train loss : 0.17| valid acc : 77.00| valid loss : 1.04\n"
          ]
        },
        {
          "output_type": "stream",
          "name": "stderr",
          "text": []
        },
        {
          "output_type": "stream",
          "name": "stdout",
          "text": [
            "fold 1 => train acc : 100.00| train loss : 0.17| valid acc : 77.00| valid loss : 1.04\n"
          ]
        },
        {
          "output_type": "stream",
          "name": "stderr",
          "text": []
        },
        {
          "output_type": "stream",
          "name": "stdout",
          "text": [
            "fold 1 => train acc : 93.00| train loss : 0.19| valid acc : 77.00| valid loss : 1.04\n"
          ]
        },
        {
          "output_type": "stream",
          "name": "stderr",
          "text": []
        },
        {
          "output_type": "stream",
          "name": "stdout",
          "text": [
            "fold 1 => train acc : 93.00| train loss : 0.18| valid acc : 77.00| valid loss : 1.04\n"
          ]
        },
        {
          "output_type": "stream",
          "name": "stderr",
          "text": []
        },
        {
          "output_type": "stream",
          "name": "stdout",
          "text": [
            "fold 1 => train acc : 100.00| train loss : 0.14| valid acc : 77.00| valid loss : 1.04\n"
          ]
        },
        {
          "output_type": "stream",
          "name": "stderr",
          "text": []
        },
        {
          "output_type": "stream",
          "name": "stdout",
          "text": [
            "fold 1 => train acc : 100.00| train loss : 0.15| valid acc : 77.00| valid loss : 1.04\n"
          ]
        },
        {
          "output_type": "stream",
          "name": "stderr",
          "text": [
            "                                                                                 "
          ]
        },
        {
          "output_type": "stream",
          "name": "stdout",
          "text": [
            "fold 1 => train acc : 100.00| train loss : 0.16| valid acc : 77.00| valid loss : 1.04"
          ]
        },
        {
          "output_type": "stream",
          "name": "stderr",
          "text": [
            "\r"
          ]
        },
        {
          "output_type": "stream",
          "name": "stdout",
          "text": [
            "\n"
          ]
        },
        {
          "output_type": "stream",
          "name": "stderr",
          "text": []
        },
        {
          "output_type": "stream",
          "name": "stdout",
          "text": [
            "fold 1 => train acc : 100.00| train loss : 0.15| valid acc : 77.00| valid loss : 1.04\n"
          ]
        },
        {
          "output_type": "stream",
          "name": "stderr",
          "text": []
        },
        {
          "output_type": "stream",
          "name": "stdout",
          "text": [
            "fold 1 => train acc : 100.00| train loss : 0.16| valid acc : 77.00| valid loss : 1.04\n"
          ]
        },
        {
          "output_type": "stream",
          "name": "stderr",
          "text": []
        },
        {
          "output_type": "stream",
          "name": "stdout",
          "text": [
            "fold 1 => train acc : 100.00| train loss : 0.16| valid acc : 77.00| valid loss : 1.04\n"
          ]
        },
        {
          "output_type": "stream",
          "name": "stderr",
          "text": []
        },
        {
          "output_type": "stream",
          "name": "stdout",
          "text": [
            "fold 1 => train acc : 100.00| train loss : 0.17| valid acc : 77.00| valid loss : 1.04\n"
          ]
        },
        {
          "output_type": "stream",
          "name": "stderr",
          "text": []
        },
        {
          "output_type": "stream",
          "name": "stdout",
          "text": [
            "fold 1 => train acc : 100.00| train loss : 0.18| valid acc : 77.00| valid loss : 1.04\n"
          ]
        },
        {
          "output_type": "stream",
          "name": "stderr",
          "text": []
        },
        {
          "output_type": "stream",
          "name": "stdout",
          "text": [
            "fold 1 => train acc : 100.00| train loss : 0.15| valid acc : 77.00| valid loss : 1.04\n"
          ]
        },
        {
          "output_type": "stream",
          "name": "stderr",
          "text": []
        },
        {
          "output_type": "stream",
          "name": "stdout",
          "text": [
            "fold 1 => train acc : 100.00| train loss : 0.17| valid acc : 77.00| valid loss : 1.04\n"
          ]
        },
        {
          "output_type": "stream",
          "name": "stderr",
          "text": []
        },
        {
          "output_type": "stream",
          "name": "stdout",
          "text": [
            "fold 1 => train acc : 93.00| train loss : 0.17| valid acc : 77.00| valid loss : 1.04\n"
          ]
        },
        {
          "output_type": "stream",
          "name": "stderr",
          "text": []
        },
        {
          "output_type": "stream",
          "name": "stdout",
          "text": [
            "fold 1 => train acc : 100.00| train loss : 0.17| valid acc : 77.00| valid loss : 1.04\n"
          ]
        },
        {
          "output_type": "stream",
          "name": "stderr",
          "text": []
        },
        {
          "output_type": "stream",
          "name": "stdout",
          "text": [
            "fold 1 => train acc : 100.00| train loss : 0.14| valid acc : 77.00| valid loss : 1.04\n"
          ]
        },
        {
          "output_type": "stream",
          "name": "stderr",
          "text": []
        },
        {
          "output_type": "stream",
          "name": "stdout",
          "text": [
            "fold 1 => train acc : 100.00| train loss : 0.18| valid acc : 77.00| valid loss : 1.04\n"
          ]
        },
        {
          "output_type": "stream",
          "name": "stderr",
          "text": []
        },
        {
          "output_type": "stream",
          "name": "stdout",
          "text": [
            "fold 1 => train acc : 93.00| train loss : 0.18| valid acc : 77.00| valid loss : 1.04\n"
          ]
        },
        {
          "output_type": "stream",
          "name": "stderr",
          "text": []
        },
        {
          "output_type": "stream",
          "name": "stdout",
          "text": [
            "fold 1 => train acc : 100.00| train loss : 0.16| valid acc : 77.00| valid loss : 1.04\n"
          ]
        },
        {
          "output_type": "stream",
          "name": "stderr",
          "text": []
        },
        {
          "output_type": "stream",
          "name": "stdout",
          "text": [
            "fold 1 => train acc : 93.00| train loss : 0.19| valid acc : 77.00| valid loss : 1.04\n"
          ]
        },
        {
          "output_type": "stream",
          "name": "stderr",
          "text": []
        },
        {
          "output_type": "stream",
          "name": "stdout",
          "text": [
            "fold 1 => train acc : 100.00| train loss : 0.17| valid acc : 77.00| valid loss : 1.04\n"
          ]
        },
        {
          "output_type": "stream",
          "name": "stderr",
          "text": []
        },
        {
          "output_type": "stream",
          "name": "stdout",
          "text": [
            "fold 1 => train acc : 100.00| train loss : 0.18| valid acc : 77.00| valid loss : 1.04\n"
          ]
        },
        {
          "output_type": "stream",
          "name": "stderr",
          "text": []
        },
        {
          "output_type": "stream",
          "name": "stdout",
          "text": [
            "fold 1 => train acc : 93.00| train loss : 0.17| valid acc : 77.00| valid loss : 1.04\n"
          ]
        },
        {
          "output_type": "stream",
          "name": "stderr",
          "text": []
        },
        {
          "output_type": "stream",
          "name": "stdout",
          "text": [
            "fold 1 => train acc : 100.00| train loss : 0.18| valid acc : 77.00| valid loss : 1.04\n"
          ]
        },
        {
          "output_type": "stream",
          "name": "stderr",
          "text": []
        },
        {
          "output_type": "stream",
          "name": "stdout",
          "text": [
            "fold 1 => train acc : 100.00| train loss : 0.17| valid acc : 77.00| valid loss : 1.04\n"
          ]
        },
        {
          "output_type": "stream",
          "name": "stderr",
          "text": []
        },
        {
          "output_type": "stream",
          "name": "stdout",
          "text": [
            "fold 1 => train acc : 100.00| train loss : 0.17| valid acc : 77.00| valid loss : 1.04\n"
          ]
        },
        {
          "output_type": "stream",
          "name": "stderr",
          "text": []
        },
        {
          "output_type": "stream",
          "name": "stdout",
          "text": [
            "fold 1 => train acc : 100.00| train loss : 0.15| valid acc : 77.00| valid loss : 1.04\n"
          ]
        },
        {
          "output_type": "stream",
          "name": "stderr",
          "text": []
        },
        {
          "output_type": "stream",
          "name": "stdout",
          "text": [
            "fold 1 => train acc : 100.00| train loss : 0.16| valid acc : 77.00| valid loss : 1.04\n"
          ]
        },
        {
          "output_type": "stream",
          "name": "stderr",
          "text": [
            "                                                                                 "
          ]
        },
        {
          "output_type": "stream",
          "name": "stdout",
          "text": [
            "fold 1 => train acc : 100.00| train loss : 0.17| valid acc : 77.00| valid loss : 1.04"
          ]
        },
        {
          "output_type": "stream",
          "name": "stderr",
          "text": [
            "\r"
          ]
        },
        {
          "output_type": "stream",
          "name": "stdout",
          "text": [
            "\n"
          ]
        },
        {
          "output_type": "stream",
          "name": "stderr",
          "text": []
        },
        {
          "output_type": "stream",
          "name": "stdout",
          "text": [
            "fold 1 => train acc : 100.00| train loss : 0.16| valid acc : 77.00| valid loss : 1.04\n"
          ]
        },
        {
          "output_type": "stream",
          "name": "stderr",
          "text": []
        },
        {
          "output_type": "stream",
          "name": "stdout",
          "text": [
            "fold 1 => train acc : 100.00| train loss : 0.17| valid acc : 77.00| valid loss : 1.04\n"
          ]
        },
        {
          "output_type": "stream",
          "name": "stderr",
          "text": []
        },
        {
          "output_type": "stream",
          "name": "stdout",
          "text": [
            "fold 1 => train acc : 100.00| train loss : 0.14| valid acc : 77.00| valid loss : 1.04\n"
          ]
        },
        {
          "output_type": "stream",
          "name": "stderr",
          "text": []
        },
        {
          "output_type": "stream",
          "name": "stdout",
          "text": [
            "fold 1 => train acc : 100.00| train loss : 0.16| valid acc : 77.00| valid loss : 1.04\n"
          ]
        },
        {
          "output_type": "stream",
          "name": "stderr",
          "text": []
        },
        {
          "output_type": "stream",
          "name": "stdout",
          "text": [
            "fold 1 => train acc : 100.00| train loss : 0.17| valid acc : 77.00| valid loss : 1.04\n"
          ]
        },
        {
          "output_type": "stream",
          "name": "stderr",
          "text": []
        },
        {
          "output_type": "stream",
          "name": "stdout",
          "text": [
            "fold 1 => train acc : 100.00| train loss : 0.17| valid acc : 77.00| valid loss : 1.04\n"
          ]
        },
        {
          "output_type": "stream",
          "name": "stderr",
          "text": [
            "                                                                                 "
          ]
        },
        {
          "output_type": "stream",
          "name": "stdout",
          "text": [
            "fold 1 => train acc : 100.00| train loss : 0.16| valid acc : 77.00| valid loss : 1.04"
          ]
        },
        {
          "output_type": "stream",
          "name": "stderr",
          "text": [
            "\r"
          ]
        },
        {
          "output_type": "stream",
          "name": "stdout",
          "text": [
            "\n"
          ]
        },
        {
          "output_type": "stream",
          "name": "stderr",
          "text": [
            "                                                                                 "
          ]
        },
        {
          "output_type": "stream",
          "name": "stdout",
          "text": [
            "fold 1 => train acc : 100.00| train loss : 0.15| valid acc : 77.00| valid loss : 1.04"
          ]
        },
        {
          "output_type": "stream",
          "name": "stderr",
          "text": [
            "\r"
          ]
        },
        {
          "output_type": "stream",
          "name": "stdout",
          "text": [
            "\n"
          ]
        },
        {
          "output_type": "stream",
          "name": "stderr",
          "text": []
        },
        {
          "output_type": "stream",
          "name": "stdout",
          "text": [
            "fold 1 => train acc : 100.00| train loss : 0.17| valid acc : 77.00| valid loss : 1.04\n"
          ]
        },
        {
          "output_type": "stream",
          "name": "stderr",
          "text": []
        },
        {
          "output_type": "stream",
          "name": "stdout",
          "text": [
            "fold 1 => train acc : 100.00| train loss : 0.14| valid acc : 77.00| valid loss : 1.04\n"
          ]
        },
        {
          "output_type": "stream",
          "name": "stderr",
          "text": []
        },
        {
          "output_type": "stream",
          "name": "stdout",
          "text": [
            "fold 1 => train acc : 100.00| train loss : 0.17| valid acc : 77.00| valid loss : 1.04\n"
          ]
        },
        {
          "output_type": "stream",
          "name": "stderr",
          "text": []
        },
        {
          "output_type": "stream",
          "name": "stdout",
          "text": [
            "fold 1 => train acc : 100.00| train loss : 0.16| valid acc : 77.00| valid loss : 1.04\n"
          ]
        },
        {
          "output_type": "stream",
          "name": "stderr",
          "text": []
        },
        {
          "output_type": "stream",
          "name": "stdout",
          "text": [
            "fold 1 => train acc : 100.00| train loss : 0.16| valid acc : 77.00| valid loss : 1.04\n"
          ]
        },
        {
          "output_type": "stream",
          "name": "stderr",
          "text": []
        },
        {
          "output_type": "stream",
          "name": "stdout",
          "text": [
            "fold 1 => train acc : 100.00| train loss : 0.16| valid acc : 77.00| valid loss : 1.04\n"
          ]
        },
        {
          "output_type": "stream",
          "name": "stderr",
          "text": []
        },
        {
          "output_type": "stream",
          "name": "stdout",
          "text": [
            "fold 1 => train acc : 100.00| train loss : 0.16| valid acc : 77.00| valid loss : 1.04\n"
          ]
        },
        {
          "output_type": "stream",
          "name": "stderr",
          "text": []
        },
        {
          "output_type": "stream",
          "name": "stdout",
          "text": [
            "fold 1 => train acc : 100.00| train loss : 0.14| valid acc : 77.00| valid loss : 1.04\n"
          ]
        },
        {
          "output_type": "stream",
          "name": "stderr",
          "text": []
        },
        {
          "output_type": "stream",
          "name": "stdout",
          "text": [
            "fold 1 => train acc : 100.00| train loss : 0.15| valid acc : 77.00| valid loss : 1.04\n"
          ]
        },
        {
          "output_type": "stream",
          "name": "stderr",
          "text": []
        },
        {
          "output_type": "stream",
          "name": "stdout",
          "text": [
            "fold 1 => train acc : 100.00| train loss : 0.18| valid acc : 77.00| valid loss : 1.04\n"
          ]
        },
        {
          "output_type": "stream",
          "name": "stderr",
          "text": []
        },
        {
          "output_type": "stream",
          "name": "stdout",
          "text": [
            "fold 1 => train acc : 100.00| train loss : 0.17| valid acc : 77.00| valid loss : 1.04\n"
          ]
        },
        {
          "output_type": "stream",
          "name": "stderr",
          "text": []
        },
        {
          "output_type": "stream",
          "name": "stdout",
          "text": [
            "fold 1 => train acc : 100.00| train loss : 0.15| valid acc : 77.00| valid loss : 1.04\n"
          ]
        },
        {
          "output_type": "stream",
          "name": "stderr",
          "text": []
        },
        {
          "output_type": "stream",
          "name": "stdout",
          "text": [
            "fold 1 => train acc : 100.00| train loss : 0.15| valid acc : 77.00| valid loss : 1.04\n"
          ]
        },
        {
          "output_type": "stream",
          "name": "stderr",
          "text": []
        },
        {
          "output_type": "stream",
          "name": "stdout",
          "text": [
            "fold 1 => train acc : 100.00| train loss : 0.17| valid acc : 77.00| valid loss : 1.04\n"
          ]
        },
        {
          "output_type": "stream",
          "name": "stderr",
          "text": []
        },
        {
          "output_type": "stream",
          "name": "stdout",
          "text": [
            "fold 1 => train acc : 100.00| train loss : 0.14| valid acc : 77.00| valid loss : 1.04\n"
          ]
        },
        {
          "output_type": "stream",
          "name": "stderr",
          "text": []
        },
        {
          "output_type": "stream",
          "name": "stdout",
          "text": [
            "fold 1 => train acc : 100.00| train loss : 0.16| valid acc : 77.00| valid loss : 1.04\n"
          ]
        },
        {
          "output_type": "stream",
          "name": "stderr",
          "text": []
        },
        {
          "output_type": "stream",
          "name": "stdout",
          "text": [
            "fold 1 => train acc : 100.00| train loss : 0.14| valid acc : 77.00| valid loss : 1.04\n"
          ]
        },
        {
          "output_type": "stream",
          "name": "stderr",
          "text": []
        },
        {
          "output_type": "stream",
          "name": "stdout",
          "text": [
            "fold 1 => train acc : 100.00| train loss : 0.17| valid acc : 77.00| valid loss : 1.04\n"
          ]
        },
        {
          "output_type": "stream",
          "name": "stderr",
          "text": [
            "                                                                                 "
          ]
        },
        {
          "output_type": "stream",
          "name": "stdout",
          "text": [
            "fold 1 => train acc : 100.00| train loss : 0.15| valid acc : 77.00| valid loss : 1.04"
          ]
        },
        {
          "output_type": "stream",
          "name": "stderr",
          "text": [
            "\r"
          ]
        },
        {
          "output_type": "stream",
          "name": "stdout",
          "text": [
            "\n"
          ]
        },
        {
          "output_type": "stream",
          "name": "stderr",
          "text": []
        },
        {
          "output_type": "stream",
          "name": "stdout",
          "text": [
            "fold 1 => train acc : 100.00| train loss : 0.18| valid acc : 77.00| valid loss : 1.04\n"
          ]
        },
        {
          "output_type": "stream",
          "name": "stderr",
          "text": []
        },
        {
          "output_type": "stream",
          "name": "stdout",
          "text": [
            "fold 1 => train acc : 100.00| train loss : 0.16| valid acc : 77.00| valid loss : 1.04\n"
          ]
        },
        {
          "output_type": "stream",
          "name": "stderr",
          "text": []
        },
        {
          "output_type": "stream",
          "name": "stdout",
          "text": [
            "fold 1 => train acc : 100.00| train loss : 0.17| valid acc : 77.00| valid loss : 1.04\n"
          ]
        },
        {
          "output_type": "stream",
          "name": "stderr",
          "text": []
        },
        {
          "output_type": "stream",
          "name": "stdout",
          "text": [
            "fold 1 => train acc : 100.00| train loss : 0.17| valid acc : 77.00| valid loss : 1.04\n"
          ]
        },
        {
          "output_type": "stream",
          "name": "stderr",
          "text": []
        },
        {
          "output_type": "stream",
          "name": "stdout",
          "text": [
            "fold 1 => train acc : 100.00| train loss : 0.14| valid acc : 77.00| valid loss : 1.04\n"
          ]
        },
        {
          "output_type": "stream",
          "name": "stderr",
          "text": []
        },
        {
          "output_type": "stream",
          "name": "stdout",
          "text": [
            "fold 1 => train acc : 100.00| train loss : 0.15| valid acc : 77.00| valid loss : 1.04\n"
          ]
        },
        {
          "output_type": "stream",
          "name": "stderr",
          "text": []
        },
        {
          "output_type": "stream",
          "name": "stdout",
          "text": [
            "fold 1 => train acc : 100.00| train loss : 0.16| valid acc : 77.00| valid loss : 1.04\n"
          ]
        },
        {
          "output_type": "stream",
          "name": "stderr",
          "text": []
        },
        {
          "output_type": "stream",
          "name": "stdout",
          "text": [
            "fold 1 => train acc : 100.00| train loss : 0.15| valid acc : 77.00| valid loss : 1.04\n"
          ]
        },
        {
          "output_type": "stream",
          "name": "stderr",
          "text": []
        },
        {
          "output_type": "stream",
          "name": "stdout",
          "text": [
            "fold 1 => train acc : 100.00| train loss : 0.16| valid acc : 77.00| valid loss : 1.04\n"
          ]
        },
        {
          "output_type": "stream",
          "name": "stderr",
          "text": []
        },
        {
          "output_type": "stream",
          "name": "stdout",
          "text": [
            "fold 1 => train acc : 100.00| train loss : 0.16| valid acc : 77.00| valid loss : 1.04\n"
          ]
        },
        {
          "output_type": "stream",
          "name": "stderr",
          "text": []
        },
        {
          "output_type": "stream",
          "name": "stdout",
          "text": [
            "fold 1 => train acc : 100.00| train loss : 0.15| valid acc : 77.00| valid loss : 1.04\n"
          ]
        },
        {
          "output_type": "stream",
          "name": "stderr",
          "text": []
        },
        {
          "output_type": "stream",
          "name": "stdout",
          "text": [
            "fold 1 => train acc : 93.00| train loss : 0.19| valid acc : 77.00| valid loss : 1.04\n"
          ]
        },
        {
          "output_type": "stream",
          "name": "stderr",
          "text": []
        },
        {
          "output_type": "stream",
          "name": "stdout",
          "text": [
            "fold 1 => train acc : 93.00| train loss : 0.19| valid acc : 77.00| valid loss : 1.04\n"
          ]
        },
        {
          "output_type": "stream",
          "name": "stderr",
          "text": []
        },
        {
          "output_type": "stream",
          "name": "stdout",
          "text": [
            "fold 1 => train acc : 100.00| train loss : 0.17| valid acc : 77.00| valid loss : 1.04\n"
          ]
        },
        {
          "output_type": "stream",
          "name": "stderr",
          "text": []
        },
        {
          "output_type": "stream",
          "name": "stdout",
          "text": [
            "fold 1 => train acc : 100.00| train loss : 0.16| valid acc : 77.00| valid loss : 1.04\n"
          ]
        },
        {
          "output_type": "stream",
          "name": "stderr",
          "text": []
        },
        {
          "output_type": "stream",
          "name": "stdout",
          "text": [
            "fold 1 => train acc : 100.00| train loss : 0.16| valid acc : 77.00| valid loss : 1.04\n"
          ]
        },
        {
          "output_type": "stream",
          "name": "stderr",
          "text": [
            "                                                                                "
          ]
        },
        {
          "output_type": "stream",
          "name": "stdout",
          "text": [
            "fold 1 => train acc : 93.00| train loss : 0.17| valid acc : 77.00| valid loss : 1.04\n"
          ]
        },
        {
          "output_type": "stream",
          "name": "stderr",
          "text": [
            "\r"
          ]
        }
      ]
    },
    {
      "cell_type": "code",
      "source": [
        "mean_cv_scores = {k: np.mean(v) for k, v in cv_scores.items()}\n",
        "print(f\"mean accuracy using 5 foldCV : {mean_cv_scores['Accuracy']:0.2f}\")"
      ],
      "metadata": {
        "colab": {
          "base_uri": "https://localhost:8080/"
        },
        "id": "EwxSEsO9O3_v",
        "outputId": "7e10008c-ead1-4ddd-f620-4a94ccf3bb78"
      },
      "execution_count": null,
      "outputs": [
        {
          "output_type": "stream",
          "name": "stdout",
          "text": [
            "mean accuracy using 5 foldCV : 67.00\n"
          ]
        }
      ]
    },
    {
      "cell_type": "code",
      "source": [
        "#Train the model (AE + Classifier)\n",
        "# create model\n",
        "ae_mlp = Classification_MLP(input_size)\n",
        "\n",
        "# create loss and optimizer\n",
        "criterion = nn.BCELoss()\n",
        "optimizer = torch.optim.Adam(ae_mlp.parameters(), lr= learning_rate)\n",
        "scheduler = lr_scheduler.StepLR(optimizer, 2, gamma=0.5)\n",
        "total_step = len(train_loader)"
      ],
      "metadata": {
        "id": "VbogPAlmO4DK"
      },
      "execution_count": null,
      "outputs": []
    },
    {
      "cell_type": "code",
      "source": [
        "ae_mlp"
      ],
      "metadata": {
        "colab": {
          "base_uri": "https://localhost:8080/"
        },
        "id": "zp-ckX_JO4TC",
        "outputId": "018c11b6-a10b-4c05-c076-ed823398422f"
      },
      "execution_count": null,
      "outputs": [
        {
          "output_type": "execute_result",
          "data": {
            "text/plain": [
              "Classification_MLP(\n",
              "  (AE): Autoencoder(\n",
              "    (encoder): Sequential(\n",
              "      (0): Linear(in_features=24, out_features=1000, bias=True)\n",
              "      (1): ReLU()\n",
              "      (2): Dropout(p=0.25, inplace=False)\n",
              "      (3): Linear(in_features=1000, out_features=500, bias=True)\n",
              "      (4): ReLU()\n",
              "      (5): Dropout(p=0.25, inplace=False)\n",
              "      (6): Linear(in_features=500, out_features=10, bias=True)\n",
              "      (7): ReLU()\n",
              "    )\n",
              "    (decoder): Sequential(\n",
              "      (0): Linear(in_features=10, out_features=500, bias=True)\n",
              "      (1): ReLU()\n",
              "      (2): Dropout(p=0.25, inplace=False)\n",
              "      (3): Linear(in_features=500, out_features=1000, bias=True)\n",
              "      (4): ReLU()\n",
              "      (5): Dropout(p=0.25, inplace=False)\n",
              "      (6): Linear(in_features=1000, out_features=24, bias=True)\n",
              "      (7): Sigmoid()\n",
              "    )\n",
              "  )\n",
              "  (classifier): Sequential(\n",
              "    (0): Linear(in_features=10, out_features=1, bias=True)\n",
              "    (1): Sigmoid()\n",
              "  )\n",
              ")"
            ]
          },
          "metadata": {},
          "execution_count": 162
        }
      ]
    },
    {
      "cell_type": "code",
      "source": [
        "train_loss, train_acc  = [], []\n",
        "valid_loss, valid_acc = [],[]\n",
        "num_epoch = 100\n",
        "for epoch in range(num_epoch):\n",
        "  train_loss, train_acc = train_fun(ae_mlp, train_loader)\n",
        "  valid_loss, valid_acc = evaluate(ae_mlp, validloader) \n",
        "\n",
        "  writer.flush()   \n",
        "  scheduler.step()"
      ],
      "metadata": {
        "colab": {
          "base_uri": "https://localhost:8080/"
        },
        "id": "tAJVf8WNPiWV",
        "outputId": "8f6abdba-2e23-4156-fbe2-5e334ec5896f"
      },
      "execution_count": null,
      "outputs": [
        {
          "output_type": "stream",
          "name": "stderr",
          "text": []
        }
      ]
    },
    {
      "cell_type": "code",
      "source": [
        "#Training and validation loss\n",
        "plt.plot(train_loss, label='Training loss')\n",
        "plt.plot(valid_loss, label='Validation loss')\n",
        "\n",
        "plt.legend(frameon=False)\n",
        "plt.xlabel('epoch')\n",
        "plt.ylabel('loss value')\n",
        "plt.title(\"Loss function for each epoch\") \n",
        "plt.show()"
      ],
      "metadata": {
        "colab": {
          "base_uri": "https://localhost:8080/",
          "height": 472
        },
        "id": "joJp6I5gPjBU",
        "outputId": "89317a03-cd23-4484-afb2-a3ceb5765143"
      },
      "execution_count": null,
      "outputs": [
        {
          "output_type": "display_data",
          "data": {
            "text/plain": [
              "<Figure size 640x480 with 1 Axes>"
            ],
            "image/png": "[encoded data removed]"
          },
          "metadata": {}
        }
      ]
    },
    {
      "cell_type": "code",
      "source": [
        "#Training and validation accuracy\n",
        "plt.plot(train_acc, label='Training accuracy')\n",
        "plt.plot(valid_acc, label='Validation accuracy')\n",
        "\n",
        "plt.legend(frameon=False)\n",
        "plt.xlabel('epoch')\n",
        "plt.ylabel('accuracy value')\n",
        "plt.title(\"Accuracy for each epoch\")\n",
        "plt.show()"
      ],
      "metadata": {
        "colab": {
          "base_uri": "https://localhost:8080/",
          "height": 472
        },
        "id": "4LC2bJ_fPjDp",
        "outputId": "9aab2182-0c44-47ee-9b8e-36ecb3e7d14a"
      },
      "execution_count": null,
      "outputs": [
        {
          "output_type": "display_data",
          "data": {
            "text/plain": [
              "<Figure size 640x480 with 1 Axes>"
            ],
            "image/png": "[encoded data removed]"
          },
          "metadata": {}
        }
      ]
    },
    {
      "cell_type": "code",
      "source": [
        "print(f'training loss on last epoch : {train_loss[-1]}')\n",
        "print(f'validation loss on last epoch : {valid_loss[-1]}')\n",
        "print('-'*20)\n",
        "print(f'training accuracy on last epoch : {train_acc[-1]}')\n",
        "print(f'validation accuracy on last epoch : {valid_acc[-1]}')\n",
        "     "
      ],
      "metadata": {
        "colab": {
          "base_uri": "https://localhost:8080/"
        },
        "id": "ismsKQ-6PjGP",
        "outputId": "98231e24-ed4f-467b-b0a9-534bdb997cf4"
      },
      "execution_count": null,
      "outputs": [
        {
          "output_type": "stream",
          "name": "stdout",
          "text": [
            "training loss on last epoch : 0.18401511013507843\n",
            "validation loss on last epoch : 0.17395837604999542\n",
            "--------------------\n",
            "training accuracy on last epoch : 86.0\n",
            "validation accuracy on last epoch : 92.0\n"
          ]
        }
      ]
    },
    {
      "cell_type": "code",
      "source": [
        "num_class =2\n",
        "classes = ['0', '1']\n",
        "\n",
        "y_pred_testae, y_actual_test = test(ae_mlp, test_loader)"
      ],
      "metadata": {
        "colab": {
          "base_uri": "https://localhost:8080/"
        },
        "id": "Y4-o0mTYPjJg",
        "outputId": "404e4314-612a-4ee6-e341-8646df80f16c"
      },
      "execution_count": null,
      "outputs": [
        {
          "output_type": "stream",
          "name": "stdout",
          "text": [
            "accuracy of network on the 1 data is : 90.0\n",
            "Accuracy of 0: 100.0 %\n",
            "Accuracy of 1: 75.0 %\n"
          ]
        }
      ]
    },
    {
      "cell_type": "code",
      "source": [
        "y_pred_testae = np.array([t.numpy() for t in y_pred_testae])\n",
        "\n",
        "y_pred_testae , np.array(y_actual_test)"
      ],
      "metadata": {
        "colab": {
          "base_uri": "https://localhost:8080/"
        },
        "id": "EVClIesJP10i",
        "outputId": "c74a0686-13c4-4fc7-cfdf-b5cabe32749c"
      },
      "execution_count": null,
      "outputs": [
        {
          "output_type": "execute_result",
          "data": {
            "text/plain": [
              "(array([[0.],\n",
              "        [0.],\n",
              "        [0.],\n",
              "        [0.],\n",
              "        [0.],\n",
              "        [0.],\n",
              "        [1.],\n",
              "        [0.],\n",
              "        [1.],\n",
              "        [1.]], dtype=float32),\n",
              " array([0., 0., 0., 0., 0., 0., 1., 1., 1., 1.]))"
            ]
          },
          "metadata": {},
          "execution_count": 168
        }
      ]
    },
    {
      "cell_type": "code",
      "source": [
        "print(classification_report(y_actual_test, y_pred_testae))"
      ],
      "metadata": {
        "colab": {
          "base_uri": "https://localhost:8080/"
        },
        "id": "6jaEZ---P128",
        "outputId": "3aebf7de-7464-4f66-d41e-b7b0c556c169"
      },
      "execution_count": null,
      "outputs": [
        {
          "output_type": "stream",
          "name": "stdout",
          "text": [
            "              precision    recall  f1-score   support\n",
            "\n",
            "         0.0       0.86      1.00      0.92         6\n",
            "         1.0       1.00      0.75      0.86         4\n",
            "\n",
            "    accuracy                           0.90        10\n",
            "   macro avg       0.93      0.88      0.89        10\n",
            "weighted avg       0.91      0.90      0.90        10\n",
            "\n"
          ]
        }
      ]
    },
    {
      "cell_type": "code",
      "source": [
        "confusion_matrix(y_actual_test, y_pred_testae)"
      ],
      "metadata": {
        "colab": {
          "base_uri": "https://localhost:8080/"
        },
        "id": "ODT_wogpP16V",
        "outputId": "944d1bd3-13de-4c3b-fecf-468dfd31a96e"
      },
      "execution_count": null,
      "outputs": [
        {
          "output_type": "execute_result",
          "data": {
            "text/plain": [
              "array([[6, 0],\n",
              "       [1, 3]])"
            ]
          },
          "metadata": {},
          "execution_count": 170
        }
      ]
    }
  ],
  "metadata": {
    "colab": {
      "provenance": []
    },
    "kernelspec": {
      "display_name": "Python 3",
      "name": "python3"
    },
    "language_info": {
      "name": "python"
    }
  },
  "nbformat": 4,
  "nbformat_minor": 0
}