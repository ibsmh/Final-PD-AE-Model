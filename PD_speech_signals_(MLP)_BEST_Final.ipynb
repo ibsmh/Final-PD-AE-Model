{
  "cells": [
    {
      "cell_type": "code",
      "execution_count": null,
      "metadata": {
        "id": "E1rVdcQ-1zXD"
      },
      "outputs": [],
      "source": [
        "import numpy as np\n",
        "import pandas as pd\n",
        "import matplotlib.pyplot as plt\n",
        "%matplotlib inline\n",
        "import seaborn as sns\n",
        "from google.colab import files\n",
        "from google.colab import drive\n",
        "import os\n",
        "from glob import glob\n",
        "import pandas as pd\n",
        "import numpy as np\n",
        "import matplotlib.pyplot as plt\n",
        "import seaborn as sns\n",
        "from sklearn import metrics\n",
        "from sklearn.model_selection import StratifiedKFold\n",
        "from sklearn.model_selection import cross_val_score\n",
        "from sklearn.metrics import classification_report\n",
        "from sklearn.metrics import accuracy_score\n",
        "from sklearn.model_selection import train_test_split\n",
        "from sklearn import metrics\n",
        "from sklearn.metrics import confusion_matrix\n",
        "from sklearn.datasets import make_classification\n",
        "import warnings\n",
        "warnings.filterwarnings('ignore')"
      ]
    },
    {
      "cell_type": "code",
      "execution_count": null,
      "metadata": {
        "colab": {
          "base_uri": "https://localhost:8080/"
        },
        "id": "x1kLCZcH2n5c",
        "outputId": "f3db1420-3732-4add-dbb6-6e36ff2af3ba"
      },
      "outputs": [
        {
          "output_type": "stream",
          "name": "stdout",
          "text": [
            "Drive already mounted at /content/drive; to attempt to forcibly remount, call drive.mount(\"/content/drive\", force_remount=True).\n"
          ]
        }
      ],
      "source": [
        "drive.mount('/content/drive')"
      ]
    },
    {
      "cell_type": "code",
      "execution_count": null,
      "metadata": {
        "id": "-pK22aMy2wgk"
      },
      "outputs": [],
      "source": [
        "df =pd.read_csv('/content/drive/MyDrive/Project-code-2023/EXP-wav/data/EXT_data.csv')\n"
      ]
    },
    {
      "cell_type": "code",
      "execution_count": null,
      "metadata": {
        "colab": {
          "base_uri": "https://localhost:8080/",
          "height": 299
        },
        "id": "M-_epIxau5bD",
        "outputId": "872c33d0-8f9c-4267-9c2f-ed15f51560dd"
      },
      "outputs": [
        {
          "output_type": "execute_result",
          "data": {
            "text/plain": [
              "      f0_mean  f0_std_deviation        hnr  jitter_relative  jitter_absolute  \\\n",
              "0  183.529521         61.706883  12.861531         0.027656         0.000152   \n",
              "1  191.411023         37.924675  11.191856         0.016322         0.000085   \n",
              "2  124.404377         30.757396  12.064737         0.021813         0.000176   \n",
              "3  129.460489         51.693216  13.403747         0.026465         0.000208   \n",
              "4  117.594896         60.504173  10.182373         0.039906         0.000150   \n",
              "\n",
              "   jitter_rap  jitter_ppq5  shimmer_relative  shimmer_localDb  shimmer_apq3  \\\n",
              "0    0.012301     0.013581          0.114328         1.142765      0.046059   \n",
              "1    0.006892     0.007165          0.078771         0.735034      0.028917   \n",
              "2    0.008341     0.009774          0.105201         1.003543      0.041027   \n",
              "3    0.010665     0.011645          0.104704         1.002982      0.040266   \n",
              "4    0.017347     0.018509          0.127223         1.232997      0.048521   \n",
              "\n",
              "   ...     mfcc_5     mfcc_6     mfcc_7     mfcc_8     mfcc_9   mfcc_10  \\\n",
              "0  ...  36.622796   4.381283 -51.226759 -21.675977  -7.684882  2.750536   \n",
              "1  ...  22.481075  22.888370 -16.576583  -0.005128 -22.860485 -1.250413   \n",
              "2  ...  28.954005   9.337745  -5.015254   2.583235 -14.572674  0.940267   \n",
              "3  ...  31.359476  33.517867 -34.057906 -12.091941 -11.613016 -3.418581   \n",
              "4  ...  34.587242  35.904514  -7.150892   1.812661 -14.583591  4.764799   \n",
              "\n",
              "     mfcc_11   mfcc_12   mfcc_13  label  \n",
              "0   3.849808  8.752428  0.208220    0.0  \n",
              "1  -8.307896 -7.638449  0.425119    0.0  \n",
              "2  -5.533343 -1.466902 -9.954152    1.0  \n",
              "3 -15.054758  1.423258  7.775569    0.0  \n",
              "4  11.591349 -2.477217  8.576886    1.0  \n",
              "\n",
              "[5 rows x 25 columns]"
            ],
            "text/html": [
              "\n",
              "  <div id=\"df-3b7ee404-ebe5-4f33-8d55-f41a5130ffa1\">\n",
              "    <div class=\"colab-df-container\">\n",
              "      <div>\n",
              "<style scoped>\n",
              "    .dataframe tbody tr th:only-of-type {\n",
              "        vertical-align: middle;\n",
              "    }\n",
              "\n",
              "    .dataframe tbody tr th {\n",
              "        vertical-align: top;\n",
              "    }\n",
              "\n",
              "    .dataframe thead th {\n",
              "        text-align: right;\n",
              "    }\n",
              "</style>\n",
              "<table border=\"1\" class=\"dataframe\">\n",
              "  <thead>\n",
              "    <tr style=\"text-align: right;\">\n",
              "      <th></th>\n",
              "      <th>f0_mean</th>\n",
              "      <th>f0_std_deviation</th>\n",
              "      <th>hnr</th>\n",
              "      <th>jitter_relative</th>\n",
              "      <th>jitter_absolute</th>\n",
              "      <th>jitter_rap</th>\n",
              "      <th>jitter_ppq5</th>\n",
              "      <th>shimmer_relative</th>\n",
              "      <th>shimmer_localDb</th>\n",
              "      <th>shimmer_apq3</th>\n",
              "      <th>...</th>\n",
              "      <th>mfcc_5</th>\n",
              "      <th>mfcc_6</th>\n",
              "      <th>mfcc_7</th>\n",
              "      <th>mfcc_8</th>\n",
              "      <th>mfcc_9</th>\n",
              "      <th>mfcc_10</th>\n",
              "      <th>mfcc_11</th>\n",
              "      <th>mfcc_12</th>\n",
              "      <th>mfcc_13</th>\n",
              "      <th>label</th>\n",
              "    </tr>\n",
              "  </thead>\n",
              "  <tbody>\n",
              "    <tr>\n",
              "      <th>0</th>\n",
              "      <td>183.529521</td>\n",
              "      <td>61.706883</td>\n",
              "      <td>12.861531</td>\n",
              "      <td>0.027656</td>\n",
              "      <td>0.000152</td>\n",
              "      <td>0.012301</td>\n",
              "      <td>0.013581</td>\n",
              "      <td>0.114328</td>\n",
              "      <td>1.142765</td>\n",
              "      <td>0.046059</td>\n",
              "      <td>...</td>\n",
              "      <td>36.622796</td>\n",
              "      <td>4.381283</td>\n",
              "      <td>-51.226759</td>\n",
              "      <td>-21.675977</td>\n",
              "      <td>-7.684882</td>\n",
              "      <td>2.750536</td>\n",
              "      <td>3.849808</td>\n",
              "      <td>8.752428</td>\n",
              "      <td>0.208220</td>\n",
              "      <td>0.0</td>\n",
              "    </tr>\n",
              "    <tr>\n",
              "      <th>1</th>\n",
              "      <td>191.411023</td>\n",
              "      <td>37.924675</td>\n",
              "      <td>11.191856</td>\n",
              "      <td>0.016322</td>\n",
              "      <td>0.000085</td>\n",
              "      <td>0.006892</td>\n",
              "      <td>0.007165</td>\n",
              "      <td>0.078771</td>\n",
              "      <td>0.735034</td>\n",
              "      <td>0.028917</td>\n",
              "      <td>...</td>\n",
              "      <td>22.481075</td>\n",
              "      <td>22.888370</td>\n",
              "      <td>-16.576583</td>\n",
              "      <td>-0.005128</td>\n",
              "      <td>-22.860485</td>\n",
              "      <td>-1.250413</td>\n",
              "      <td>-8.307896</td>\n",
              "      <td>-7.638449</td>\n",
              "      <td>0.425119</td>\n",
              "      <td>0.0</td>\n",
              "    </tr>\n",
              "    <tr>\n",
              "      <th>2</th>\n",
              "      <td>124.404377</td>\n",
              "      <td>30.757396</td>\n",
              "      <td>12.064737</td>\n",
              "      <td>0.021813</td>\n",
              "      <td>0.000176</td>\n",
              "      <td>0.008341</td>\n",
              "      <td>0.009774</td>\n",
              "      <td>0.105201</td>\n",
              "      <td>1.003543</td>\n",
              "      <td>0.041027</td>\n",
              "      <td>...</td>\n",
              "      <td>28.954005</td>\n",
              "      <td>9.337745</td>\n",
              "      <td>-5.015254</td>\n",
              "      <td>2.583235</td>\n",
              "      <td>-14.572674</td>\n",
              "      <td>0.940267</td>\n",
              "      <td>-5.533343</td>\n",
              "      <td>-1.466902</td>\n",
              "      <td>-9.954152</td>\n",
              "      <td>1.0</td>\n",
              "    </tr>\n",
              "    <tr>\n",
              "      <th>3</th>\n",
              "      <td>129.460489</td>\n",
              "      <td>51.693216</td>\n",
              "      <td>13.403747</td>\n",
              "      <td>0.026465</td>\n",
              "      <td>0.000208</td>\n",
              "      <td>0.010665</td>\n",
              "      <td>0.011645</td>\n",
              "      <td>0.104704</td>\n",
              "      <td>1.002982</td>\n",
              "      <td>0.040266</td>\n",
              "      <td>...</td>\n",
              "      <td>31.359476</td>\n",
              "      <td>33.517867</td>\n",
              "      <td>-34.057906</td>\n",
              "      <td>-12.091941</td>\n",
              "      <td>-11.613016</td>\n",
              "      <td>-3.418581</td>\n",
              "      <td>-15.054758</td>\n",
              "      <td>1.423258</td>\n",
              "      <td>7.775569</td>\n",
              "      <td>0.0</td>\n",
              "    </tr>\n",
              "    <tr>\n",
              "      <th>4</th>\n",
              "      <td>117.594896</td>\n",
              "      <td>60.504173</td>\n",
              "      <td>10.182373</td>\n",
              "      <td>0.039906</td>\n",
              "      <td>0.000150</td>\n",
              "      <td>0.017347</td>\n",
              "      <td>0.018509</td>\n",
              "      <td>0.127223</td>\n",
              "      <td>1.232997</td>\n",
              "      <td>0.048521</td>\n",
              "      <td>...</td>\n",
              "      <td>34.587242</td>\n",
              "      <td>35.904514</td>\n",
              "      <td>-7.150892</td>\n",
              "      <td>1.812661</td>\n",
              "      <td>-14.583591</td>\n",
              "      <td>4.764799</td>\n",
              "      <td>11.591349</td>\n",
              "      <td>-2.477217</td>\n",
              "      <td>8.576886</td>\n",
              "      <td>1.0</td>\n",
              "    </tr>\n",
              "  </tbody>\n",
              "</table>\n",
              "<p>5 rows × 25 columns</p>\n",
              "</div>\n",
              "      <button class=\"colab-df-convert\" onclick=\"convertToInteractive('df-3b7ee404-ebe5-4f33-8d55-f41a5130ffa1')\"\n",
              "              title=\"Convert this dataframe to an interactive table.\"\n",
              "              style=\"display:none;\">\n",
              "        \n",
              "  <svg xmlns=\"http://www.w3.org/2000/svg\" height=\"24px\"viewBox=\"0 0 24 24\"\n",
              "       width=\"24px\">\n",
              "    <path d=\"M0 0h24v24H0V0z\" fill=\"none\"/>\n",
              "    <path d=\"M18.56 5.44l.94 2.06.94-2.06 2.06-.94-2.06-.94-.94-2.06-.94 2.06-2.06.94zm-11 1L8.5 8.5l.94-2.06 2.06-.94-2.06-.94L8.5 2.5l-.94 2.06-2.06.94zm10 10l.94 2.06.94-2.06 2.06-.94-2.06-.94-.94-2.06-.94 2.06-2.06.94z\"/><path d=\"M17.41 7.96l-1.37-1.37c-.4-.4-.92-.59-1.43-.59-.52 0-1.04.2-1.43.59L10.3 9.45l-7.72 7.72c-.78.78-.78 2.05 0 2.83L4 21.41c.39.39.9.59 1.41.59.51 0 1.02-.2 1.41-.59l7.78-7.78 2.81-2.81c.8-.78.8-2.07 0-2.86zM5.41 20L4 18.59l7.72-7.72 1.47 1.35L5.41 20z\"/>\n",
              "  </svg>\n",
              "      </button>\n",
              "      \n",
              "  <style>\n",
              "    .colab-df-container {\n",
              "      display:flex;\n",
              "      flex-wrap:wrap;\n",
              "      gap: 12px;\n",
              "    }\n",
              "\n",
              "    .colab-df-convert {\n",
              "      background-color: #E8F0FE;\n",
              "      border: none;\n",
              "      border-radius: 50%;\n",
              "      cursor: pointer;\n",
              "      display: none;\n",
              "      fill: #1967D2;\n",
              "      height: 32px;\n",
              "      padding: 0 0 0 0;\n",
              "      width: 32px;\n",
              "    }\n",
              "\n",
              "    .colab-df-convert:hover {\n",
              "      background-color: #E2EBFA;\n",
              "      box-shadow: 0px 1px 2px rgba(60, 64, 67, 0.3), 0px 1px 3px 1px rgba(60, 64, 67, 0.15);\n",
              "      fill: #174EA6;\n",
              "    }\n",
              "\n",
              "    [theme=dark] .colab-df-convert {\n",
              "      background-color: #3B4455;\n",
              "      fill: #D2E3FC;\n",
              "    }\n",
              "\n",
              "    [theme=dark] .colab-df-convert:hover {\n",
              "      background-color: #434B5C;\n",
              "      box-shadow: 0px 1px 3px 1px rgba(0, 0, 0, 0.15);\n",
              "      filter: drop-shadow(0px 1px 2px rgba(0, 0, 0, 0.3));\n",
              "      fill: #FFFFFF;\n",
              "    }\n",
              "  </style>\n",
              "\n",
              "      <script>\n",
              "        const buttonEl =\n",
              "          document.querySelector('#df-3b7ee404-ebe5-4f33-8d55-f41a5130ffa1 button.colab-df-convert');\n",
              "        buttonEl.style.display =\n",
              "          google.colab.kernel.accessAllowed ? 'block' : 'none';\n",
              "\n",
              "        async function convertToInteractive(key) {\n",
              "          const element = document.querySelector('#df-3b7ee404-ebe5-4f33-8d55-f41a5130ffa1');\n",
              "          const dataTable =\n",
              "            await google.colab.kernel.invokeFunction('convertToInteractive',\n",
              "                                                     [key], {});\n",
              "          if (!dataTable) return;\n",
              "\n",
              "          const docLinkHtml = 'Like what you see? Visit the ' +\n",
              "            '<a target=\"_blank\" href=https://colab.research.google.com/notebooks/data_table.ipynb>data table notebook</a>'\n",
              "            + ' to learn more about interactive tables.';\n",
              "          element.innerHTML = '';\n",
              "          dataTable['output_type'] = 'display_data';\n",
              "          await google.colab.output.renderOutput(dataTable, element);\n",
              "          const docLink = document.createElement('div');\n",
              "          docLink.innerHTML = docLinkHtml;\n",
              "          element.appendChild(docLink);\n",
              "        }\n",
              "      </script>\n",
              "    </div>\n",
              "  </div>\n",
              "  "
            ]
          },
          "metadata": {},
          "execution_count": 4
        }
      ],
      "source": [
        "df.head()"
      ]
    },
    {
      "cell_type": "code",
      "execution_count": null,
      "metadata": {
        "colab": {
          "base_uri": "https://localhost:8080/"
        },
        "id": "hOx0WXhjQQT_",
        "outputId": "85c8338e-3cb4-46f2-e8eb-ad191ecd31d7"
      },
      "outputs": [
        {
          "output_type": "stream",
          "name": "stdout",
          "text": [
            "Number of Features In Dataset : 25\n",
            "Number of Instances In Dataset :  37\n"
          ]
        }
      ],
      "source": [
        "print('Number of Features In Dataset :', df.shape[1])\n",
        "print('Number of Instances In Dataset : ', df.shape[0])"
      ]
    },
    {
      "cell_type": "code",
      "execution_count": null,
      "metadata": {
        "colab": {
          "base_uri": "https://localhost:8080/"
        },
        "id": "fS-PwJyLTEHD",
        "outputId": "de0017d8-0796-4254-9298-683ee759a29e"
      },
      "outputs": [
        {
          "output_type": "stream",
          "name": "stdout",
          "text": [
            "<class 'pandas.core.frame.DataFrame'>\n",
            "RangeIndex: 37 entries, 0 to 36\n",
            "Data columns (total 25 columns):\n",
            " #   Column            Non-Null Count  Dtype  \n",
            "---  ------            --------------  -----  \n",
            " 0   f0_mean           37 non-null     float64\n",
            " 1   f0_std_deviation  37 non-null     float64\n",
            " 2   hnr               37 non-null     float64\n",
            " 3   jitter_relative   37 non-null     float64\n",
            " 4   jitter_absolute   37 non-null     float64\n",
            " 5   jitter_rap        37 non-null     float64\n",
            " 6   jitter_ppq5       37 non-null     float64\n",
            " 7   shimmer_relative  37 non-null     float64\n",
            " 8   shimmer_localDb   37 non-null     float64\n",
            " 9   shimmer_apq3      37 non-null     float64\n",
            " 10  shimmer_apq5      37 non-null     float64\n",
            " 11  mfcc_1            37 non-null     float64\n",
            " 12  mfcc_2            37 non-null     float64\n",
            " 13  mfcc_3            37 non-null     float64\n",
            " 14  mfcc_4            37 non-null     float64\n",
            " 15  mfcc_5            37 non-null     float64\n",
            " 16  mfcc_6            37 non-null     float64\n",
            " 17  mfcc_7            37 non-null     float64\n",
            " 18  mfcc_8            37 non-null     float64\n",
            " 19  mfcc_9            37 non-null     float64\n",
            " 20  mfcc_10           37 non-null     float64\n",
            " 21  mfcc_11           37 non-null     float64\n",
            " 22  mfcc_12           37 non-null     float64\n",
            " 23  mfcc_13           37 non-null     float64\n",
            " 24  label             37 non-null     float64\n",
            "dtypes: float64(25)\n",
            "memory usage: 7.4 KB\n"
          ]
        }
      ],
      "source": [
        "# Exploring Information About Dataframe\n",
        "df.info()"
      ]
    },
    {
      "cell_type": "code",
      "execution_count": null,
      "metadata": {
        "colab": {
          "base_uri": "https://localhost:8080/",
          "height": 393
        },
        "id": "mrzA23LtTWOb",
        "outputId": "40f5ec84-670b-4ed3-a9b0-e57a7780feea"
      },
      "outputs": [
        {
          "output_type": "execute_result",
          "data": {
            "text/plain": [
              "          f0_mean  f0_std_deviation        hnr  jitter_relative  \\\n",
              "count   37.000000         37.000000  37.000000        37.000000   \n",
              "mean   169.108491         45.184614  13.379464         0.023551   \n",
              "std     31.054132         10.721563   1.821215         0.005570   \n",
              "min    101.441520         21.700405  10.182373         0.013970   \n",
              "25%    139.925796         37.924675  12.069858         0.020194   \n",
              "50%    180.955867         47.094601  13.103552         0.022866   \n",
              "75%    191.411023         51.693216  14.448211         0.027047   \n",
              "max    214.506157         62.770765  17.586959         0.039906   \n",
              "\n",
              "       jitter_absolute  jitter_rap  jitter_ppq5  shimmer_relative  \\\n",
              "count        37.000000   37.000000    37.000000         37.000000   \n",
              "mean          0.000145    0.010216     0.010979          0.094183   \n",
              "std           0.000052    0.002904     0.002928          0.015417   \n",
              "min           0.000077    0.005358     0.005803          0.061226   \n",
              "25%           0.000112    0.008341     0.009115          0.082022   \n",
              "50%           0.000131    0.009922     0.010434          0.095637   \n",
              "75%           0.000182    0.011550     0.013075          0.104713   \n",
              "max           0.000287    0.017347     0.018509          0.127223   \n",
              "\n",
              "       shimmer_localDb  shimmer_apq3  ...     mfcc_5     mfcc_6     mfcc_7  \\\n",
              "count        37.000000     37.000000  ...  37.000000  37.000000  37.000000   \n",
              "mean          0.925884      0.035782  ...  26.983006  24.534434 -16.038266   \n",
              "std           0.138957      0.008192  ...  12.726663  14.297257  12.318881   \n",
              "min           0.635766      0.023806  ...  -9.612589  -1.269567 -51.226759   \n",
              "25%           0.806059      0.029279  ...  20.603586  12.465326 -20.877052   \n",
              "50%           0.942493      0.035398  ...  25.994576  25.461889 -15.199401   \n",
              "75%           1.003543      0.040266  ...  36.367023  35.371636 -10.664171   \n",
              "max           1.232997      0.053177  ...  51.931076  50.608532   9.001705   \n",
              "\n",
              "          mfcc_8     mfcc_9    mfcc_10    mfcc_11    mfcc_12    mfcc_13  \\\n",
              "count  37.000000  37.000000  37.000000  37.000000  37.000000  37.000000   \n",
              "mean   -2.344370 -12.186701  -2.746870   0.003344  -1.294651   1.061976   \n",
              "std    13.249363  11.363720   9.503643   9.653106   7.705090   8.945486   \n",
              "min   -24.561546 -35.680011 -24.398019 -28.457065 -16.292199 -16.042029   \n",
              "25%   -11.787999 -17.471027 -11.045900  -5.214899  -6.654626  -5.702192   \n",
              "50%    -1.961568 -13.068323   0.028050   0.381197  -1.466902   1.554965   \n",
              "75%     5.476300  -3.977438   5.188163   4.421726   3.519430   8.576886   \n",
              "max    34.894468  19.013661  16.090623  19.289492  20.126116  17.294757   \n",
              "\n",
              "           label  \n",
              "count  37.000000  \n",
              "mean    0.432432  \n",
              "std     0.502247  \n",
              "min     0.000000  \n",
              "25%     0.000000  \n",
              "50%     0.000000  \n",
              "75%     1.000000  \n",
              "max     1.000000  \n",
              "\n",
              "[8 rows x 25 columns]"
            ],
            "text/html": [
              "\n",
              "  <div id=\"df-cd182854-1f28-4840-bd34-4036e181ef91\">\n",
              "    <div class=\"colab-df-container\">\n",
              "      <div>\n",
              "<style scoped>\n",
              "    .dataframe tbody tr th:only-of-type {\n",
              "        vertical-align: middle;\n",
              "    }\n",
              "\n",
              "    .dataframe tbody tr th {\n",
              "        vertical-align: top;\n",
              "    }\n",
              "\n",
              "    .dataframe thead th {\n",
              "        text-align: right;\n",
              "    }\n",
              "</style>\n",
              "<table border=\"1\" class=\"dataframe\">\n",
              "  <thead>\n",
              "    <tr style=\"text-align: right;\">\n",
              "      <th></th>\n",
              "      <th>f0_mean</th>\n",
              "      <th>f0_std_deviation</th>\n",
              "      <th>hnr</th>\n",
              "      <th>jitter_relative</th>\n",
              "      <th>jitter_absolute</th>\n",
              "      <th>jitter_rap</th>\n",
              "      <th>jitter_ppq5</th>\n",
              "      <th>shimmer_relative</th>\n",
              "      <th>shimmer_localDb</th>\n",
              "      <th>shimmer_apq3</th>\n",
              "      <th>...</th>\n",
              "      <th>mfcc_5</th>\n",
              "      <th>mfcc_6</th>\n",
              "      <th>mfcc_7</th>\n",
              "      <th>mfcc_8</th>\n",
              "      <th>mfcc_9</th>\n",
              "      <th>mfcc_10</th>\n",
              "      <th>mfcc_11</th>\n",
              "      <th>mfcc_12</th>\n",
              "      <th>mfcc_13</th>\n",
              "      <th>label</th>\n",
              "    </tr>\n",
              "  </thead>\n",
              "  <tbody>\n",
              "    <tr>\n",
              "      <th>count</th>\n",
              "      <td>37.000000</td>\n",
              "      <td>37.000000</td>\n",
              "      <td>37.000000</td>\n",
              "      <td>37.000000</td>\n",
              "      <td>37.000000</td>\n",
              "      <td>37.000000</td>\n",
              "      <td>37.000000</td>\n",
              "      <td>37.000000</td>\n",
              "      <td>37.000000</td>\n",
              "      <td>37.000000</td>\n",
              "      <td>...</td>\n",
              "      <td>37.000000</td>\n",
              "      <td>37.000000</td>\n",
              "      <td>37.000000</td>\n",
              "      <td>37.000000</td>\n",
              "      <td>37.000000</td>\n",
              "      <td>37.000000</td>\n",
              "      <td>37.000000</td>\n",
              "      <td>37.000000</td>\n",
              "      <td>37.000000</td>\n",
              "      <td>37.000000</td>\n",
              "    </tr>\n",
              "    <tr>\n",
              "      <th>mean</th>\n",
              "      <td>169.108491</td>\n",
              "      <td>45.184614</td>\n",
              "      <td>13.379464</td>\n",
              "      <td>0.023551</td>\n",
              "      <td>0.000145</td>\n",
              "      <td>0.010216</td>\n",
              "      <td>0.010979</td>\n",
              "      <td>0.094183</td>\n",
              "      <td>0.925884</td>\n",
              "      <td>0.035782</td>\n",
              "      <td>...</td>\n",
              "      <td>26.983006</td>\n",
              "      <td>24.534434</td>\n",
              "      <td>-16.038266</td>\n",
              "      <td>-2.344370</td>\n",
              "      <td>-12.186701</td>\n",
              "      <td>-2.746870</td>\n",
              "      <td>0.003344</td>\n",
              "      <td>-1.294651</td>\n",
              "      <td>1.061976</td>\n",
              "      <td>0.432432</td>\n",
              "    </tr>\n",
              "    <tr>\n",
              "      <th>std</th>\n",
              "      <td>31.054132</td>\n",
              "      <td>10.721563</td>\n",
              "      <td>1.821215</td>\n",
              "      <td>0.005570</td>\n",
              "      <td>0.000052</td>\n",
              "      <td>0.002904</td>\n",
              "      <td>0.002928</td>\n",
              "      <td>0.015417</td>\n",
              "      <td>0.138957</td>\n",
              "      <td>0.008192</td>\n",
              "      <td>...</td>\n",
              "      <td>12.726663</td>\n",
              "      <td>14.297257</td>\n",
              "      <td>12.318881</td>\n",
              "      <td>13.249363</td>\n",
              "      <td>11.363720</td>\n",
              "      <td>9.503643</td>\n",
              "      <td>9.653106</td>\n",
              "      <td>7.705090</td>\n",
              "      <td>8.945486</td>\n",
              "      <td>0.502247</td>\n",
              "    </tr>\n",
              "    <tr>\n",
              "      <th>min</th>\n",
              "      <td>101.441520</td>\n",
              "      <td>21.700405</td>\n",
              "      <td>10.182373</td>\n",
              "      <td>0.013970</td>\n",
              "      <td>0.000077</td>\n",
              "      <td>0.005358</td>\n",
              "      <td>0.005803</td>\n",
              "      <td>0.061226</td>\n",
              "      <td>0.635766</td>\n",
              "      <td>0.023806</td>\n",
              "      <td>...</td>\n",
              "      <td>-9.612589</td>\n",
              "      <td>-1.269567</td>\n",
              "      <td>-51.226759</td>\n",
              "      <td>-24.561546</td>\n",
              "      <td>-35.680011</td>\n",
              "      <td>-24.398019</td>\n",
              "      <td>-28.457065</td>\n",
              "      <td>-16.292199</td>\n",
              "      <td>-16.042029</td>\n",
              "      <td>0.000000</td>\n",
              "    </tr>\n",
              "    <tr>\n",
              "      <th>25%</th>\n",
              "      <td>139.925796</td>\n",
              "      <td>37.924675</td>\n",
              "      <td>12.069858</td>\n",
              "      <td>0.020194</td>\n",
              "      <td>0.000112</td>\n",
              "      <td>0.008341</td>\n",
              "      <td>0.009115</td>\n",
              "      <td>0.082022</td>\n",
              "      <td>0.806059</td>\n",
              "      <td>0.029279</td>\n",
              "      <td>...</td>\n",
              "      <td>20.603586</td>\n",
              "      <td>12.465326</td>\n",
              "      <td>-20.877052</td>\n",
              "      <td>-11.787999</td>\n",
              "      <td>-17.471027</td>\n",
              "      <td>-11.045900</td>\n",
              "      <td>-5.214899</td>\n",
              "      <td>-6.654626</td>\n",
              "      <td>-5.702192</td>\n",
              "      <td>0.000000</td>\n",
              "    </tr>\n",
              "    <tr>\n",
              "      <th>50%</th>\n",
              "      <td>180.955867</td>\n",
              "      <td>47.094601</td>\n",
              "      <td>13.103552</td>\n",
              "      <td>0.022866</td>\n",
              "      <td>0.000131</td>\n",
              "      <td>0.009922</td>\n",
              "      <td>0.010434</td>\n",
              "      <td>0.095637</td>\n",
              "      <td>0.942493</td>\n",
              "      <td>0.035398</td>\n",
              "      <td>...</td>\n",
              "      <td>25.994576</td>\n",
              "      <td>25.461889</td>\n",
              "      <td>-15.199401</td>\n",
              "      <td>-1.961568</td>\n",
              "      <td>-13.068323</td>\n",
              "      <td>0.028050</td>\n",
              "      <td>0.381197</td>\n",
              "      <td>-1.466902</td>\n",
              "      <td>1.554965</td>\n",
              "      <td>0.000000</td>\n",
              "    </tr>\n",
              "    <tr>\n",
              "      <th>75%</th>\n",
              "      <td>191.411023</td>\n",
              "      <td>51.693216</td>\n",
              "      <td>14.448211</td>\n",
              "      <td>0.027047</td>\n",
              "      <td>0.000182</td>\n",
              "      <td>0.011550</td>\n",
              "      <td>0.013075</td>\n",
              "      <td>0.104713</td>\n",
              "      <td>1.003543</td>\n",
              "      <td>0.040266</td>\n",
              "      <td>...</td>\n",
              "      <td>36.367023</td>\n",
              "      <td>35.371636</td>\n",
              "      <td>-10.664171</td>\n",
              "      <td>5.476300</td>\n",
              "      <td>-3.977438</td>\n",
              "      <td>5.188163</td>\n",
              "      <td>4.421726</td>\n",
              "      <td>3.519430</td>\n",
              "      <td>8.576886</td>\n",
              "      <td>1.000000</td>\n",
              "    </tr>\n",
              "    <tr>\n",
              "      <th>max</th>\n",
              "      <td>214.506157</td>\n",
              "      <td>62.770765</td>\n",
              "      <td>17.586959</td>\n",
              "      <td>0.039906</td>\n",
              "      <td>0.000287</td>\n",
              "      <td>0.017347</td>\n",
              "      <td>0.018509</td>\n",
              "      <td>0.127223</td>\n",
              "      <td>1.232997</td>\n",
              "      <td>0.053177</td>\n",
              "      <td>...</td>\n",
              "      <td>51.931076</td>\n",
              "      <td>50.608532</td>\n",
              "      <td>9.001705</td>\n",
              "      <td>34.894468</td>\n",
              "      <td>19.013661</td>\n",
              "      <td>16.090623</td>\n",
              "      <td>19.289492</td>\n",
              "      <td>20.126116</td>\n",
              "      <td>17.294757</td>\n",
              "      <td>1.000000</td>\n",
              "    </tr>\n",
              "  </tbody>\n",
              "</table>\n",
              "<p>8 rows × 25 columns</p>\n",
              "</div>\n",
              "      <button class=\"colab-df-convert\" onclick=\"convertToInteractive('df-cd182854-1f28-4840-bd34-4036e181ef91')\"\n",
              "              title=\"Convert this dataframe to an interactive table.\"\n",
              "              style=\"display:none;\">\n",
              "        \n",
              "  <svg xmlns=\"http://www.w3.org/2000/svg\" height=\"24px\"viewBox=\"0 0 24 24\"\n",
              "       width=\"24px\">\n",
              "    <path d=\"M0 0h24v24H0V0z\" fill=\"none\"/>\n",
              "    <path d=\"M18.56 5.44l.94 2.06.94-2.06 2.06-.94-2.06-.94-.94-2.06-.94 2.06-2.06.94zm-11 1L8.5 8.5l.94-2.06 2.06-.94-2.06-.94L8.5 2.5l-.94 2.06-2.06.94zm10 10l.94 2.06.94-2.06 2.06-.94-2.06-.94-.94-2.06-.94 2.06-2.06.94z\"/><path d=\"M17.41 7.96l-1.37-1.37c-.4-.4-.92-.59-1.43-.59-.52 0-1.04.2-1.43.59L10.3 9.45l-7.72 7.72c-.78.78-.78 2.05 0 2.83L4 21.41c.39.39.9.59 1.41.59.51 0 1.02-.2 1.41-.59l7.78-7.78 2.81-2.81c.8-.78.8-2.07 0-2.86zM5.41 20L4 18.59l7.72-7.72 1.47 1.35L5.41 20z\"/>\n",
              "  </svg>\n",
              "      </button>\n",
              "      \n",
              "  <style>\n",
              "    .colab-df-container {\n",
              "      display:flex;\n",
              "      flex-wrap:wrap;\n",
              "      gap: 12px;\n",
              "    }\n",
              "\n",
              "    .colab-df-convert {\n",
              "      background-color: #E8F0FE;\n",
              "      border: none;\n",
              "      border-radius: 50%;\n",
              "      cursor: pointer;\n",
              "      display: none;\n",
              "      fill: #1967D2;\n",
              "      height: 32px;\n",
              "      padding: 0 0 0 0;\n",
              "      width: 32px;\n",
              "    }\n",
              "\n",
              "    .colab-df-convert:hover {\n",
              "      background-color: #E2EBFA;\n",
              "      box-shadow: 0px 1px 2px rgba(60, 64, 67, 0.3), 0px 1px 3px 1px rgba(60, 64, 67, 0.15);\n",
              "      fill: #174EA6;\n",
              "    }\n",
              "\n",
              "    [theme=dark] .colab-df-convert {\n",
              "      background-color: #3B4455;\n",
              "      fill: #D2E3FC;\n",
              "    }\n",
              "\n",
              "    [theme=dark] .colab-df-convert:hover {\n",
              "      background-color: #434B5C;\n",
              "      box-shadow: 0px 1px 3px 1px rgba(0, 0, 0, 0.15);\n",
              "      filter: drop-shadow(0px 1px 2px rgba(0, 0, 0, 0.3));\n",
              "      fill: #FFFFFF;\n",
              "    }\n",
              "  </style>\n",
              "\n",
              "      <script>\n",
              "        const buttonEl =\n",
              "          document.querySelector('#df-cd182854-1f28-4840-bd34-4036e181ef91 button.colab-df-convert');\n",
              "        buttonEl.style.display =\n",
              "          google.colab.kernel.accessAllowed ? 'block' : 'none';\n",
              "\n",
              "        async function convertToInteractive(key) {\n",
              "          const element = document.querySelector('#df-cd182854-1f28-4840-bd34-4036e181ef91');\n",
              "          const dataTable =\n",
              "            await google.colab.kernel.invokeFunction('convertToInteractive',\n",
              "                                                     [key], {});\n",
              "          if (!dataTable) return;\n",
              "\n",
              "          const docLinkHtml = 'Like what you see? Visit the ' +\n",
              "            '<a target=\"_blank\" href=https://colab.research.google.com/notebooks/data_table.ipynb>data table notebook</a>'\n",
              "            + ' to learn more about interactive tables.';\n",
              "          element.innerHTML = '';\n",
              "          dataTable['output_type'] = 'display_data';\n",
              "          await google.colab.output.renderOutput(dataTable, element);\n",
              "          const docLink = document.createElement('div');\n",
              "          docLink.innerHTML = docLinkHtml;\n",
              "          element.appendChild(docLink);\n",
              "        }\n",
              "      </script>\n",
              "    </div>\n",
              "  </div>\n",
              "  "
            ]
          },
          "metadata": {},
          "execution_count": 7
        }
      ],
      "source": [
        "df.describe()"
      ]
    },
    {
      "cell_type": "code",
      "execution_count": null,
      "metadata": {
        "id": "-Jcs-tp9cYg_",
        "colab": {
          "base_uri": "https://localhost:8080/"
        },
        "outputId": "f9dbd6c9-8b4e-4f7b-c369-52c1c4d12a91"
      },
      "outputs": [
        {
          "output_type": "stream",
          "name": "stdout",
          "text": [
            "X shape : (37, 24)\n",
            "y shape : (37, 1)\n"
          ]
        }
      ],
      "source": [
        "X = df.drop(columns='label')\n",
        "y = pd.DataFrame(df['label'])\n",
        "\n",
        "print(f'X shape : {X.shape}')\n",
        "print(f'y shape : {y.shape}')"
      ]
    },
    {
      "cell_type": "code",
      "execution_count": null,
      "metadata": {
        "id": "ThfAG_badhKg",
        "colab": {
          "base_uri": "https://localhost:8080/"
        },
        "outputId": "37412ab0-bcef-432e-d174-71feb48349b4"
      },
      "outputs": [
        {
          "output_type": "stream",
          "name": "stdout",
          "text": [
            "Before oversampling: (37, 24), (37, 1)\n",
            "After oversampling: (42, 24), (42, 1)\n"
          ]
        }
      ],
      "source": [
        "#solve imbalancing issue ..\n",
        "\n",
        "from imblearn.over_sampling import SMOTENC\n",
        "\n",
        "smotenc = SMOTENC(categorical_features=[0, 2, 4, 6, 8, 10, 12, 14], random_state=0)\n",
        "X_resampled, y_resampled = smotenc.fit_resample(X, y)\n",
        "\n",
        "print(f\"Before oversampling: {X.shape}, {y.shape}\")\n",
        "print(f\"After oversampling: {X_resampled.shape}, {y_resampled.shape}\")"
      ]
    },
    {
      "cell_type": "code",
      "execution_count": null,
      "metadata": {
        "id": "9Q9A2YX2eBE4",
        "colab": {
          "base_uri": "https://localhost:8080/"
        },
        "outputId": "ebc7dbd2-dd11-48ee-b2ef-a599625c8613"
      },
      "outputs": [
        {
          "output_type": "execute_result",
          "data": {
            "text/plain": [
              "label\n",
              "0.0      21\n",
              "1.0      21\n",
              "dtype: int64"
            ]
          },
          "metadata": {},
          "execution_count": 10
        }
      ],
      "source": [
        "y_resampled.value_counts()"
      ]
    },
    {
      "cell_type": "code",
      "execution_count": null,
      "metadata": {
        "id": "kJAqc3bUeBII",
        "colab": {
          "base_uri": "https://localhost:8080/"
        },
        "outputId": "6d1ef1a6-fcae-4a81-d25b-5f0d59982d13"
      },
      "outputs": [
        {
          "output_type": "stream",
          "name": "stdout",
          "text": [
            "X_train shape: (27, 24)\n",
            "X_test shape: (10, 24)\n",
            "y_train shape: (27, 1)\n",
            "y_test shape: (10, 1)\n"
          ]
        }
      ],
      "source": [
        "#split the dataset\n",
        "\n",
        "from sklearn.model_selection import train_test_split\n",
        "\n",
        "X_train, X_test, y_train, y_test = train_test_split(X, y, test_size=0.25, stratify= y, random_state=42)\n",
        "print(f'X_train shape: {X_train.shape}')\n",
        "print(f'X_test shape: {X_test.shape}')\n",
        "print(f'y_train shape: {y_train.shape}')\n",
        "print(f'y_test shape: {y_test.shape}')"
      ]
    },
    {
      "cell_type": "code",
      "execution_count": null,
      "metadata": {
        "id": "nT-UixTagsrN"
      },
      "outputs": [],
      "source": [
        "#scale the datset..\n",
        "\n",
        "from sklearn.preprocessing import StandardScaler\n",
        "\n",
        "sc = StandardScaler()\n",
        "X_train = sc.fit_transform(X_train)\n",
        "X_test = sc.transform(X_test)"
      ]
    },
    {
      "cell_type": "markdown",
      "source": [
        "# **Multi Layer Perceptron**"
      ],
      "metadata": {
        "id": "2kftKqlwiN3Y"
      }
    },
    {
      "cell_type": "code",
      "source": [
        "import torch\n",
        "import torch.nn as nn\n",
        "import torch.nn.functional as F\n",
        "import torch.optim as optim\n",
        "from torch.optim import lr_scheduler\n",
        "from torch.utils.data import Dataset, DataLoader\n",
        "\n",
        "from tqdm import tqdm"
      ],
      "metadata": {
        "id": "D2jHSj5fiRiz"
      },
      "execution_count": null,
      "outputs": []
    },
    {
      "cell_type": "code",
      "source": [
        "class ParkinsonData(Dataset):\n",
        "    def __init__(self, X, y):\n",
        "        self.n_samples = X.shape[0]\n",
        "        # convert DataFrame to numpy array\n",
        "        y = y.to_numpy()\n",
        "        # convert numpy to tensor\n",
        "        self.x_data = torch.from_numpy(X.astype(np.float32)) # size [n_samples, n_features]\n",
        "        self.y_data = torch.from_numpy(y.astype(np.float32)) # size [n_samples, 1]\n",
        "\n",
        "    # support indexing such that dataset[i] can be used to get i-th sample\n",
        "    def __getitem__(self, index):\n",
        "        return self.x_data[index], self.y_data[index]\n",
        "\n",
        "    # we can call len(dataset) to return the size\n",
        "    def __len__(self):\n",
        "        return self.n_samples"
      ],
      "metadata": {
        "id": "NCvCqdAQiX3K"
      },
      "execution_count": null,
      "outputs": []
    },
    {
      "cell_type": "code",
      "source": [
        "# Create data\n",
        "train_data = ParkinsonData(X_train, y_train)\n",
        "test_data = ParkinsonData(X_test, y_test)"
      ],
      "metadata": {
        "id": "oS__uUWRiYJI"
      },
      "execution_count": null,
      "outputs": []
    },
    {
      "cell_type": "code",
      "source": [
        "# get first sample of train data\n",
        "x_sample, y_sample = train_data[0]\n",
        "print(f'10 first element of x_sample : \\n{x_sample[:10]} \\nand y_sample : \\n{y_sample}')\n",
        "print(f'x_sample shape : {x_sample.shape} and y_sample shape : {y_sample}')"
      ],
      "metadata": {
        "colab": {
          "base_uri": "https://localhost:8080/"
        },
        "id": "j87JHMYvifTp",
        "outputId": "048e5e18-4d0f-46a9-ba5a-199f77f4baff"
      },
      "execution_count": null,
      "outputs": [
        {
          "output_type": "stream",
          "name": "stdout",
          "text": [
            "10 first element of x_sample : \n",
            "tensor([ 0.1824,  0.1153,  0.2285, -0.0897, -0.2898, -0.0127,  0.0367, -0.1442,\n",
            "        -0.3040, -0.4074]) \n",
            "and y_sample : \n",
            "tensor([0.])\n",
            "x_sample shape : torch.Size([24]) and y_sample shape : tensor([0.])\n"
          ]
        }
      ]
    },
    {
      "cell_type": "code",
      "source": [
        "# set parameters\n",
        "BATCH_SIZE=16\n",
        "input_size = X.shape[1]\n",
        "output_size = 1\n",
        "num_epoch = 100\n",
        "learning_rate = 0.01"
      ],
      "metadata": {
        "id": "KkmnezMCifWR"
      },
      "execution_count": null,
      "outputs": []
    },
    {
      "cell_type": "code",
      "source": [
        "# Create dataloaders\n",
        "train_loader = torch.utils.data.DataLoader(dataset = train_data, batch_size = BATCH_SIZE, shuffle = True) # \n",
        "test_loader = torch.utils.data.DataLoader(dataset = test_data, batch_size = BATCH_SIZE, shuffle = True)\n",
        "\n",
        "print(f'length of train data is : {len(train_data)} and length of train loader is : {len(train_loader)}')\n",
        "print(f'length of test data is : {len(test_data)} and length of test loader is : {len(test_loader)}')"
      ],
      "metadata": {
        "colab": {
          "base_uri": "https://localhost:8080/"
        },
        "id": "SwGaezNdifYr",
        "outputId": "59788f13-b61b-45d3-ce4d-8aae00c5fe71"
      },
      "execution_count": null,
      "outputs": [
        {
          "output_type": "stream",
          "name": "stdout",
          "text": [
            "length of train data is : 27 and length of train loader is : 2\n",
            "length of test data is : 10 and length of test loader is : 1\n"
          ]
        }
      ]
    },
    {
      "cell_type": "code",
      "source": [
        "# get an example of train loader\n",
        "example= next(iter(train_loader))\n",
        "\n",
        "# unpack example\n",
        "sample_x,sample_y = example\n",
        "print(f'samples shape : {sample_x.shape} ,labels shape : {sample_y.shape}')"
      ],
      "metadata": {
        "colab": {
          "base_uri": "https://localhost:8080/"
        },
        "id": "2XLNAAawifcN",
        "outputId": "f04649db-73bf-4303-9dfe-319373fb0d5c"
      },
      "execution_count": null,
      "outputs": [
        {
          "output_type": "stream",
          "name": "stdout",
          "text": [
            "samples shape : torch.Size([16, 24]) ,labels shape : torch.Size([16, 1])\n"
          ]
        }
      ]
    },
    {
      "cell_type": "code",
      "source": [
        "# create neural network class\n",
        "class NeuralNet(nn.Module):\n",
        "  def __init__(self, input_size, num_classes):\n",
        "    super(NeuralNet, self).__init__()\n",
        "    self.fc = nn.Sequential(\n",
        "    nn.Linear(input_size, 100),\n",
        "    nn.Dropout(0.25),\n",
        "    nn.ReLU(),\n",
        "    nn.Linear(100, 50),\n",
        "    nn.Dropout(0.50),\n",
        "    nn.ReLU(),\n",
        "    nn.Linear(50, 1),\n",
        "    nn.Sigmoid())\n",
        "\n",
        "  def forward(self,x):\n",
        "    out = self.fc(x)\n",
        "    return out"
      ],
      "metadata": {
        "id": "SnD-0AdliyX-"
      },
      "execution_count": null,
      "outputs": []
    },
    {
      "cell_type": "code",
      "source": [
        "# define a function to calculate accuracy\n",
        "def accuracy(y_pred, y_act):\n",
        "  y_pred = torch.round(y_pred)\n",
        "  correct = (y_pred == y_act)\n",
        "  acc = correct.sum()/len(correct)\n",
        "  acc = torch.round(acc*100)\n",
        "  return acc\n",
        "\n",
        "# define a function for training a model\n",
        "def train_fun(model1, train_loader):\n",
        "  train_epoch_loss = 0\n",
        "  train_epoch_acc = 0\n",
        "  model1.train() # train the model\n",
        "  loop = tqdm(enumerate(train_loader), total = total_step, leave = False)\n",
        "\n",
        "  for i, batch in loop:\n",
        "    optimizer.zero_grad()\n",
        "    x, y = batch # retrieve x and y\n",
        "    x = x.to(device)\n",
        "    y = y.to(device)\n",
        "    y_pred = model1(x)\n",
        "    loss_train = criterion(y_pred, y)\n",
        "    acc_train = accuracy(y_pred, y)\n",
        "    loss_train.backward()\n",
        "    optimizer.step()\n",
        "\n",
        "    train_epoch_loss += loss_train.item()\n",
        "    train_epoch_acc += acc_train.item()\n",
        "    loop.set_description(f'Epoch : [{epoch}/{num_epoch}]')\n",
        "    loop.set_postfix(loss = loss_train.item(), accuracy = acc_train.item()) \n",
        "  \n",
        "  train_loss.append(train_epoch_loss/len(train_loader))\n",
        "  train_acc.append(train_epoch_acc/len(train_loader))  \n",
        "      \n",
        "  # if you want to monitor your model in tensorboard   \n",
        "  writer.add_scalar('training loss',train_epoch_loss/len(train_loader) , epoch)\n",
        "  writer.add_scalar('training accuracy',train_epoch_acc/len(train_loader) , epoch)\n",
        "  return train_loss, train_acc\n",
        "\n",
        "# define a function for evaluating model\n",
        "def evaluate(model1, valid_loader):\n",
        "  with torch.no_grad():\n",
        "    model1.eval()\n",
        "    val_epoch_loss = 0\n",
        "    val_epoch_acc = 0\n",
        "\n",
        "    for batch in valid_loader:\n",
        "      x, y = batch\n",
        "      x = x.to(device)\n",
        "      y = y.to(device)\n",
        "      y_pred_val = model1(x)\n",
        "      loss_valid = criterion(y_pred_val, y)\n",
        "      acc_valid = accuracy(y_pred_val, y) \n",
        "      val_epoch_loss += loss_valid.item()\n",
        "      val_epoch_acc += acc_valid.item()\n",
        "\n",
        "    valid_loss.append(val_epoch_loss/len(valid_loader))\n",
        "    valid_acc.append(val_epoch_acc/len(valid_loader))  \n",
        "\n",
        "    writer.add_scalar('validation loss',val_epoch_loss/len(valid_loader) , epoch)\n",
        "    writer.add_scalar('validation accuracy',val_epoch_acc/len(valid_loader) , epoch)\n",
        "  return valid_loss, valid_acc\n",
        "\n",
        "# define a function for evaluating model on test set\n",
        "def test(model1, test_loader):\n",
        "  y_pred_test = []\n",
        "  y_actual_test = []\n",
        "\n",
        "  model1.eval()\n",
        "  with torch.no_grad():\n",
        "    n_true = 0\n",
        "    n_total = 0\n",
        "    n_class_correct = [0 for i in range(num_class)]\n",
        "    n_class_sample = [0 for i in range(num_class)]\n",
        "  \n",
        "    for batch in test_loader:\n",
        "      x, y = batch\n",
        "      output = model1(x)\n",
        "      y_predtest = torch.round(output)\n",
        "      n_true += (y_predtest == y).sum()\n",
        "      n_total += y.size(0)\n",
        "\n",
        "      for i in range(len(y_predtest)):\n",
        "        y_pred_test.append(y_predtest[i])\n",
        "        y_actual_test.append(y[i].item())\n",
        "\n",
        "      for i in range(len(y_predtest)):\n",
        "        lb = int(y[i].item())\n",
        "        pred = y_predtest[i]\n",
        "        if pred == lb:\n",
        "          n_class_correct[lb] += 1\n",
        "        n_class_sample[lb] += 1   \n",
        "\n",
        "    print(f'accuracy of network on the {len(test_loader)} data is : {(n_true/n_total) *100}')\n",
        "  \n",
        "    for i in range(len(classes)):\n",
        "      acc = 100.0 * n_class_correct[i] / n_class_sample[i]\n",
        "      print(f'Accuracy of {classes[i]}: {acc} %')\n",
        "  \n",
        "  return y_pred_test, y_actual_test "
      ],
      "metadata": {
        "id": "uwajk31_iyaa"
      },
      "execution_count": null,
      "outputs": []
    },
    {
      "cell_type": "code",
      "source": [
        "device = torch.device('cuda' if torch.cuda.is_available() else 'cpu')\n",
        "device"
      ],
      "metadata": {
        "colab": {
          "base_uri": "https://localhost:8080/"
        },
        "id": "ZWmLtReviydy",
        "outputId": "bd66143c-9bf1-4bf9-b928-285daec9c0cc"
      },
      "execution_count": null,
      "outputs": [
        {
          "output_type": "execute_result",
          "data": {
            "text/plain": [
              "device(type='cpu')"
            ]
          },
          "metadata": {},
          "execution_count": 123
        }
      ]
    },
    {
      "cell_type": "code",
      "source": [
        "from torch.utils.tensorboard import SummaryWriter\n",
        "writer = SummaryWriter('parkinson')"
      ],
      "metadata": {
        "id": "XQpdJgOZi8iG"
      },
      "execution_count": null,
      "outputs": []
    },
    {
      "cell_type": "code",
      "source": [
        "fold = StratifiedKFold(2) # shuffle false because we shuffled data in splitting train and test section\n",
        "cv_scores = {'Accuracy' : []}\n",
        "\n",
        "for fold, (train_ids, valid_ids) in enumerate(fold.split(X_train, y_train)):\n",
        "  # sample elements randomly from a give list of ids, no replacement\n",
        "  train_subsampler = torch.utils.data.SubsetRandomSampler(train_ids)\n",
        "  valid_subsampler = torch.utils.data.SubsetRandomSampler(valid_ids)\n",
        "\n",
        "  # create dataloader for train and valid data in this fold\n",
        "  trainloader = torch.utils.data.DataLoader(train_data, batch_size=BATCH_SIZE, sampler=train_subsampler)\n",
        "  validloader = torch.utils.data.DataLoader(train_data, batch_size=BATCH_SIZE, sampler=valid_subsampler)\n",
        "\n",
        "  model = NeuralNet(input_size, output_size)\n",
        "  optimizer = torch.optim.Adam(model.parameters(), lr= learning_rate)\n",
        "  criterion = nn.BCELoss()\n",
        "  scheduler = lr_scheduler.StepLR(optimizer, 3, gamma=0.5)\n",
        "\n",
        "  total_step = len(trainloader)\n",
        "  train_loss, valid_loss = [], []\n",
        "  train_acc, valid_acc = [], []\n",
        "\n",
        "  for epoch in range(num_epoch):\n",
        "    train_loss, train_acc = train_fun(model, trainloader)\n",
        "    writer.flush() \n",
        "    valid_loss, valid_acc = evaluate(model, validloader)   \n",
        "    print(f'fold {fold} => train acc : {train_acc[-1]:0.2f}| train loss : {train_loss[-1]:0.2f}| valid acc : {valid_acc[-1]:0.2f}| valid loss : {valid_loss[-1]:0.2f}')\n",
        "    scheduler.step()\n",
        "\n",
        "  cv_scores['Accuracy'].append(valid_acc[-1])"
      ],
      "metadata": {
        "colab": {
          "base_uri": "https://localhost:8080/"
        },
        "id": "RAC-If0di8kR",
        "outputId": "ae5583ca-692e-4691-86ad-f9fd7f50e63f"
      },
      "execution_count": null,
      "outputs": [
        {
          "output_type": "stream",
          "name": "stderr",
          "text": []
        },
        {
          "output_type": "stream",
          "name": "stdout",
          "text": [
            "fold 0 => train acc : 31.00| train loss : 0.71| valid acc : 57.00| valid loss : 0.70\n"
          ]
        },
        {
          "output_type": "stream",
          "name": "stderr",
          "text": []
        },
        {
          "output_type": "stream",
          "name": "stdout",
          "text": [
            "fold 0 => train acc : 69.00| train loss : 0.64| valid acc : 64.00| valid loss : 0.69\n"
          ]
        },
        {
          "output_type": "stream",
          "name": "stderr",
          "text": []
        },
        {
          "output_type": "stream",
          "name": "stdout",
          "text": [
            "fold 0 => train acc : 85.00| train loss : 0.59| valid acc : 71.00| valid loss : 0.67\n"
          ]
        },
        {
          "output_type": "stream",
          "name": "stderr",
          "text": []
        },
        {
          "output_type": "stream",
          "name": "stdout",
          "text": [
            "fold 0 => train acc : 77.00| train loss : 0.57| valid acc : 64.00| valid loss : 0.67\n"
          ]
        },
        {
          "output_type": "stream",
          "name": "stderr",
          "text": []
        },
        {
          "output_type": "stream",
          "name": "stdout",
          "text": [
            "fold 0 => train acc : 92.00| train loss : 0.49| valid acc : 71.00| valid loss : 0.66\n"
          ]
        },
        {
          "output_type": "stream",
          "name": "stderr",
          "text": []
        },
        {
          "output_type": "stream",
          "name": "stdout",
          "text": [
            "fold 0 => train acc : 77.00| train loss : 0.50| valid acc : 71.00| valid loss : 0.66\n"
          ]
        },
        {
          "output_type": "stream",
          "name": "stderr",
          "text": []
        },
        {
          "output_type": "stream",
          "name": "stdout",
          "text": [
            "fold 0 => train acc : 100.00| train loss : 0.40| valid acc : 71.00| valid loss : 0.66\n"
          ]
        },
        {
          "output_type": "stream",
          "name": "stderr",
          "text": []
        },
        {
          "output_type": "stream",
          "name": "stdout",
          "text": [
            "fold 0 => train acc : 92.00| train loss : 0.45| valid acc : 71.00| valid loss : 0.66\n"
          ]
        },
        {
          "output_type": "stream",
          "name": "stderr",
          "text": []
        },
        {
          "output_type": "stream",
          "name": "stdout",
          "text": [
            "fold 0 => train acc : 85.00| train loss : 0.44| valid acc : 71.00| valid loss : 0.67\n"
          ]
        },
        {
          "output_type": "stream",
          "name": "stderr",
          "text": []
        },
        {
          "output_type": "stream",
          "name": "stdout",
          "text": [
            "fold 0 => train acc : 92.00| train loss : 0.38| valid acc : 71.00| valid loss : 0.67\n"
          ]
        },
        {
          "output_type": "stream",
          "name": "stderr",
          "text": []
        },
        {
          "output_type": "stream",
          "name": "stdout",
          "text": [
            "fold 0 => train acc : 92.00| train loss : 0.38| valid acc : 71.00| valid loss : 0.67\n"
          ]
        },
        {
          "output_type": "stream",
          "name": "stderr",
          "text": []
        },
        {
          "output_type": "stream",
          "name": "stdout",
          "text": [
            "fold 0 => train acc : 92.00| train loss : 0.37| valid acc : 71.00| valid loss : 0.67\n"
          ]
        },
        {
          "output_type": "stream",
          "name": "stderr",
          "text": []
        },
        {
          "output_type": "stream",
          "name": "stdout",
          "text": [
            "fold 0 => train acc : 100.00| train loss : 0.38| valid acc : 71.00| valid loss : 0.67\n"
          ]
        },
        {
          "output_type": "stream",
          "name": "stderr",
          "text": []
        },
        {
          "output_type": "stream",
          "name": "stdout",
          "text": [
            "fold 0 => train acc : 85.00| train loss : 0.40| valid acc : 71.00| valid loss : 0.67\n"
          ]
        },
        {
          "output_type": "stream",
          "name": "stderr",
          "text": []
        },
        {
          "output_type": "stream",
          "name": "stdout",
          "text": [
            "fold 0 => train acc : 92.00| train loss : 0.33| valid acc : 71.00| valid loss : 0.68\n"
          ]
        },
        {
          "output_type": "stream",
          "name": "stderr",
          "text": []
        },
        {
          "output_type": "stream",
          "name": "stdout",
          "text": [
            "fold 0 => train acc : 77.00| train loss : 0.40| valid acc : 71.00| valid loss : 0.68\n"
          ]
        },
        {
          "output_type": "stream",
          "name": "stderr",
          "text": []
        },
        {
          "output_type": "stream",
          "name": "stdout",
          "text": [
            "fold 0 => train acc : 92.00| train loss : 0.35| valid acc : 71.00| valid loss : 0.68\n"
          ]
        },
        {
          "output_type": "stream",
          "name": "stderr",
          "text": []
        },
        {
          "output_type": "stream",
          "name": "stdout",
          "text": [
            "fold 0 => train acc : 85.00| train loss : 0.37| valid acc : 71.00| valid loss : 0.68\n"
          ]
        },
        {
          "output_type": "stream",
          "name": "stderr",
          "text": []
        },
        {
          "output_type": "stream",
          "name": "stdout",
          "text": [
            "fold 0 => train acc : 100.00| train loss : 0.36| valid acc : 71.00| valid loss : 0.68\n"
          ]
        },
        {
          "output_type": "stream",
          "name": "stderr",
          "text": []
        },
        {
          "output_type": "stream",
          "name": "stdout",
          "text": [
            "fold 0 => train acc : 77.00| train loss : 0.42| valid acc : 71.00| valid loss : 0.68\n"
          ]
        },
        {
          "output_type": "stream",
          "name": "stderr",
          "text": []
        },
        {
          "output_type": "stream",
          "name": "stdout",
          "text": [
            "fold 0 => train acc : 85.00| train loss : 0.37| valid acc : 71.00| valid loss : 0.68\n"
          ]
        },
        {
          "output_type": "stream",
          "name": "stderr",
          "text": []
        },
        {
          "output_type": "stream",
          "name": "stdout",
          "text": [
            "fold 0 => train acc : 92.00| train loss : 0.34| valid acc : 71.00| valid loss : 0.68\n"
          ]
        },
        {
          "output_type": "stream",
          "name": "stderr",
          "text": []
        },
        {
          "output_type": "stream",
          "name": "stdout",
          "text": [
            "fold 0 => train acc : 100.00| train loss : 0.31| valid acc : 71.00| valid loss : 0.68\n"
          ]
        },
        {
          "output_type": "stream",
          "name": "stderr",
          "text": []
        },
        {
          "output_type": "stream",
          "name": "stdout",
          "text": [
            "fold 0 => train acc : 92.00| train loss : 0.33| valid acc : 71.00| valid loss : 0.68\n"
          ]
        },
        {
          "output_type": "stream",
          "name": "stderr",
          "text": []
        },
        {
          "output_type": "stream",
          "name": "stdout",
          "text": [
            "fold 0 => train acc : 92.00| train loss : 0.33| valid acc : 71.00| valid loss : 0.68\n"
          ]
        },
        {
          "output_type": "stream",
          "name": "stderr",
          "text": []
        },
        {
          "output_type": "stream",
          "name": "stdout",
          "text": [
            "fold 0 => train acc : 85.00| train loss : 0.33| valid acc : 71.00| valid loss : 0.68\n"
          ]
        },
        {
          "output_type": "stream",
          "name": "stderr",
          "text": []
        },
        {
          "output_type": "stream",
          "name": "stdout",
          "text": [
            "fold 0 => train acc : 92.00| train loss : 0.32| valid acc : 71.00| valid loss : 0.68\n"
          ]
        },
        {
          "output_type": "stream",
          "name": "stderr",
          "text": []
        },
        {
          "output_type": "stream",
          "name": "stdout",
          "text": [
            "fold 0 => train acc : 92.00| train loss : 0.34| valid acc : 71.00| valid loss : 0.68\n"
          ]
        },
        {
          "output_type": "stream",
          "name": "stderr",
          "text": []
        },
        {
          "output_type": "stream",
          "name": "stdout",
          "text": [
            "fold 0 => train acc : 100.00| train loss : 0.32| valid acc : 71.00| valid loss : 0.68\n"
          ]
        },
        {
          "output_type": "stream",
          "name": "stderr",
          "text": []
        },
        {
          "output_type": "stream",
          "name": "stdout",
          "text": [
            "fold 0 => train acc : 92.00| train loss : 0.35| valid acc : 71.00| valid loss : 0.68\n"
          ]
        },
        {
          "output_type": "stream",
          "name": "stderr",
          "text": []
        },
        {
          "output_type": "stream",
          "name": "stdout",
          "text": [
            "fold 0 => train acc : 92.00| train loss : 0.31| valid acc : 71.00| valid loss : 0.68\n"
          ]
        },
        {
          "output_type": "stream",
          "name": "stderr",
          "text": []
        },
        {
          "output_type": "stream",
          "name": "stdout",
          "text": [
            "fold 0 => train acc : 92.00| train loss : 0.35| valid acc : 71.00| valid loss : 0.68\n"
          ]
        },
        {
          "output_type": "stream",
          "name": "stderr",
          "text": []
        },
        {
          "output_type": "stream",
          "name": "stdout",
          "text": [
            "fold 0 => train acc : 92.00| train loss : 0.35| valid acc : 71.00| valid loss : 0.68\n"
          ]
        },
        {
          "output_type": "stream",
          "name": "stderr",
          "text": []
        },
        {
          "output_type": "stream",
          "name": "stdout",
          "text": [
            "fold 0 => train acc : 85.00| train loss : 0.32| valid acc : 71.00| valid loss : 0.68\n"
          ]
        },
        {
          "output_type": "stream",
          "name": "stderr",
          "text": []
        },
        {
          "output_type": "stream",
          "name": "stdout",
          "text": [
            "fold 0 => train acc : 100.00| train loss : 0.34| valid acc : 71.00| valid loss : 0.68\n"
          ]
        },
        {
          "output_type": "stream",
          "name": "stderr",
          "text": []
        },
        {
          "output_type": "stream",
          "name": "stdout",
          "text": [
            "fold 0 => train acc : 85.00| train loss : 0.32| valid acc : 71.00| valid loss : 0.68\n"
          ]
        },
        {
          "output_type": "stream",
          "name": "stderr",
          "text": []
        },
        {
          "output_type": "stream",
          "name": "stdout",
          "text": [
            "fold 0 => train acc : 92.00| train loss : 0.35| valid acc : 71.00| valid loss : 0.68\n"
          ]
        },
        {
          "output_type": "stream",
          "name": "stderr",
          "text": []
        },
        {
          "output_type": "stream",
          "name": "stdout",
          "text": [
            "fold 0 => train acc : 100.00| train loss : 0.32| valid acc : 71.00| valid loss : 0.68\n"
          ]
        },
        {
          "output_type": "stream",
          "name": "stderr",
          "text": []
        },
        {
          "output_type": "stream",
          "name": "stdout",
          "text": [
            "fold 0 => train acc : 77.00| train loss : 0.36| valid acc : 71.00| valid loss : 0.68\n"
          ]
        },
        {
          "output_type": "stream",
          "name": "stderr",
          "text": []
        },
        {
          "output_type": "stream",
          "name": "stdout",
          "text": [
            "fold 0 => train acc : 92.00| train loss : 0.33| valid acc : 71.00| valid loss : 0.68\n"
          ]
        },
        {
          "output_type": "stream",
          "name": "stderr",
          "text": []
        },
        {
          "output_type": "stream",
          "name": "stdout",
          "text": [
            "fold 0 => train acc : 100.00| train loss : 0.33| valid acc : 71.00| valid loss : 0.68\n"
          ]
        },
        {
          "output_type": "stream",
          "name": "stderr",
          "text": []
        },
        {
          "output_type": "stream",
          "name": "stdout",
          "text": [
            "fold 0 => train acc : 77.00| train loss : 0.38| valid acc : 71.00| valid loss : 0.68\n"
          ]
        },
        {
          "output_type": "stream",
          "name": "stderr",
          "text": []
        },
        {
          "output_type": "stream",
          "name": "stdout",
          "text": [
            "fold 0 => train acc : 92.00| train loss : 0.36| valid acc : 71.00| valid loss : 0.68\n"
          ]
        },
        {
          "output_type": "stream",
          "name": "stderr",
          "text": []
        },
        {
          "output_type": "stream",
          "name": "stdout",
          "text": [
            "fold 0 => train acc : 77.00| train loss : 0.37| valid acc : 71.00| valid loss : 0.68\n"
          ]
        },
        {
          "output_type": "stream",
          "name": "stderr",
          "text": []
        },
        {
          "output_type": "stream",
          "name": "stdout",
          "text": [
            "fold 0 => train acc : 92.00| train loss : 0.32| valid acc : 71.00| valid loss : 0.68\n"
          ]
        },
        {
          "output_type": "stream",
          "name": "stderr",
          "text": []
        },
        {
          "output_type": "stream",
          "name": "stdout",
          "text": [
            "fold 0 => train acc : 92.00| train loss : 0.31| valid acc : 71.00| valid loss : 0.68\n"
          ]
        },
        {
          "output_type": "stream",
          "name": "stderr",
          "text": []
        },
        {
          "output_type": "stream",
          "name": "stdout",
          "text": [
            "fold 0 => train acc : 100.00| train loss : 0.30| valid acc : 71.00| valid loss : 0.68\n"
          ]
        },
        {
          "output_type": "stream",
          "name": "stderr",
          "text": []
        },
        {
          "output_type": "stream",
          "name": "stdout",
          "text": [
            "fold 0 => train acc : 85.00| train loss : 0.34| valid acc : 71.00| valid loss : 0.68\n"
          ]
        },
        {
          "output_type": "stream",
          "name": "stderr",
          "text": []
        },
        {
          "output_type": "stream",
          "name": "stdout",
          "text": [
            "fold 0 => train acc : 85.00| train loss : 0.31| valid acc : 71.00| valid loss : 0.68\n"
          ]
        },
        {
          "output_type": "stream",
          "name": "stderr",
          "text": []
        },
        {
          "output_type": "stream",
          "name": "stdout",
          "text": [
            "fold 0 => train acc : 85.00| train loss : 0.35| valid acc : 71.00| valid loss : 0.68\n"
          ]
        },
        {
          "output_type": "stream",
          "name": "stderr",
          "text": []
        },
        {
          "output_type": "stream",
          "name": "stdout",
          "text": [
            "fold 0 => train acc : 92.00| train loss : 0.32| valid acc : 71.00| valid loss : 0.68\n"
          ]
        },
        {
          "output_type": "stream",
          "name": "stderr",
          "text": []
        },
        {
          "output_type": "stream",
          "name": "stdout",
          "text": [
            "fold 0 => train acc : 85.00| train loss : 0.42| valid acc : 71.00| valid loss : 0.68\n"
          ]
        },
        {
          "output_type": "stream",
          "name": "stderr",
          "text": []
        },
        {
          "output_type": "stream",
          "name": "stdout",
          "text": [
            "fold 0 => train acc : 77.00| train loss : 0.36| valid acc : 71.00| valid loss : 0.68\n"
          ]
        },
        {
          "output_type": "stream",
          "name": "stderr",
          "text": []
        },
        {
          "output_type": "stream",
          "name": "stdout",
          "text": [
            "fold 0 => train acc : 85.00| train loss : 0.33| valid acc : 71.00| valid loss : 0.68\n"
          ]
        },
        {
          "output_type": "stream",
          "name": "stderr",
          "text": []
        },
        {
          "output_type": "stream",
          "name": "stdout",
          "text": [
            "fold 0 => train acc : 85.00| train loss : 0.33| valid acc : 71.00| valid loss : 0.68\n"
          ]
        },
        {
          "output_type": "stream",
          "name": "stderr",
          "text": []
        },
        {
          "output_type": "stream",
          "name": "stdout",
          "text": [
            "fold 0 => train acc : 85.00| train loss : 0.41| valid acc : 71.00| valid loss : 0.68\n"
          ]
        },
        {
          "output_type": "stream",
          "name": "stderr",
          "text": []
        },
        {
          "output_type": "stream",
          "name": "stdout",
          "text": [
            "fold 0 => train acc : 92.00| train loss : 0.34| valid acc : 71.00| valid loss : 0.68\n"
          ]
        },
        {
          "output_type": "stream",
          "name": "stderr",
          "text": []
        },
        {
          "output_type": "stream",
          "name": "stdout",
          "text": [
            "fold 0 => train acc : 92.00| train loss : 0.33| valid acc : 71.00| valid loss : 0.68\n"
          ]
        },
        {
          "output_type": "stream",
          "name": "stderr",
          "text": []
        },
        {
          "output_type": "stream",
          "name": "stdout",
          "text": [
            "fold 0 => train acc : 77.00| train loss : 0.34| valid acc : 71.00| valid loss : 0.68\n"
          ]
        },
        {
          "output_type": "stream",
          "name": "stderr",
          "text": []
        },
        {
          "output_type": "stream",
          "name": "stdout",
          "text": [
            "fold 0 => train acc : 92.00| train loss : 0.32| valid acc : 71.00| valid loss : 0.68\n"
          ]
        },
        {
          "output_type": "stream",
          "name": "stderr",
          "text": []
        },
        {
          "output_type": "stream",
          "name": "stdout",
          "text": [
            "fold 0 => train acc : 100.00| train loss : 0.31| valid acc : 71.00| valid loss : 0.68\n"
          ]
        },
        {
          "output_type": "stream",
          "name": "stderr",
          "text": []
        },
        {
          "output_type": "stream",
          "name": "stdout",
          "text": [
            "fold 0 => train acc : 92.00| train loss : 0.28| valid acc : 71.00| valid loss : 0.68\n"
          ]
        },
        {
          "output_type": "stream",
          "name": "stderr",
          "text": []
        },
        {
          "output_type": "stream",
          "name": "stdout",
          "text": [
            "fold 0 => train acc : 92.00| train loss : 0.33| valid acc : 71.00| valid loss : 0.68\n"
          ]
        },
        {
          "output_type": "stream",
          "name": "stderr",
          "text": []
        },
        {
          "output_type": "stream",
          "name": "stdout",
          "text": [
            "fold 0 => train acc : 92.00| train loss : 0.31| valid acc : 71.00| valid loss : 0.68\n"
          ]
        },
        {
          "output_type": "stream",
          "name": "stderr",
          "text": []
        },
        {
          "output_type": "stream",
          "name": "stdout",
          "text": [
            "fold 0 => train acc : 92.00| train loss : 0.33| valid acc : 71.00| valid loss : 0.68\n"
          ]
        },
        {
          "output_type": "stream",
          "name": "stderr",
          "text": []
        },
        {
          "output_type": "stream",
          "name": "stdout",
          "text": [
            "fold 0 => train acc : 100.00| train loss : 0.29| valid acc : 71.00| valid loss : 0.68\n"
          ]
        },
        {
          "output_type": "stream",
          "name": "stderr",
          "text": []
        },
        {
          "output_type": "stream",
          "name": "stdout",
          "text": [
            "fold 0 => train acc : 92.00| train loss : 0.31| valid acc : 71.00| valid loss : 0.68\n"
          ]
        },
        {
          "output_type": "stream",
          "name": "stderr",
          "text": []
        },
        {
          "output_type": "stream",
          "name": "stdout",
          "text": [
            "fold 0 => train acc : 100.00| train loss : 0.35| valid acc : 71.00| valid loss : 0.68\n"
          ]
        },
        {
          "output_type": "stream",
          "name": "stderr",
          "text": []
        },
        {
          "output_type": "stream",
          "name": "stdout",
          "text": [
            "fold 0 => train acc : 85.00| train loss : 0.40| valid acc : 71.00| valid loss : 0.68\n"
          ]
        },
        {
          "output_type": "stream",
          "name": "stderr",
          "text": []
        },
        {
          "output_type": "stream",
          "name": "stdout",
          "text": [
            "fold 0 => train acc : 85.00| train loss : 0.31| valid acc : 71.00| valid loss : 0.68\n"
          ]
        },
        {
          "output_type": "stream",
          "name": "stderr",
          "text": []
        },
        {
          "output_type": "stream",
          "name": "stdout",
          "text": [
            "fold 0 => train acc : 92.00| train loss : 0.33| valid acc : 71.00| valid loss : 0.68\n"
          ]
        },
        {
          "output_type": "stream",
          "name": "stderr",
          "text": []
        },
        {
          "output_type": "stream",
          "name": "stdout",
          "text": [
            "fold 0 => train acc : 85.00| train loss : 0.37| valid acc : 71.00| valid loss : 0.68\n"
          ]
        },
        {
          "output_type": "stream",
          "name": "stderr",
          "text": []
        },
        {
          "output_type": "stream",
          "name": "stdout",
          "text": [
            "fold 0 => train acc : 85.00| train loss : 0.31| valid acc : 71.00| valid loss : 0.68\n"
          ]
        },
        {
          "output_type": "stream",
          "name": "stderr",
          "text": []
        },
        {
          "output_type": "stream",
          "name": "stdout",
          "text": [
            "fold 0 => train acc : 77.00| train loss : 0.36| valid acc : 71.00| valid loss : 0.68\n"
          ]
        },
        {
          "output_type": "stream",
          "name": "stderr",
          "text": []
        },
        {
          "output_type": "stream",
          "name": "stdout",
          "text": [
            "fold 0 => train acc : 85.00| train loss : 0.35| valid acc : 71.00| valid loss : 0.68\n"
          ]
        },
        {
          "output_type": "stream",
          "name": "stderr",
          "text": []
        },
        {
          "output_type": "stream",
          "name": "stdout",
          "text": [
            "fold 0 => train acc : 92.00| train loss : 0.36| valid acc : 71.00| valid loss : 0.68\n"
          ]
        },
        {
          "output_type": "stream",
          "name": "stderr",
          "text": []
        },
        {
          "output_type": "stream",
          "name": "stdout",
          "text": [
            "fold 0 => train acc : 100.00| train loss : 0.35| valid acc : 71.00| valid loss : 0.68\n"
          ]
        },
        {
          "output_type": "stream",
          "name": "stderr",
          "text": []
        },
        {
          "output_type": "stream",
          "name": "stdout",
          "text": [
            "fold 0 => train acc : 92.00| train loss : 0.34| valid acc : 71.00| valid loss : 0.68\n"
          ]
        },
        {
          "output_type": "stream",
          "name": "stderr",
          "text": []
        },
        {
          "output_type": "stream",
          "name": "stdout",
          "text": [
            "fold 0 => train acc : 92.00| train loss : 0.38| valid acc : 71.00| valid loss : 0.68\n"
          ]
        },
        {
          "output_type": "stream",
          "name": "stderr",
          "text": []
        },
        {
          "output_type": "stream",
          "name": "stdout",
          "text": [
            "fold 0 => train acc : 85.00| train loss : 0.35| valid acc : 71.00| valid loss : 0.68\n"
          ]
        },
        {
          "output_type": "stream",
          "name": "stderr",
          "text": []
        },
        {
          "output_type": "stream",
          "name": "stdout",
          "text": [
            "fold 0 => train acc : 92.00| train loss : 0.33| valid acc : 71.00| valid loss : 0.68\n"
          ]
        },
        {
          "output_type": "stream",
          "name": "stderr",
          "text": []
        },
        {
          "output_type": "stream",
          "name": "stdout",
          "text": [
            "fold 0 => train acc : 92.00| train loss : 0.34| valid acc : 71.00| valid loss : 0.68\n"
          ]
        },
        {
          "output_type": "stream",
          "name": "stderr",
          "text": []
        },
        {
          "output_type": "stream",
          "name": "stdout",
          "text": [
            "fold 0 => train acc : 85.00| train loss : 0.37| valid acc : 71.00| valid loss : 0.68\n"
          ]
        },
        {
          "output_type": "stream",
          "name": "stderr",
          "text": []
        },
        {
          "output_type": "stream",
          "name": "stdout",
          "text": [
            "fold 0 => train acc : 92.00| train loss : 0.33| valid acc : 71.00| valid loss : 0.68\n"
          ]
        },
        {
          "output_type": "stream",
          "name": "stderr",
          "text": []
        },
        {
          "output_type": "stream",
          "name": "stdout",
          "text": [
            "fold 0 => train acc : 100.00| train loss : 0.33| valid acc : 71.00| valid loss : 0.68\n"
          ]
        },
        {
          "output_type": "stream",
          "name": "stderr",
          "text": []
        },
        {
          "output_type": "stream",
          "name": "stdout",
          "text": [
            "fold 0 => train acc : 92.00| train loss : 0.38| valid acc : 71.00| valid loss : 0.68\n"
          ]
        },
        {
          "output_type": "stream",
          "name": "stderr",
          "text": []
        },
        {
          "output_type": "stream",
          "name": "stdout",
          "text": [
            "fold 0 => train acc : 100.00| train loss : 0.32| valid acc : 71.00| valid loss : 0.68\n"
          ]
        },
        {
          "output_type": "stream",
          "name": "stderr",
          "text": []
        },
        {
          "output_type": "stream",
          "name": "stdout",
          "text": [
            "fold 0 => train acc : 85.00| train loss : 0.37| valid acc : 71.00| valid loss : 0.68\n"
          ]
        },
        {
          "output_type": "stream",
          "name": "stderr",
          "text": []
        },
        {
          "output_type": "stream",
          "name": "stdout",
          "text": [
            "fold 0 => train acc : 92.00| train loss : 0.36| valid acc : 71.00| valid loss : 0.68\n"
          ]
        },
        {
          "output_type": "stream",
          "name": "stderr",
          "text": []
        },
        {
          "output_type": "stream",
          "name": "stdout",
          "text": [
            "fold 0 => train acc : 77.00| train loss : 0.38| valid acc : 71.00| valid loss : 0.68\n"
          ]
        },
        {
          "output_type": "stream",
          "name": "stderr",
          "text": []
        },
        {
          "output_type": "stream",
          "name": "stdout",
          "text": [
            "fold 0 => train acc : 92.00| train loss : 0.34| valid acc : 71.00| valid loss : 0.68\n"
          ]
        },
        {
          "output_type": "stream",
          "name": "stderr",
          "text": []
        },
        {
          "output_type": "stream",
          "name": "stdout",
          "text": [
            "fold 0 => train acc : 100.00| train loss : 0.34| valid acc : 71.00| valid loss : 0.68\n"
          ]
        },
        {
          "output_type": "stream",
          "name": "stderr",
          "text": []
        },
        {
          "output_type": "stream",
          "name": "stdout",
          "text": [
            "fold 0 => train acc : 100.00| train loss : 0.30| valid acc : 71.00| valid loss : 0.68\n"
          ]
        },
        {
          "output_type": "stream",
          "name": "stderr",
          "text": []
        },
        {
          "output_type": "stream",
          "name": "stdout",
          "text": [
            "fold 0 => train acc : 92.00| train loss : 0.32| valid acc : 71.00| valid loss : 0.68\n"
          ]
        },
        {
          "output_type": "stream",
          "name": "stderr",
          "text": []
        },
        {
          "output_type": "stream",
          "name": "stdout",
          "text": [
            "fold 0 => train acc : 85.00| train loss : 0.36| valid acc : 71.00| valid loss : 0.68\n"
          ]
        },
        {
          "output_type": "stream",
          "name": "stderr",
          "text": []
        },
        {
          "output_type": "stream",
          "name": "stdout",
          "text": [
            "fold 0 => train acc : 92.00| train loss : 0.34| valid acc : 71.00| valid loss : 0.68\n"
          ]
        },
        {
          "output_type": "stream",
          "name": "stderr",
          "text": []
        },
        {
          "output_type": "stream",
          "name": "stdout",
          "text": [
            "fold 0 => train acc : 92.00| train loss : 0.31| valid acc : 71.00| valid loss : 0.68\n"
          ]
        },
        {
          "output_type": "stream",
          "name": "stderr",
          "text": []
        },
        {
          "output_type": "stream",
          "name": "stdout",
          "text": [
            "fold 0 => train acc : 100.00| train loss : 0.33| valid acc : 71.00| valid loss : 0.68\n"
          ]
        },
        {
          "output_type": "stream",
          "name": "stderr",
          "text": []
        },
        {
          "output_type": "stream",
          "name": "stdout",
          "text": [
            "fold 0 => train acc : 92.00| train loss : 0.32| valid acc : 71.00| valid loss : 0.68\n"
          ]
        },
        {
          "output_type": "stream",
          "name": "stderr",
          "text": []
        },
        {
          "output_type": "stream",
          "name": "stdout",
          "text": [
            "fold 0 => train acc : 92.00| train loss : 0.38| valid acc : 71.00| valid loss : 0.68\n"
          ]
        },
        {
          "output_type": "stream",
          "name": "stderr",
          "text": []
        },
        {
          "output_type": "stream",
          "name": "stdout",
          "text": [
            "fold 1 => train acc : 50.00| train loss : 0.71| valid acc : 77.00| valid loss : 0.67\n"
          ]
        },
        {
          "output_type": "stream",
          "name": "stderr",
          "text": []
        },
        {
          "output_type": "stream",
          "name": "stdout",
          "text": [
            "fold 1 => train acc : 57.00| train loss : 0.67| valid acc : 77.00| valid loss : 0.66\n"
          ]
        },
        {
          "output_type": "stream",
          "name": "stderr",
          "text": []
        },
        {
          "output_type": "stream",
          "name": "stdout",
          "text": [
            "fold 1 => train acc : 71.00| train loss : 0.62| valid acc : 85.00| valid loss : 0.65\n"
          ]
        },
        {
          "output_type": "stream",
          "name": "stderr",
          "text": []
        },
        {
          "output_type": "stream",
          "name": "stdout",
          "text": [
            "fold 1 => train acc : 71.00| train loss : 0.59| valid acc : 85.00| valid loss : 0.65\n"
          ]
        },
        {
          "output_type": "stream",
          "name": "stderr",
          "text": []
        },
        {
          "output_type": "stream",
          "name": "stdout",
          "text": [
            "fold 1 => train acc : 86.00| train loss : 0.51| valid acc : 77.00| valid loss : 0.65\n"
          ]
        },
        {
          "output_type": "stream",
          "name": "stderr",
          "text": []
        },
        {
          "output_type": "stream",
          "name": "stdout",
          "text": [
            "fold 1 => train acc : 86.00| train loss : 0.56| valid acc : 77.00| valid loss : 0.64\n"
          ]
        },
        {
          "output_type": "stream",
          "name": "stderr",
          "text": []
        },
        {
          "output_type": "stream",
          "name": "stdout",
          "text": [
            "fold 1 => train acc : 86.00| train loss : 0.54| valid acc : 77.00| valid loss : 0.64\n"
          ]
        },
        {
          "output_type": "stream",
          "name": "stderr",
          "text": []
        },
        {
          "output_type": "stream",
          "name": "stdout",
          "text": [
            "fold 1 => train acc : 93.00| train loss : 0.55| valid acc : 77.00| valid loss : 0.64\n"
          ]
        },
        {
          "output_type": "stream",
          "name": "stderr",
          "text": []
        },
        {
          "output_type": "stream",
          "name": "stdout",
          "text": [
            "fold 1 => train acc : 86.00| train loss : 0.46| valid acc : 77.00| valid loss : 0.64\n"
          ]
        },
        {
          "output_type": "stream",
          "name": "stderr",
          "text": []
        },
        {
          "output_type": "stream",
          "name": "stdout",
          "text": [
            "fold 1 => train acc : 86.00| train loss : 0.47| valid acc : 77.00| valid loss : 0.64\n"
          ]
        },
        {
          "output_type": "stream",
          "name": "stderr",
          "text": []
        },
        {
          "output_type": "stream",
          "name": "stdout",
          "text": [
            "fold 1 => train acc : 86.00| train loss : 0.47| valid acc : 77.00| valid loss : 0.64\n"
          ]
        },
        {
          "output_type": "stream",
          "name": "stderr",
          "text": []
        },
        {
          "output_type": "stream",
          "name": "stdout",
          "text": [
            "fold 1 => train acc : 86.00| train loss : 0.47| valid acc : 77.00| valid loss : 0.64\n"
          ]
        },
        {
          "output_type": "stream",
          "name": "stderr",
          "text": []
        },
        {
          "output_type": "stream",
          "name": "stdout",
          "text": [
            "fold 1 => train acc : 86.00| train loss : 0.44| valid acc : 77.00| valid loss : 0.64\n"
          ]
        },
        {
          "output_type": "stream",
          "name": "stderr",
          "text": []
        },
        {
          "output_type": "stream",
          "name": "stdout",
          "text": [
            "fold 1 => train acc : 86.00| train loss : 0.41| valid acc : 77.00| valid loss : 0.64\n"
          ]
        },
        {
          "output_type": "stream",
          "name": "stderr",
          "text": []
        },
        {
          "output_type": "stream",
          "name": "stdout",
          "text": [
            "fold 1 => train acc : 93.00| train loss : 0.43| valid acc : 77.00| valid loss : 0.64\n"
          ]
        },
        {
          "output_type": "stream",
          "name": "stderr",
          "text": []
        },
        {
          "output_type": "stream",
          "name": "stdout",
          "text": [
            "fold 1 => train acc : 100.00| train loss : 0.38| valid acc : 77.00| valid loss : 0.64\n"
          ]
        },
        {
          "output_type": "stream",
          "name": "stderr",
          "text": []
        },
        {
          "output_type": "stream",
          "name": "stdout",
          "text": [
            "fold 1 => train acc : 93.00| train loss : 0.43| valid acc : 77.00| valid loss : 0.64\n"
          ]
        },
        {
          "output_type": "stream",
          "name": "stderr",
          "text": []
        },
        {
          "output_type": "stream",
          "name": "stdout",
          "text": [
            "fold 1 => train acc : 93.00| train loss : 0.38| valid acc : 77.00| valid loss : 0.64\n"
          ]
        },
        {
          "output_type": "stream",
          "name": "stderr",
          "text": []
        },
        {
          "output_type": "stream",
          "name": "stdout",
          "text": [
            "fold 1 => train acc : 93.00| train loss : 0.40| valid acc : 77.00| valid loss : 0.64\n"
          ]
        },
        {
          "output_type": "stream",
          "name": "stderr",
          "text": []
        },
        {
          "output_type": "stream",
          "name": "stdout",
          "text": [
            "fold 1 => train acc : 93.00| train loss : 0.37| valid acc : 77.00| valid loss : 0.64\n"
          ]
        },
        {
          "output_type": "stream",
          "name": "stderr",
          "text": []
        },
        {
          "output_type": "stream",
          "name": "stdout",
          "text": [
            "fold 1 => train acc : 100.00| train loss : 0.37| valid acc : 77.00| valid loss : 0.64\n"
          ]
        },
        {
          "output_type": "stream",
          "name": "stderr",
          "text": []
        },
        {
          "output_type": "stream",
          "name": "stdout",
          "text": [
            "fold 1 => train acc : 93.00| train loss : 0.40| valid acc : 77.00| valid loss : 0.64\n"
          ]
        },
        {
          "output_type": "stream",
          "name": "stderr",
          "text": []
        },
        {
          "output_type": "stream",
          "name": "stdout",
          "text": [
            "fold 1 => train acc : 93.00| train loss : 0.45| valid acc : 77.00| valid loss : 0.64\n"
          ]
        },
        {
          "output_type": "stream",
          "name": "stderr",
          "text": []
        },
        {
          "output_type": "stream",
          "name": "stdout",
          "text": [
            "fold 1 => train acc : 100.00| train loss : 0.35| valid acc : 77.00| valid loss : 0.64\n"
          ]
        },
        {
          "output_type": "stream",
          "name": "stderr",
          "text": []
        },
        {
          "output_type": "stream",
          "name": "stdout",
          "text": [
            "fold 1 => train acc : 93.00| train loss : 0.46| valid acc : 77.00| valid loss : 0.64\n"
          ]
        },
        {
          "output_type": "stream",
          "name": "stderr",
          "text": []
        },
        {
          "output_type": "stream",
          "name": "stdout",
          "text": [
            "fold 1 => train acc : 100.00| train loss : 0.35| valid acc : 77.00| valid loss : 0.64\n"
          ]
        },
        {
          "output_type": "stream",
          "name": "stderr",
          "text": []
        },
        {
          "output_type": "stream",
          "name": "stdout",
          "text": [
            "fold 1 => train acc : 93.00| train loss : 0.39| valid acc : 77.00| valid loss : 0.64\n"
          ]
        },
        {
          "output_type": "stream",
          "name": "stderr",
          "text": []
        },
        {
          "output_type": "stream",
          "name": "stdout",
          "text": [
            "fold 1 => train acc : 93.00| train loss : 0.40| valid acc : 77.00| valid loss : 0.64\n"
          ]
        },
        {
          "output_type": "stream",
          "name": "stderr",
          "text": []
        },
        {
          "output_type": "stream",
          "name": "stdout",
          "text": [
            "fold 1 => train acc : 86.00| train loss : 0.44| valid acc : 77.00| valid loss : 0.64\n"
          ]
        },
        {
          "output_type": "stream",
          "name": "stderr",
          "text": []
        },
        {
          "output_type": "stream",
          "name": "stdout",
          "text": [
            "fold 1 => train acc : 86.00| train loss : 0.41| valid acc : 77.00| valid loss : 0.64\n"
          ]
        },
        {
          "output_type": "stream",
          "name": "stderr",
          "text": []
        },
        {
          "output_type": "stream",
          "name": "stdout",
          "text": [
            "fold 1 => train acc : 93.00| train loss : 0.38| valid acc : 77.00| valid loss : 0.64\n"
          ]
        },
        {
          "output_type": "stream",
          "name": "stderr",
          "text": []
        },
        {
          "output_type": "stream",
          "name": "stdout",
          "text": [
            "fold 1 => train acc : 93.00| train loss : 0.33| valid acc : 77.00| valid loss : 0.64\n"
          ]
        },
        {
          "output_type": "stream",
          "name": "stderr",
          "text": []
        },
        {
          "output_type": "stream",
          "name": "stdout",
          "text": [
            "fold 1 => train acc : 93.00| train loss : 0.37| valid acc : 77.00| valid loss : 0.64\n"
          ]
        },
        {
          "output_type": "stream",
          "name": "stderr",
          "text": []
        },
        {
          "output_type": "stream",
          "name": "stdout",
          "text": [
            "fold 1 => train acc : 93.00| train loss : 0.37| valid acc : 77.00| valid loss : 0.64\n"
          ]
        },
        {
          "output_type": "stream",
          "name": "stderr",
          "text": []
        },
        {
          "output_type": "stream",
          "name": "stdout",
          "text": [
            "fold 1 => train acc : 93.00| train loss : 0.44| valid acc : 77.00| valid loss : 0.64\n"
          ]
        },
        {
          "output_type": "stream",
          "name": "stderr",
          "text": []
        },
        {
          "output_type": "stream",
          "name": "stdout",
          "text": [
            "fold 1 => train acc : 93.00| train loss : 0.34| valid acc : 77.00| valid loss : 0.64\n"
          ]
        },
        {
          "output_type": "stream",
          "name": "stderr",
          "text": []
        },
        {
          "output_type": "stream",
          "name": "stdout",
          "text": [
            "fold 1 => train acc : 93.00| train loss : 0.39| valid acc : 77.00| valid loss : 0.64\n"
          ]
        },
        {
          "output_type": "stream",
          "name": "stderr",
          "text": []
        },
        {
          "output_type": "stream",
          "name": "stdout",
          "text": [
            "fold 1 => train acc : 93.00| train loss : 0.39| valid acc : 77.00| valid loss : 0.64\n"
          ]
        },
        {
          "output_type": "stream",
          "name": "stderr",
          "text": []
        },
        {
          "output_type": "stream",
          "name": "stdout",
          "text": [
            "fold 1 => train acc : 100.00| train loss : 0.39| valid acc : 77.00| valid loss : 0.64\n"
          ]
        },
        {
          "output_type": "stream",
          "name": "stderr",
          "text": []
        },
        {
          "output_type": "stream",
          "name": "stdout",
          "text": [
            "fold 1 => train acc : 86.00| train loss : 0.42| valid acc : 77.00| valid loss : 0.64\n"
          ]
        },
        {
          "output_type": "stream",
          "name": "stderr",
          "text": []
        },
        {
          "output_type": "stream",
          "name": "stdout",
          "text": [
            "fold 1 => train acc : 86.00| train loss : 0.42| valid acc : 77.00| valid loss : 0.64\n"
          ]
        },
        {
          "output_type": "stream",
          "name": "stderr",
          "text": []
        },
        {
          "output_type": "stream",
          "name": "stdout",
          "text": [
            "fold 1 => train acc : 93.00| train loss : 0.40| valid acc : 77.00| valid loss : 0.64\n"
          ]
        },
        {
          "output_type": "stream",
          "name": "stderr",
          "text": []
        },
        {
          "output_type": "stream",
          "name": "stdout",
          "text": [
            "fold 1 => train acc : 93.00| train loss : 0.33| valid acc : 77.00| valid loss : 0.64\n"
          ]
        },
        {
          "output_type": "stream",
          "name": "stderr",
          "text": []
        },
        {
          "output_type": "stream",
          "name": "stdout",
          "text": [
            "fold 1 => train acc : 100.00| train loss : 0.34| valid acc : 77.00| valid loss : 0.64\n"
          ]
        },
        {
          "output_type": "stream",
          "name": "stderr",
          "text": []
        },
        {
          "output_type": "stream",
          "name": "stdout",
          "text": [
            "fold 1 => train acc : 100.00| train loss : 0.33| valid acc : 77.00| valid loss : 0.64\n"
          ]
        },
        {
          "output_type": "stream",
          "name": "stderr",
          "text": []
        },
        {
          "output_type": "stream",
          "name": "stdout",
          "text": [
            "fold 1 => train acc : 100.00| train loss : 0.33| valid acc : 77.00| valid loss : 0.64\n"
          ]
        },
        {
          "output_type": "stream",
          "name": "stderr",
          "text": []
        },
        {
          "output_type": "stream",
          "name": "stdout",
          "text": [
            "fold 1 => train acc : 93.00| train loss : 0.37| valid acc : 77.00| valid loss : 0.64\n"
          ]
        },
        {
          "output_type": "stream",
          "name": "stderr",
          "text": []
        },
        {
          "output_type": "stream",
          "name": "stdout",
          "text": [
            "fold 1 => train acc : 86.00| train loss : 0.44| valid acc : 77.00| valid loss : 0.64\n"
          ]
        },
        {
          "output_type": "stream",
          "name": "stderr",
          "text": []
        },
        {
          "output_type": "stream",
          "name": "stdout",
          "text": [
            "fold 1 => train acc : 100.00| train loss : 0.38| valid acc : 77.00| valid loss : 0.64\n"
          ]
        },
        {
          "output_type": "stream",
          "name": "stderr",
          "text": []
        },
        {
          "output_type": "stream",
          "name": "stdout",
          "text": [
            "fold 1 => train acc : 100.00| train loss : 0.37| valid acc : 77.00| valid loss : 0.64\n"
          ]
        },
        {
          "output_type": "stream",
          "name": "stderr",
          "text": []
        },
        {
          "output_type": "stream",
          "name": "stdout",
          "text": [
            "fold 1 => train acc : 93.00| train loss : 0.44| valid acc : 77.00| valid loss : 0.64\n"
          ]
        },
        {
          "output_type": "stream",
          "name": "stderr",
          "text": []
        },
        {
          "output_type": "stream",
          "name": "stdout",
          "text": [
            "fold 1 => train acc : 100.00| train loss : 0.32| valid acc : 77.00| valid loss : 0.64\n"
          ]
        },
        {
          "output_type": "stream",
          "name": "stderr",
          "text": []
        },
        {
          "output_type": "stream",
          "name": "stdout",
          "text": [
            "fold 1 => train acc : 93.00| train loss : 0.36| valid acc : 77.00| valid loss : 0.64\n"
          ]
        },
        {
          "output_type": "stream",
          "name": "stderr",
          "text": []
        },
        {
          "output_type": "stream",
          "name": "stdout",
          "text": [
            "fold 1 => train acc : 93.00| train loss : 0.39| valid acc : 77.00| valid loss : 0.64\n"
          ]
        },
        {
          "output_type": "stream",
          "name": "stderr",
          "text": []
        },
        {
          "output_type": "stream",
          "name": "stdout",
          "text": [
            "fold 1 => train acc : 93.00| train loss : 0.43| valid acc : 77.00| valid loss : 0.64\n"
          ]
        },
        {
          "output_type": "stream",
          "name": "stderr",
          "text": []
        },
        {
          "output_type": "stream",
          "name": "stdout",
          "text": [
            "fold 1 => train acc : 100.00| train loss : 0.36| valid acc : 77.00| valid loss : 0.64\n"
          ]
        },
        {
          "output_type": "stream",
          "name": "stderr",
          "text": []
        },
        {
          "output_type": "stream",
          "name": "stdout",
          "text": [
            "fold 1 => train acc : 93.00| train loss : 0.34| valid acc : 77.00| valid loss : 0.64\n"
          ]
        },
        {
          "output_type": "stream",
          "name": "stderr",
          "text": []
        },
        {
          "output_type": "stream",
          "name": "stdout",
          "text": [
            "fold 1 => train acc : 100.00| train loss : 0.38| valid acc : 77.00| valid loss : 0.64\n"
          ]
        },
        {
          "output_type": "stream",
          "name": "stderr",
          "text": []
        },
        {
          "output_type": "stream",
          "name": "stdout",
          "text": [
            "fold 1 => train acc : 93.00| train loss : 0.41| valid acc : 77.00| valid loss : 0.64\n"
          ]
        },
        {
          "output_type": "stream",
          "name": "stderr",
          "text": []
        },
        {
          "output_type": "stream",
          "name": "stdout",
          "text": [
            "fold 1 => train acc : 100.00| train loss : 0.37| valid acc : 77.00| valid loss : 0.64\n"
          ]
        },
        {
          "output_type": "stream",
          "name": "stderr",
          "text": []
        },
        {
          "output_type": "stream",
          "name": "stdout",
          "text": [
            "fold 1 => train acc : 100.00| train loss : 0.36| valid acc : 77.00| valid loss : 0.64\n"
          ]
        },
        {
          "output_type": "stream",
          "name": "stderr",
          "text": []
        },
        {
          "output_type": "stream",
          "name": "stdout",
          "text": [
            "fold 1 => train acc : 100.00| train loss : 0.34| valid acc : 77.00| valid loss : 0.64\n"
          ]
        },
        {
          "output_type": "stream",
          "name": "stderr",
          "text": []
        },
        {
          "output_type": "stream",
          "name": "stdout",
          "text": [
            "fold 1 => train acc : 100.00| train loss : 0.37| valid acc : 77.00| valid loss : 0.64\n"
          ]
        },
        {
          "output_type": "stream",
          "name": "stderr",
          "text": []
        },
        {
          "output_type": "stream",
          "name": "stdout",
          "text": [
            "fold 1 => train acc : 93.00| train loss : 0.37| valid acc : 77.00| valid loss : 0.64\n"
          ]
        },
        {
          "output_type": "stream",
          "name": "stderr",
          "text": []
        },
        {
          "output_type": "stream",
          "name": "stdout",
          "text": [
            "fold 1 => train acc : 93.00| train loss : 0.39| valid acc : 77.00| valid loss : 0.64\n"
          ]
        },
        {
          "output_type": "stream",
          "name": "stderr",
          "text": []
        },
        {
          "output_type": "stream",
          "name": "stdout",
          "text": [
            "fold 1 => train acc : 100.00| train loss : 0.35| valid acc : 77.00| valid loss : 0.64\n"
          ]
        },
        {
          "output_type": "stream",
          "name": "stderr",
          "text": []
        },
        {
          "output_type": "stream",
          "name": "stdout",
          "text": [
            "fold 1 => train acc : 100.00| train loss : 0.40| valid acc : 77.00| valid loss : 0.64\n"
          ]
        },
        {
          "output_type": "stream",
          "name": "stderr",
          "text": []
        },
        {
          "output_type": "stream",
          "name": "stdout",
          "text": [
            "fold 1 => train acc : 93.00| train loss : 0.39| valid acc : 77.00| valid loss : 0.64\n"
          ]
        },
        {
          "output_type": "stream",
          "name": "stderr",
          "text": []
        },
        {
          "output_type": "stream",
          "name": "stdout",
          "text": [
            "fold 1 => train acc : 93.00| train loss : 0.37| valid acc : 77.00| valid loss : 0.64\n"
          ]
        },
        {
          "output_type": "stream",
          "name": "stderr",
          "text": []
        },
        {
          "output_type": "stream",
          "name": "stdout",
          "text": [
            "fold 1 => train acc : 100.00| train loss : 0.40| valid acc : 77.00| valid loss : 0.64\n"
          ]
        },
        {
          "output_type": "stream",
          "name": "stderr",
          "text": []
        },
        {
          "output_type": "stream",
          "name": "stdout",
          "text": [
            "fold 1 => train acc : 86.00| train loss : 0.42| valid acc : 77.00| valid loss : 0.64\n"
          ]
        },
        {
          "output_type": "stream",
          "name": "stderr",
          "text": []
        },
        {
          "output_type": "stream",
          "name": "stdout",
          "text": [
            "fold 1 => train acc : 93.00| train loss : 0.35| valid acc : 77.00| valid loss : 0.64\n"
          ]
        },
        {
          "output_type": "stream",
          "name": "stderr",
          "text": []
        },
        {
          "output_type": "stream",
          "name": "stdout",
          "text": [
            "fold 1 => train acc : 93.00| train loss : 0.36| valid acc : 77.00| valid loss : 0.64\n"
          ]
        },
        {
          "output_type": "stream",
          "name": "stderr",
          "text": []
        },
        {
          "output_type": "stream",
          "name": "stdout",
          "text": [
            "fold 1 => train acc : 93.00| train loss : 0.40| valid acc : 77.00| valid loss : 0.64\n"
          ]
        },
        {
          "output_type": "stream",
          "name": "stderr",
          "text": []
        },
        {
          "output_type": "stream",
          "name": "stdout",
          "text": [
            "fold 1 => train acc : 100.00| train loss : 0.32| valid acc : 77.00| valid loss : 0.64\n"
          ]
        },
        {
          "output_type": "stream",
          "name": "stderr",
          "text": []
        },
        {
          "output_type": "stream",
          "name": "stdout",
          "text": [
            "fold 1 => train acc : 100.00| train loss : 0.42| valid acc : 77.00| valid loss : 0.64\n"
          ]
        },
        {
          "output_type": "stream",
          "name": "stderr",
          "text": []
        },
        {
          "output_type": "stream",
          "name": "stdout",
          "text": [
            "fold 1 => train acc : 93.00| train loss : 0.36| valid acc : 77.00| valid loss : 0.64\n"
          ]
        },
        {
          "output_type": "stream",
          "name": "stderr",
          "text": []
        },
        {
          "output_type": "stream",
          "name": "stdout",
          "text": [
            "fold 1 => train acc : 100.00| train loss : 0.39| valid acc : 77.00| valid loss : 0.64\n"
          ]
        },
        {
          "output_type": "stream",
          "name": "stderr",
          "text": []
        },
        {
          "output_type": "stream",
          "name": "stdout",
          "text": [
            "fold 1 => train acc : 100.00| train loss : 0.30| valid acc : 77.00| valid loss : 0.64\n"
          ]
        },
        {
          "output_type": "stream",
          "name": "stderr",
          "text": []
        },
        {
          "output_type": "stream",
          "name": "stdout",
          "text": [
            "fold 1 => train acc : 100.00| train loss : 0.33| valid acc : 77.00| valid loss : 0.64\n"
          ]
        },
        {
          "output_type": "stream",
          "name": "stderr",
          "text": []
        },
        {
          "output_type": "stream",
          "name": "stdout",
          "text": [
            "fold 1 => train acc : 93.00| train loss : 0.41| valid acc : 77.00| valid loss : 0.64\n"
          ]
        },
        {
          "output_type": "stream",
          "name": "stderr",
          "text": []
        },
        {
          "output_type": "stream",
          "name": "stdout",
          "text": [
            "fold 1 => train acc : 100.00| train loss : 0.37| valid acc : 77.00| valid loss : 0.64\n"
          ]
        },
        {
          "output_type": "stream",
          "name": "stderr",
          "text": []
        },
        {
          "output_type": "stream",
          "name": "stdout",
          "text": [
            "fold 1 => train acc : 93.00| train loss : 0.39| valid acc : 77.00| valid loss : 0.64\n"
          ]
        },
        {
          "output_type": "stream",
          "name": "stderr",
          "text": []
        },
        {
          "output_type": "stream",
          "name": "stdout",
          "text": [
            "fold 1 => train acc : 93.00| train loss : 0.37| valid acc : 77.00| valid loss : 0.64\n"
          ]
        },
        {
          "output_type": "stream",
          "name": "stderr",
          "text": []
        },
        {
          "output_type": "stream",
          "name": "stdout",
          "text": [
            "fold 1 => train acc : 100.00| train loss : 0.42| valid acc : 77.00| valid loss : 0.64\n"
          ]
        },
        {
          "output_type": "stream",
          "name": "stderr",
          "text": []
        },
        {
          "output_type": "stream",
          "name": "stdout",
          "text": [
            "fold 1 => train acc : 93.00| train loss : 0.38| valid acc : 77.00| valid loss : 0.64\n"
          ]
        },
        {
          "output_type": "stream",
          "name": "stderr",
          "text": []
        },
        {
          "output_type": "stream",
          "name": "stdout",
          "text": [
            "fold 1 => train acc : 100.00| train loss : 0.39| valid acc : 77.00| valid loss : 0.64\n"
          ]
        },
        {
          "output_type": "stream",
          "name": "stderr",
          "text": []
        },
        {
          "output_type": "stream",
          "name": "stdout",
          "text": [
            "fold 1 => train acc : 86.00| train loss : 0.41| valid acc : 77.00| valid loss : 0.64\n"
          ]
        },
        {
          "output_type": "stream",
          "name": "stderr",
          "text": []
        },
        {
          "output_type": "stream",
          "name": "stdout",
          "text": [
            "fold 1 => train acc : 93.00| train loss : 0.35| valid acc : 77.00| valid loss : 0.64\n"
          ]
        },
        {
          "output_type": "stream",
          "name": "stderr",
          "text": []
        },
        {
          "output_type": "stream",
          "name": "stdout",
          "text": [
            "fold 1 => train acc : 93.00| train loss : 0.42| valid acc : 77.00| valid loss : 0.64\n"
          ]
        },
        {
          "output_type": "stream",
          "name": "stderr",
          "text": []
        },
        {
          "output_type": "stream",
          "name": "stdout",
          "text": [
            "fold 1 => train acc : 93.00| train loss : 0.38| valid acc : 77.00| valid loss : 0.64\n"
          ]
        },
        {
          "output_type": "stream",
          "name": "stderr",
          "text": []
        },
        {
          "output_type": "stream",
          "name": "stdout",
          "text": [
            "fold 1 => train acc : 100.00| train loss : 0.34| valid acc : 77.00| valid loss : 0.64\n"
          ]
        },
        {
          "output_type": "stream",
          "name": "stderr",
          "text": []
        },
        {
          "output_type": "stream",
          "name": "stdout",
          "text": [
            "fold 1 => train acc : 93.00| train loss : 0.39| valid acc : 77.00| valid loss : 0.64\n"
          ]
        },
        {
          "output_type": "stream",
          "name": "stderr",
          "text": []
        },
        {
          "output_type": "stream",
          "name": "stdout",
          "text": [
            "fold 1 => train acc : 93.00| train loss : 0.32| valid acc : 77.00| valid loss : 0.64\n"
          ]
        },
        {
          "output_type": "stream",
          "name": "stderr",
          "text": []
        },
        {
          "output_type": "stream",
          "name": "stdout",
          "text": [
            "fold 1 => train acc : 100.00| train loss : 0.39| valid acc : 77.00| valid loss : 0.64\n"
          ]
        },
        {
          "output_type": "stream",
          "name": "stderr",
          "text": []
        },
        {
          "output_type": "stream",
          "name": "stdout",
          "text": [
            "fold 1 => train acc : 93.00| train loss : 0.36| valid acc : 77.00| valid loss : 0.64\n"
          ]
        },
        {
          "output_type": "stream",
          "name": "stderr",
          "text": []
        },
        {
          "output_type": "stream",
          "name": "stdout",
          "text": [
            "fold 1 => train acc : 79.00| train loss : 0.40| valid acc : 77.00| valid loss : 0.64\n"
          ]
        },
        {
          "output_type": "stream",
          "name": "stderr",
          "text": []
        },
        {
          "output_type": "stream",
          "name": "stdout",
          "text": [
            "fold 1 => train acc : 86.00| train loss : 0.40| valid acc : 77.00| valid loss : 0.64\n"
          ]
        },
        {
          "output_type": "stream",
          "name": "stderr",
          "text": []
        },
        {
          "output_type": "stream",
          "name": "stdout",
          "text": [
            "fold 1 => train acc : 100.00| train loss : 0.39| valid acc : 77.00| valid loss : 0.64\n"
          ]
        },
        {
          "output_type": "stream",
          "name": "stderr",
          "text": [
            "                                                                                "
          ]
        },
        {
          "output_type": "stream",
          "name": "stdout",
          "text": [
            "fold 1 => train acc : 93.00| train loss : 0.41| valid acc : 77.00| valid loss : 0.64\n"
          ]
        },
        {
          "output_type": "stream",
          "name": "stderr",
          "text": [
            "\r"
          ]
        }
      ]
    },
    {
      "cell_type": "code",
      "source": [
        "mean_cv_scores = {k: np.mean(v) for k, v in cv_scores.items()}  \n",
        "print(f\"mean accuracy using 10 foldCV : {mean_cv_scores['Accuracy']:0.2f}\")"
      ],
      "metadata": {
        "colab": {
          "base_uri": "https://localhost:8080/"
        },
        "id": "QZ52JtLbi8mn",
        "outputId": "9ea8a707-5b2b-45f5-d16b-dfea9f842ca1"
      },
      "execution_count": null,
      "outputs": [
        {
          "output_type": "stream",
          "name": "stdout",
          "text": [
            "mean accuracy using 10 foldCV : 74.00\n"
          ]
        }
      ]
    },
    {
      "cell_type": "code",
      "source": [
        "# create model\n",
        "model = NeuralNet(input_size, output_size)\n",
        "\n",
        "# create loss and optimizer\n",
        "criterion = nn.BCELoss()\n",
        "optimizer = torch.optim.Adam(model.parameters(), lr= learning_rate)\n",
        "scheduler = lr_scheduler.StepLR(optimizer, 3, gamma=0.5)\n",
        "total_step = len(train_loader)"
      ],
      "metadata": {
        "id": "CuJ6rnOoi8og"
      },
      "execution_count": null,
      "outputs": []
    },
    {
      "cell_type": "code",
      "source": [
        "model"
      ],
      "metadata": {
        "colab": {
          "base_uri": "https://localhost:8080/"
        },
        "id": "xVnke2Hmi8qX",
        "outputId": "6e5ccc49-ca12-4871-af07-617cdf6c1ba2"
      },
      "execution_count": null,
      "outputs": [
        {
          "output_type": "execute_result",
          "data": {
            "text/plain": [
              "NeuralNet(\n",
              "  (fc): Sequential(\n",
              "    (0): Linear(in_features=24, out_features=100, bias=True)\n",
              "    (1): Dropout(p=0.25, inplace=False)\n",
              "    (2): ReLU()\n",
              "    (3): Linear(in_features=100, out_features=50, bias=True)\n",
              "    (4): Dropout(p=0.5, inplace=False)\n",
              "    (5): ReLU()\n",
              "    (6): Linear(in_features=50, out_features=1, bias=True)\n",
              "    (7): Sigmoid()\n",
              "  )\n",
              ")"
            ]
          },
          "metadata": {},
          "execution_count": 128
        }
      ]
    },
    {
      "cell_type": "code",
      "source": [
        "train_loss, train_acc  = [], []\n",
        "valid_loss, valid_acc = [],[]\n",
        "num_epoch = 100\n",
        "for epoch in range(num_epoch):\n",
        "  train_loss, train_acc = train_fun(model, train_loader)\n",
        "  valid_loss, valid_acc = evaluate(model, validloader) \n",
        "\n",
        "  writer.flush()   \n",
        "  scheduler.step()"
      ],
      "metadata": {
        "colab": {
          "base_uri": "https://localhost:8080/"
        },
        "id": "zkkMRhWKi8sd",
        "outputId": "2f5026c4-4e21-483a-e603-ef403455d375"
      },
      "execution_count": null,
      "outputs": [
        {
          "output_type": "stream",
          "name": "stderr",
          "text": []
        }
      ]
    },
    {
      "cell_type": "code",
      "source": [
        "#Training and validation loss\n",
        "plt.plot(train_loss, label='Training loss')\n",
        "plt.plot(valid_loss, label='Validation loss')\n",
        "\n",
        "plt.legend(frameon=False)\n",
        "plt.xlabel('epoch')\n",
        "plt.ylabel('loss value')\n",
        "plt.title(\"Loss function for each epoch\") \n",
        "plt.show()"
      ],
      "metadata": {
        "colab": {
          "base_uri": "https://localhost:8080/",
          "height": 472
        },
        "id": "MwmTFyhfi8uP",
        "outputId": "673aa283-b9d7-43d5-9372-7e80c10a77e7"
      },
      "execution_count": null,
      "outputs": [
        {
          "output_type": "display_data",
          "data": {
            "text/plain": [
              "<Figure size 640x480 with 1 Axes>"
            ],
            "image/png": "[encoded data removed]"
          },
          "metadata": {}
        }
      ]
    },
    {
      "cell_type": "code",
      "source": [
        "#Training and validation accuracy\n",
        "plt.plot(train_acc, label='Training accuracy')\n",
        "plt.plot(valid_acc, label='Validation accuracy')\n",
        "\n",
        "plt.legend(frameon=False)\n",
        "plt.xlabel('epoch')\n",
        "plt.ylabel('accuracy value')\n",
        "plt.title(\"Accuracy for each epoch\")\n",
        "plt.show()"
      ],
      "metadata": {
        "colab": {
          "base_uri": "https://localhost:8080/",
          "height": 472
        },
        "id": "7t6CZ3bLi8wN",
        "outputId": "a103776b-632c-4dbd-c0f7-d3917711552d"
      },
      "execution_count": null,
      "outputs": [
        {
          "output_type": "display_data",
          "data": {
            "text/plain": [
              "<Figure size 640x480 with 1 Axes>"
            ],
            "image/png": "[encoded data removed]"
          },
          "metadata": {}
        }
      ]
    },
    {
      "cell_type": "code",
      "source": [
        "print(f'training loss on last epoch : {train_loss[-1]}')\n",
        "print(f'validation loss on last epoch : {valid_loss[-1]}')\n",
        "print('-'*20)\n",
        "print(f'training accuracy on last epoch : {train_acc[-1]}')\n",
        "print(f'validation accuracy on last epoch : {valid_acc[-1]}')"
      ],
      "metadata": {
        "colab": {
          "base_uri": "https://localhost:8080/"
        },
        "id": "kReLdwq3i8yc",
        "outputId": "ede7820b-a268-4e78-fab0-b73ef29279e0"
      },
      "execution_count": null,
      "outputs": [
        {
          "output_type": "stream",
          "name": "stdout",
          "text": [
            "training loss on last epoch : 0.18814771249890327\n",
            "validation loss on last epoch : 0.18973925709724426\n",
            "--------------------\n",
            "training accuracy on last epoch : 97.0\n",
            "validation accuracy on last epoch : 92.0\n"
          ]
        }
      ]
    },
    {
      "cell_type": "code",
      "source": [
        "#test the model\n",
        "num_class =2\n",
        "classes = ['0', '1']\n",
        "\n",
        "y_pred_test, y_actual_test = test(model, test_loader)"
      ],
      "metadata": {
        "colab": {
          "base_uri": "https://localhost:8080/"
        },
        "id": "yaIecojsi81_",
        "outputId": "ae7f4fcd-dcf4-4bc4-cbe0-5acf1e495a8a"
      },
      "execution_count": null,
      "outputs": [
        {
          "output_type": "stream",
          "name": "stdout",
          "text": [
            "accuracy of network on the 1 data is : 90.0\n",
            "Accuracy of 0: 100.0 %\n",
            "Accuracy of 1: 75.0 %\n"
          ]
        }
      ]
    },
    {
      "cell_type": "code",
      "source": [
        "y_actual_test = [int(y) for y in y_actual_test]  # Convert to list of integers\n",
        "y_pred_test = [int(y.item()) for y in y_pred_test]  # Convert tensor to integer and then to list of integers"
      ],
      "metadata": {
        "id": "SFq4Rr7mjyT2"
      },
      "execution_count": null,
      "outputs": []
    },
    {
      "cell_type": "code",
      "source": [
        "print(classification_report(y_actual_test, y_pred_test))"
      ],
      "metadata": {
        "colab": {
          "base_uri": "https://localhost:8080/"
        },
        "id": "j4Dzx4dLjyXI",
        "outputId": "55b3dab8-e05c-4f54-e62a-ded0d3aa4c19"
      },
      "execution_count": null,
      "outputs": [
        {
          "output_type": "stream",
          "name": "stdout",
          "text": [
            "              precision    recall  f1-score   support\n",
            "\n",
            "           0       0.86      1.00      0.92         6\n",
            "           1       1.00      0.75      0.86         4\n",
            "\n",
            "    accuracy                           0.90        10\n",
            "   macro avg       0.93      0.88      0.89        10\n",
            "weighted avg       0.91      0.90      0.90        10\n",
            "\n"
          ]
        }
      ]
    },
    {
      "cell_type": "code",
      "source": [
        "print(confusion_matrix(y_actual_test, y_pred_test))\n"
      ],
      "metadata": {
        "colab": {
          "base_uri": "https://localhost:8080/"
        },
        "id": "Q4bFVGq4jyl4",
        "outputId": "77095266-f1f6-470b-8a2c-ce98e1505feb"
      },
      "execution_count": null,
      "outputs": [
        {
          "output_type": "stream",
          "name": "stdout",
          "text": [
            "[[6 0]\n",
            " [1 3]]\n"
          ]
        }
      ]
    }
  ],
  "metadata": {
    "colab": {
      "provenance": []
    },
    "kernelspec": {
      "display_name": "Python 3",
      "name": "python3"
    },
    "language_info": {
      "name": "python"
    }
  },
  "nbformat": 4,
  "nbformat_minor": 0
}